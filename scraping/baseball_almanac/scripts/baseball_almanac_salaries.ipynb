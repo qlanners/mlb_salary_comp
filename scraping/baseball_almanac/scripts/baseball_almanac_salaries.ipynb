{
 "cells": [
  {
   "cell_type": "code",
   "execution_count": 1,
   "metadata": {},
   "outputs": [],
   "source": [
    "import requests\n",
    "import bs4\n",
    "import pandas as pd\n",
    "import datetime as dt\n",
    "from time import perf_counter\n",
    "from math import floor"
   ]
  },
  {
   "cell_type": "code",
   "execution_count": 71,
   "metadata": {},
   "outputs": [],
   "source": [
    "df = pd.read_csv('list_of_players.csv')\n",
    "df = df.drop_duplicates()\n",
    "df = df[df['NAME_KEY'] == 'molinbe01']\n",
    "#df[(df['NAME_KEY'].str.contains('\\\\.')) | (df['NAME_KEY'].str.contains(\"'\"))]\n",
    "#df = df.sample(20)"
   ]
  },
  {
   "cell_type": "code",
   "execution_count": null,
   "metadata": {},
   "outputs": [],
   "source": []
  },
  {
   "cell_type": "code",
   "execution_count": 72,
   "metadata": {},
   "outputs": [
    {
     "name": "stdout",
     "output_type": "stream",
     "text": [
      "----------Bengie Molina---------------\n",
      "\n",
      "-------------------------------------------\n",
      "\n"
     ]
    }
   ],
   "source": [
    "YEAR = []\n",
    "TEAM = []\n",
    "SALARY = []\n",
    "ALL_STAR = []\n",
    "WORLD_SERIES = []\n",
    "\n",
    "\n",
    "for name,key in zip(df.NAME,df.NAME_KEY):\n",
    "\n",
    "    player_key = key\n",
    "    \n",
    "    url = 'https://www.baseball-almanac.com/players/player.php?p=' + player_key\n",
    "\n",
    "    res = requests.get(url)\n",
    "    soup=bs4.BeautifulSoup(res.text, 'html.parser')\n",
    "\n",
    "    tables = soup('table')\n",
    "    teams_soup = tables[-9].find_all('td', class_=\"datacol\")\n",
    "    salaries_soup = tables[-9].find_all('td', class_=\"datacolR\")\n",
    "    uniform_num_soup = tables[-9].find_all('td', class_=\"datacolC\")[0::3]\n",
    "    all_star_soup = tables[-9].find_all('td', class_=\"datacolC\")[1::3]\n",
    "    world_series = tables[-9].find_all('td', class_=\"datacolC\")[2::3]\n",
    "    \n",
    "    print('----------' + str(name) + '---------------\\n')\n",
    "    for t,s,u,a,w in zip(teams_soup, salaries_soup, uniform_num_soup, all_star_soup, world_series):\n",
    "        print('Year:',t.text.split()[0])\n",
    "        print('Team:', ' '.join(t.text.split()[1:]))\n",
    "        print('Uniform #:', u.text)\n",
    "        print('Salary:', s.text.replace('$','').replace(',','').replace('.00',''))\n",
    "        \n",
    "        if a.text == 'Stats':\n",
    "            all_star = 'yes'\n",
    "        else:\n",
    "            all_star = 'no'\n",
    "        print('All-Star game:', all_star)\n",
    "        \n",
    "        if w.text == 'Stats':\n",
    "            world_series = 'yes'\n",
    "        else:\n",
    "            world_series = 'no'\n",
    "        print('World Series:', world_series)\n",
    "    print('-------------------------------------------\\n')\n",
    "    "
   ]
  },
  {
   "cell_type": "code",
   "execution_count": 52,
   "metadata": {},
   "outputs": [
    {
     "data": {
      "text/plain": [
       "<table class=\"boxed\" width=\"100%\">\n",
       "<tr>\n",
       "<td class=\"header\" colspan=\"5\" nowrap=\"\">Donzell McDonald<p>Donzell McDonald Miscellaneous Items of Interest</p></td>\n",
       "</tr>\n",
       "<tr>\n",
       "<td class=\"banner\" nowrap=\"\">Team [Click for Roster]</td>\n",
       "<td class=\"banner\" nowrap=\"\">Uniform Numbers</td>\n",
       "<td class=\"banner\" nowrap=\"\">Salary</td>\n",
       "<td class=\"banner\" nowrap=\"\">All-Star</td>\n",
       "<td class=\"banner\" nowrap=\"\">World Series</td>\n",
       "</tr>\n",
       "<tr>\n",
       "<td class=\"datacol\" nowrap=\"\"><a href=\"../teamstats/roster.php?y=2001&amp;t=NYA\" title=\"Show Team Base Running Stats\">2001 New York Yankees</a></td>\n",
       "<td class=\"datacolC\" nowrap=\"\"><a href=\"/teams/baseball_uniform_numbers.php?t=NYA#uni-59\">59</a></td>\n",
       "<td class=\"datacolR\" nowrap=\"\">$200,000.00</td>\n",
       "<td class=\"datacolC\" nowrap=\"\">-</td>\n",
       "<td class=\"datacolC\" nowrap=\"\">-</td>\n",
       "</tr>\n",
       "<tr>\n",
       "<td class=\"datacol\" nowrap=\"\"><a href=\"../teamstats/roster.php?y=2002&amp;t=KCA\" title=\"Show Team Base Running Stats\">2002 Kansas City Royals</a></td>\n",
       "<td class=\"datacolC\" nowrap=\"\"><a href=\"/teams/baseball_uniform_numbers.php?t=KCA#uni-19\">19</a></td>\n",
       "<td class=\"datacolR\" nowrap=\"\">$200,000.00</td>\n",
       "<td class=\"datacolC\" nowrap=\"\">-</td>\n",
       "<td class=\"datacolC\" nowrap=\"\">-</td>\n",
       "</tr>\n",
       "<tr>\n",
       "<td class=\"banner\" colspan=\"5\" nowrap=\"\">Donzell McDonald Stats by Baseball Almanac</td>\n",
       "</tr>\n",
       "</table>"
      ]
     },
     "execution_count": 52,
     "metadata": {},
     "output_type": "execute_result"
    }
   ],
   "source": [
    "tables[-9]"
   ]
  },
  {
   "cell_type": "code",
   "execution_count": 59,
   "metadata": {},
   "outputs": [
    {
     "data": {
      "text/plain": [
       "True"
      ]
     },
     "execution_count": 59,
     "metadata": {},
     "output_type": "execute_result"
    }
   ],
   "source": [
    "'1234A'.isalnum()"
   ]
  },
  {
   "cell_type": "code",
   "execution_count": null,
   "metadata": {},
   "outputs": [],
   "source": []
  }
 ],
 "metadata": {
  "kernelspec": {
   "display_name": "Python 3",
   "language": "python",
   "name": "python3"
  },
  "language_info": {
   "codemirror_mode": {
    "name": "ipython",
    "version": 3
   },
   "file_extension": ".py",
   "mimetype": "text/x-python",
   "name": "python",
   "nbconvert_exporter": "python",
   "pygments_lexer": "ipython3",
   "version": "3.7.4"
  }
 },
 "nbformat": 4,
 "nbformat_minor": 2
}
