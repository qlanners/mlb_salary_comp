{
 "cells": [
  {
   "cell_type": "code",
   "execution_count": 2,
   "metadata": {},
   "outputs": [],
   "source": [
    "import requests\n",
    "import bs4\n",
    "import pandas as pd\n",
    "from time import perf_counter\n",
    "from math import floor"
   ]
  },
  {
   "cell_type": "code",
   "execution_count": 1,
   "metadata": {},
   "outputs": [],
   "source": [
    "year = 2018\n",
    "url = 'https://www.baseball-reference.com/leagues/MLB/' + str(year) + '-team-starting-lineups.shtml'"
   ]
  },
  {
   "cell_type": "code",
   "execution_count": 3,
   "metadata": {},
   "outputs": [],
   "source": [
    "res = requests.get(url)\n",
    "soup=bs4.BeautifulSoup(res.text, 'html.parser')"
   ]
  },
  {
   "cell_type": "code",
   "execution_count": 41,
   "metadata": {},
   "outputs": [],
   "source": [
    "tbody = soup.find('tbody')\n",
    "table = soup.find('table')"
   ]
  },
  {
   "cell_type": "code",
   "execution_count": 16,
   "metadata": {},
   "outputs": [
    {
     "data": {
      "text/plain": [
       "30"
      ]
     },
     "execution_count": 16,
     "metadata": {},
     "output_type": "execute_result"
    }
   ],
   "source": [
    "len(tbody('tr'))"
   ]
  },
  {
   "cell_type": "code",
   "execution_count": 43,
   "metadata": {},
   "outputs": [
    {
     "data": {
      "text/plain": [
       "<tr><th class=\"right\" data-stat=\"ranker\" scope=\"row\">1</th><td class=\"left\" csk=\"22.22\" data-stat=\"team_ID\"><a href=\"/teams/ARI/2018.shtml\">ARI</a> (82-80, 22.22 oWAR)</td><td class=\"right poptip\" csk=\"-0.33\" data-stat=\"c\" data-tip=\"J.Murphy (68 gm)&lt;br&gt;J.Mathis (63 gm)&lt;br&gt;A.Avila (61 gm)&lt;br&gt;C.Stewart (3 gm)\"><a href=\"/players/m/murphjr01.shtml\">J.Murphy</a> (-0.33)</td><td class=\"right poptip\" csk=\"6.18\" data-stat=\"1b\" data-tip=\"P.Goldschmidt (155 gm)&lt;br&gt;D.Descalso (11 gm)&lt;br&gt;C.Walker (7 gm)&lt;br&gt;A.Avila (3 gm)\"><a href=\"/players/g/goldspa01.shtml\">P.Goldschmidt</a> (6.18)</td><td class=\"right poptip\" csk=\"4.00\" data-stat=\"2b\" data-tip=\"K.Marte (131 gm)&lt;br&gt;D.Descalso (52 gm)&lt;br&gt;C.Owings (9 gm)&lt;br&gt;D.Marrero (5 gm)&lt;br&gt;I.Vargas (2 gm)&lt;br&gt;J.Mathis (1 gm)\"><a href=\"/players/m/marteke01.shtml\">K.Marte</a> (4.00)</td><td class=\"right poptip\" csk=\"0.73\" data-stat=\"3b\" data-tip=\"E.Escobar (54 gm)&lt;br&gt;J.Lamb (52 gm)&lt;br&gt;D.Descalso (37 gm)&lt;br&gt;D.Marrero (33 gm)&lt;br&gt;C.Owings (15 gm)&lt;br&gt;I.Vargas (3 gm)\"><a href=\"/players/e/escobed01.shtml\">E.Escobar</a> (0.73)</td><td class=\"right poptip\" csk=\"4.39\" data-stat=\"ss\" data-tip=\"N.Ahmed (148 gm)&lt;br&gt;K.Marte (28 gm)&lt;br&gt;I.Vargas (1 gm)\"><a href=\"/players/a/ahmedni01.shtml\">N.Ahmed</a> (4.39)</td><td class=\"right poptip\" csk=\"3.70\" data-stat=\"lf\" data-tip=\"D.Peralta (138 gm)&lt;br&gt;J.Jay (14 gm)&lt;br&gt;J.Dyson (6 gm)&lt;br&gt;D.Descalso (5 gm)&lt;br&gt;P.Kivlehan (4 gm)&lt;br&gt;S.Brito (3 gm)&lt;br&gt;C.Owings (3 gm)&lt;br&gt;C.Walker (1 gm)\"><a href=\"/players/p/peralda01.shtml\">D.Peralta</a> (3.70)</td><td class=\"right poptip\" csk=\"2.44\" data-stat=\"cf\" data-tip=\"A.Pollock (109 gm)&lt;br&gt;J.Dyson (41 gm)&lt;br&gt;C.Owings (16 gm)&lt;br&gt;J.Jay (10 gm)&lt;br&gt;S.Brito (1 gm)&lt;br&gt;S.Souza (1 gm)\"><a href=\"/players/p/polloaj01.shtml\">A.Pollock</a> (2.44)</td><td class=\"right poptip\" csk=\"-0.38\" data-stat=\"rf\" data-tip=\"S.Souza (65 gm)&lt;br&gt;J.Jay (45 gm)&lt;br&gt;C.Owings (43 gm)&lt;br&gt;J.Dyson (18 gm)&lt;br&gt;S.Brito (11 gm)&lt;br&gt;D.Peralta (5 gm)&lt;br&gt;K.Negron (1 gm)\"><a href=\"/players/s/souzast01.shtml\">S.Souza</a> (-0.38)</td><td class=\"right poptip\" csk=\"0.86\" data-stat=\"dh\" data-tip=\"D.Descalso (7 gm)&lt;br&gt;P.Goldschmidt (2 gm)&lt;br&gt;J.Murphy (1 gm)&lt;br&gt;C.Walker (1 gm)\"><a href=\"/players/d/descada01.shtml\">D.Descalso</a> (0.86)</td></tr>"
      ]
     },
     "execution_count": 43,
     "metadata": {},
     "output_type": "execute_result"
    }
   ],
   "source": [
    "table('tr')[1]"
   ]
  },
  {
   "cell_type": "code",
   "execution_count": 40,
   "metadata": {},
   "outputs": [],
   "source": [
    "TEAM = []\n",
    "NAME = []\n",
    "NAMEKEY = []\n",
    "POSITION = []"
   ]
  },
  {
   "cell_type": "code",
   "execution_count": 54,
   "metadata": {},
   "outputs": [],
   "source": [
    "cols = ['C', '1B', '2B', '3B', 'SS','LF','CF','RF','DH']"
   ]
  },
  {
   "cell_type": "code",
   "execution_count": 58,
   "metadata": {},
   "outputs": [
    {
     "name": "stdout",
     "output_type": "stream",
     "text": [
      "2018 ARI done\n",
      "2018 ATL done\n",
      "2018 BAL done\n",
      "2018 BOS done\n",
      "2018 CHC done\n",
      "2018 CHW done\n",
      "2018 CIN done\n",
      "2018 CLE done\n",
      "2018 COL done\n",
      "2018 DET done\n",
      "2018 HOU done\n",
      "2018 KCR done\n",
      "2018 LAA done\n",
      "2018 LAD done\n",
      "2018 MIA done\n",
      "2018 MIL done\n",
      "2018 MIN done\n",
      "2018 NYM done\n",
      "2018 NYY done\n",
      "2018 OAK done\n",
      "2018 PHI done\n",
      "2018 PIT done\n",
      "2018 SDP done\n",
      "2018 SEA done\n",
      "2018 SFG done\n",
      "2018 STL done\n",
      "2018 TBR done\n",
      "2018 TEX done\n",
      "2018 TOR done\n",
      "2018 WSN done\n"
     ]
    },
    {
     "data": {
      "text/html": [
       "<div>\n",
       "<style scoped>\n",
       "    .dataframe tbody tr th:only-of-type {\n",
       "        vertical-align: middle;\n",
       "    }\n",
       "\n",
       "    .dataframe tbody tr th {\n",
       "        vertical-align: top;\n",
       "    }\n",
       "\n",
       "    .dataframe thead th {\n",
       "        text-align: right;\n",
       "    }\n",
       "</style>\n",
       "<table border=\"1\" class=\"dataframe\">\n",
       "  <thead>\n",
       "    <tr style=\"text-align: right;\">\n",
       "      <th></th>\n",
       "      <th>team</th>\n",
       "      <th>year</th>\n",
       "      <th>name</th>\n",
       "      <th>nameKey</th>\n",
       "      <th>pos</th>\n",
       "    </tr>\n",
       "  </thead>\n",
       "  <tbody>\n",
       "    <tr>\n",
       "      <th>0</th>\n",
       "      <td>ARI</td>\n",
       "      <td>2018</td>\n",
       "      <td>J.Murphy</td>\n",
       "      <td>murphjr01</td>\n",
       "      <td>C</td>\n",
       "    </tr>\n",
       "    <tr>\n",
       "      <th>1</th>\n",
       "      <td>ARI</td>\n",
       "      <td>2018</td>\n",
       "      <td>P.Goldschmidt</td>\n",
       "      <td>goldspa01</td>\n",
       "      <td>1B</td>\n",
       "    </tr>\n",
       "    <tr>\n",
       "      <th>2</th>\n",
       "      <td>ARI</td>\n",
       "      <td>2018</td>\n",
       "      <td>K.Marte</td>\n",
       "      <td>marteke01</td>\n",
       "      <td>2B</td>\n",
       "    </tr>\n",
       "    <tr>\n",
       "      <th>3</th>\n",
       "      <td>ARI</td>\n",
       "      <td>2018</td>\n",
       "      <td>E.Escobar</td>\n",
       "      <td>escobed01</td>\n",
       "      <td>3B</td>\n",
       "    </tr>\n",
       "    <tr>\n",
       "      <th>4</th>\n",
       "      <td>ARI</td>\n",
       "      <td>2018</td>\n",
       "      <td>N.Ahmed</td>\n",
       "      <td>ahmedni01</td>\n",
       "      <td>SS</td>\n",
       "    </tr>\n",
       "    <tr>\n",
       "      <th>...</th>\n",
       "      <td>...</td>\n",
       "      <td>...</td>\n",
       "      <td>...</td>\n",
       "      <td>...</td>\n",
       "      <td>...</td>\n",
       "    </tr>\n",
       "    <tr>\n",
       "      <th>265</th>\n",
       "      <td>WSN</td>\n",
       "      <td>2018</td>\n",
       "      <td>T.Turner</td>\n",
       "      <td>turnetr01</td>\n",
       "      <td>SS</td>\n",
       "    </tr>\n",
       "    <tr>\n",
       "      <th>266</th>\n",
       "      <td>WSN</td>\n",
       "      <td>2018</td>\n",
       "      <td>J.Soto</td>\n",
       "      <td>sotoju01</td>\n",
       "      <td>LF</td>\n",
       "    </tr>\n",
       "    <tr>\n",
       "      <th>267</th>\n",
       "      <td>WSN</td>\n",
       "      <td>2018</td>\n",
       "      <td>M.Taylor</td>\n",
       "      <td>taylomi02</td>\n",
       "      <td>CF</td>\n",
       "    </tr>\n",
       "    <tr>\n",
       "      <th>268</th>\n",
       "      <td>WSN</td>\n",
       "      <td>2018</td>\n",
       "      <td>B.Harper</td>\n",
       "      <td>harpebr03</td>\n",
       "      <td>RF</td>\n",
       "    </tr>\n",
       "    <tr>\n",
       "      <th>269</th>\n",
       "      <td>WSN</td>\n",
       "      <td>2018</td>\n",
       "      <td>M.Adams</td>\n",
       "      <td>adamsma01</td>\n",
       "      <td>DH</td>\n",
       "    </tr>\n",
       "  </tbody>\n",
       "</table>\n",
       "<p>270 rows × 5 columns</p>\n",
       "</div>"
      ],
      "text/plain": [
       "    team  year           name    nameKey pos\n",
       "0    ARI  2018       J.Murphy  murphjr01   C\n",
       "1    ARI  2018  P.Goldschmidt  goldspa01  1B\n",
       "2    ARI  2018        K.Marte  marteke01  2B\n",
       "3    ARI  2018      E.Escobar  escobed01  3B\n",
       "4    ARI  2018        N.Ahmed  ahmedni01  SS\n",
       "..   ...   ...            ...        ...  ..\n",
       "265  WSN  2018       T.Turner  turnetr01  SS\n",
       "266  WSN  2018         J.Soto   sotoju01  LF\n",
       "267  WSN  2018       M.Taylor  taylomi02  CF\n",
       "268  WSN  2018       B.Harper  harpebr03  RF\n",
       "269  WSN  2018        M.Adams  adamsma01  DH\n",
       "\n",
       "[270 rows x 5 columns]"
      ]
     },
     "execution_count": 58,
     "metadata": {},
     "output_type": "execute_result"
    }
   ],
   "source": [
    "dataDict = {}\n",
    "dataDict['team'] = []\n",
    "dataDict['year'] = []\n",
    "dataDict['name'] = []\n",
    "dataDict['nameKey'] = []\n",
    "dataDict['pos'] = []\n",
    "\n",
    "\n",
    "for tr in tbody('tr'):\n",
    "    for a, t in zip(tr.find_all('a')[1:], cols):\n",
    "        dataDict['team'].append(tr.find('a').text)\n",
    "        dataDict['year'].append(year)\n",
    "        dataDict['name'].append(a.text)\n",
    "        dataDict['nameKey'].append(a['href'][11:-6])\n",
    "        dataDict['pos'].append(t)\n",
    "        #print(tr.find('a').text, a.text, a['href'][11:-6], t)\n",
    "        \n",
    "    print(year, tr.find('a').text, 'done')\n",
    "    \n",
    "columns = ['team','year', 'name', 'nameKey', 'pos']  \n",
    "df = pd.DataFrame(dataDict, columns = columns)\n",
    "df"
   ]
  },
  {
   "cell_type": "code",
   "execution_count": 44,
   "metadata": {},
   "outputs": [
    {
     "data": {
      "text/plain": [
       "'ARI'"
      ]
     },
     "execution_count": 44,
     "metadata": {},
     "output_type": "execute_result"
    }
   ],
   "source": [
    "tbody('tr')[0].find_all('a')[0].text"
   ]
  },
  {
   "cell_type": "code",
   "execution_count": null,
   "metadata": {},
   "outputs": [],
   "source": []
  }
 ],
 "metadata": {
  "kernelspec": {
   "display_name": "Python 3",
   "language": "python",
   "name": "python3"
  },
  "language_info": {
   "codemirror_mode": {
    "name": "ipython",
    "version": 3
   },
   "file_extension": ".py",
   "mimetype": "text/x-python",
   "name": "python",
   "nbconvert_exporter": "python",
   "pygments_lexer": "ipython3",
   "version": "3.7.7"
  }
 },
 "nbformat": 4,
 "nbformat_minor": 4
}
