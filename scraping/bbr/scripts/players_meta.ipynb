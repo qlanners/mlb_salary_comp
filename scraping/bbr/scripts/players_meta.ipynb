{
 "cells": [
  {
   "cell_type": "code",
   "execution_count": 1,
   "metadata": {},
   "outputs": [],
   "source": [
    "import requests\n",
    "import bs4\n",
    "from time import perf_counter"
   ]
  },
  {
   "cell_type": "code",
   "execution_count": 2,
   "metadata": {},
   "outputs": [],
   "source": [
    "url = 'https://www.baseball-reference.com/players/g/galvifr01.shtml'\n",
    "res = requests.get(url)\n",
    "soup=bs4.BeautifulSoup(res.text, 'html.parser')"
   ]
  },
  {
   "cell_type": "code",
   "execution_count": 3,
   "metadata": {},
   "outputs": [],
   "source": [
    "meta = soup.find('div', {'id':'meta'})"
   ]
  },
  {
   "cell_type": "code",
   "execution_count": 105,
   "metadata": {},
   "outputs": [],
   "source": [
    "BATS = []\n",
    "THROWS = []\n",
    "HEIGHT = []\n",
    "HEIGHT_FT = []\n",
    "HEIGHT_IN = []\n",
    "HEIGHT_CM = []\n",
    "WEIGHT_LB = []\n",
    "WEIGHT_KG = []\n",
    "BIRTHDATE = []\n",
    "BIRTHPLACE = []"
   ]
  },
  {
   "cell_type": "code",
   "execution_count": 106,
   "metadata": {},
   "outputs": [],
   "source": [
    "for p in meta.find_all('strong'):\n",
    "    \n",
    "    if p.text == \"Bats: \":\n",
    "        bats = p.next_sibling.replace('\\n','').replace(' ','').replace('\\xa0','').replace('•','').replace('\\t','')\n",
    "    \n",
    "    if p.text == \"Throws: \":\n",
    "        throws = p.next_sibling.replace('\\n','').replace(' ','').replace('\\xa0','').replace('•','').replace('\\t','')\n",
    "\n",
    "height = meta.find('span', {'itemprop':'height'}).text\n",
    "weight_lb = int(meta.find('span', {'itemprop':'weight'}).text[:-2])\n",
    "birthdate = meta.find('span',{'id':'necro-birth'}).get(\"data-birth\")\n",
    "birthplace = meta.find('span',{'itemprop':'birthPlace'}).find_next('span').text\n",
    "h_ft = int(height.split('-')[0])\n",
    "h_in = int(height.split('-')[1]) \n",
    "h_inch = h_in + h_ft * 12\n",
    "h_cm = h_inch * 2.54\n",
    "weight_kg = weight*0.453592\n",
    "\n",
    "\n",
    "\n",
    "BATS.append(bats)\n",
    "THROWS.append(throws)\n",
    "HEIGHT.append(height)\n",
    "HEIGHT_FT.append(h_ft)\n",
    "HEIGHT_IN.append(h_in)\n",
    "HEIGHT_CM.append(h_cm)\n",
    "WEIGHT_LB.append(weight_lb)\n",
    "WEIGHT_KG.append(weight_kg)\n",
    "BIRTHDATE.append(birthdate)\n",
    "BIRTHPLACE.append(birthplace)"
   ]
  },
  {
   "cell_type": "code",
   "execution_count": 107,
   "metadata": {},
   "outputs": [
    {
     "name": "stdout",
     "output_type": "stream",
     "text": [
      "['Both'] ['Right'] ['5-10'] [5] [10] [177.8] [185] [83.91452] ['1989-11-14'] ['ve']\n"
     ]
    }
   ],
   "source": [
    "print(BATS, THROWS, HEIGHT, HEIGHT_FT,HEIGHT_IN,HEIGHT_CM, WEIGHT_LB, WEIGHT_KG, BIRTHDATE, BIRTHPLACE)"
   ]
  },
  {
   "cell_type": "code",
   "execution_count": 22,
   "metadata": {},
   "outputs": [
    {
     "data": {
      "text/plain": [
       "'5-10'"
      ]
     },
     "execution_count": 22,
     "metadata": {},
     "output_type": "execute_result"
    }
   ],
   "source": [
    "meta.find('span', {'itemprop':'height'}).text"
   ]
  },
  {
   "cell_type": "code",
   "execution_count": 23,
   "metadata": {},
   "outputs": [
    {
     "data": {
      "text/plain": [
       "'185lb'"
      ]
     },
     "execution_count": 23,
     "metadata": {},
     "output_type": "execute_result"
    }
   ],
   "source": [
    "meta.find('span', {'itemprop':'weight'}).text"
   ]
  },
  {
   "cell_type": "code",
   "execution_count": 49,
   "metadata": {},
   "outputs": [
    {
     "data": {
      "text/plain": [
       "'\\n    \\n      in Punto Fijo, Venezuela\\n'"
      ]
     },
     "execution_count": 49,
     "metadata": {},
     "output_type": "execute_result"
    }
   ],
   "source": [
    "meta.find('span',{'itemprop':'birthPlace'}).text"
   ]
  },
  {
   "cell_type": "code",
   "execution_count": 58,
   "metadata": {},
   "outputs": [
    {
     "data": {
      "text/plain": [
       "'ve'"
      ]
     },
     "execution_count": 58,
     "metadata": {},
     "output_type": "execute_result"
    }
   ],
   "source": [
    "meta.find('span',{'itemprop':'birthPlace'}).find_next('span').text"
   ]
  },
  {
   "cell_type": "code",
   "execution_count": 59,
   "metadata": {},
   "outputs": [
    {
     "data": {
      "text/plain": [
       "'1989-11-14'"
      ]
     },
     "execution_count": 59,
     "metadata": {},
     "output_type": "execute_result"
    }
   ],
   "source": [
    "meta.find('span',{'id':'necro-birth'}).get(\"data-birth\")"
   ]
  },
  {
   "cell_type": "code",
   "execution_count": 91,
   "metadata": {},
   "outputs": [],
   "source": [
    "h_ft = int(height.split('-')[0])\n",
    "h_inch = int(height.split('-')[1]) \n",
    "h_inch += h_ft * 12\n",
    "h_cm = h_inch * 2.54"
   ]
  },
  {
   "cell_type": "code",
   "execution_count": 90,
   "metadata": {},
   "outputs": [
    {
     "data": {
      "text/plain": [
       "177.8"
      ]
     },
     "execution_count": 90,
     "metadata": {},
     "output_type": "execute_result"
    }
   ],
   "source": [
    "h_cm"
   ]
  },
  {
   "cell_type": "code",
   "execution_count": 96,
   "metadata": {},
   "outputs": [],
   "source": [
    "weight_kg = weight*0.453592"
   ]
  },
  {
   "cell_type": "code",
   "execution_count": 95,
   "metadata": {},
   "outputs": [
    {
     "data": {
      "text/plain": [
       "83.91452"
      ]
     },
     "execution_count": 95,
     "metadata": {},
     "output_type": "execute_result"
    }
   ],
   "source": [
    "weight_kg"
   ]
  },
  {
   "cell_type": "code",
   "execution_count": null,
   "metadata": {},
   "outputs": [],
   "source": []
  }
 ],
 "metadata": {
  "kernelspec": {
   "display_name": "Python 3",
   "language": "python",
   "name": "python3"
  },
  "language_info": {
   "codemirror_mode": {
    "name": "ipython",
    "version": 3
   },
   "file_extension": ".py",
   "mimetype": "text/x-python",
   "name": "python",
   "nbconvert_exporter": "python",
   "pygments_lexer": "ipython3",
   "version": "3.7.1"
  }
 },
 "nbformat": 4,
 "nbformat_minor": 2
}
