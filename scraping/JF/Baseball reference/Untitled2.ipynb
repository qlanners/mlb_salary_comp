{
 "cells": [
  {
   "cell_type": "code",
   "execution_count": 1,
   "metadata": {},
   "outputs": [],
   "source": [
    "import requests\n",
    "import bs4\n",
    "import pandas as pd\n",
    "import datetime as dt"
   ]
  },
  {
   "cell_type": "code",
   "execution_count": 8,
   "metadata": {},
   "outputs": [],
   "source": [
    "df = pd.read_csv('free_agents.csv')"
   ]
  },
  {
   "cell_type": "code",
   "execution_count": 9,
   "metadata": {},
   "outputs": [
    {
     "data": {
      "text/plain": [
       "Index(['NAME', 'NAME_KEY', 'YEAR', 'ARRIVAL_DT', 'ARRIVAL_METHOD',\n",
       "       'WAS_DRAFTED', 'DRAFT_ROUND', 'SIGNED_DT', 'BIRTHDATE',\n",
       "       'AGE_WHEN_SIGNED', 'FREE_AGENT_DT', 'IS_FREE_AGENT_NOW',\n",
       "       'SEASON_START_DT', 'PLAYER_URL'],\n",
       "      dtype='object')"
      ]
     },
     "execution_count": 9,
     "metadata": {},
     "output_type": "execute_result"
    }
   ],
   "source": [
    "df.columns"
   ]
  },
  {
   "cell_type": "code",
   "execution_count": 10,
   "metadata": {},
   "outputs": [
    {
     "data": {
      "text/plain": [
       "Drafted      21148\n",
       "Signed        6735\n",
       "Purchased      255\n",
       "Name: ARRIVAL_METHOD, dtype: int64"
      ]
     },
     "execution_count": 10,
     "metadata": {},
     "output_type": "execute_result"
    }
   ],
   "source": [
    "df.ARRIVAL_METHOD.value_counts()"
   ]
  },
  {
   "cell_type": "code",
   "execution_count": 11,
   "metadata": {},
   "outputs": [
    {
     "data": {
      "text/plain": [
       "yes    14568\n",
       "no     13570\n",
       "Name: IS_FREE_AGENT_NOW, dtype: int64"
      ]
     },
     "execution_count": 11,
     "metadata": {},
     "output_type": "execute_result"
    }
   ],
   "source": [
    "df.IS_FREE_AGENT_NOW.value_counts()"
   ]
  },
  {
   "cell_type": "code",
   "execution_count": 12,
   "metadata": {},
   "outputs": [
    {
     "data": {
      "text/plain": [
       "1983-04-19    48\n",
       "1982-10-22    42\n",
       "1977-04-19    38\n",
       "1980-10-19    38\n",
       "1983-11-17    37\n",
       "1986-03-06    37\n",
       "1975-11-18    36\n",
       "1983-09-09    36\n",
       "1987-08-25    35\n",
       "1983-10-21    35\n",
       "1983-02-22    35\n",
       "1976-03-18    35\n",
       "1980-03-11    34\n",
       "1987-01-21    34\n",
       "1984-02-27    34\n",
       "1983-04-08    34\n",
       "1982-07-13    32\n",
       "1983-04-13    32\n",
       "1974-12-24    31\n",
       "1972-06-15    30\n",
       "1986-10-09    30\n",
       "1983-01-20    30\n",
       "1975-09-05    30\n",
       "1982-03-24    30\n",
       "1982-01-07    30\n",
       "1976-08-22    29\n",
       "1977-12-21    29\n",
       "1985-08-26    28\n",
       "1983-03-16    28\n",
       "1979-08-31    28\n",
       "              ..\n",
       "1996-08-02     1\n",
       "1985-08-05     1\n",
       "1994-05-01     1\n",
       "1995-04-30     1\n",
       "1996-11-01     1\n",
       "1995-09-05     1\n",
       "1978-08-11     1\n",
       "1985-07-07     1\n",
       "1994-09-30     1\n",
       "1965-02-09     1\n",
       "1995-10-09     1\n",
       "1976-05-09     1\n",
       "1981-06-09     1\n",
       "1957-06-24     1\n",
       "1996-07-06     1\n",
       "1979-01-28     1\n",
       "1982-04-26     1\n",
       "1963-11-28     1\n",
       "1978-06-05     1\n",
       "1991-10-09     1\n",
       "1994-08-30     1\n",
       "1970-12-25     1\n",
       "1989-09-20     1\n",
       "1996-04-30     1\n",
       "1993-11-23     1\n",
       "1991-05-18     1\n",
       "1977-11-30     1\n",
       "1997-11-23     1\n",
       "1984-05-25     1\n",
       "1990-08-23     1\n",
       "Name: BIRTHDATE, Length: 4366, dtype: int64"
      ]
     },
     "execution_count": 12,
     "metadata": {},
     "output_type": "execute_result"
    }
   ],
   "source": [
    "df.BIRTHDATE.value_counts()"
   ]
  },
  {
   "cell_type": "code",
   "execution_count": null,
   "metadata": {},
   "outputs": [],
   "source": []
  }
 ],
 "metadata": {
  "kernelspec": {
   "display_name": "Python 3",
   "language": "python",
   "name": "python3"
  },
  "language_info": {
   "codemirror_mode": {
    "name": "ipython",
    "version": 3
   },
   "file_extension": ".py",
   "mimetype": "text/x-python",
   "name": "python",
   "nbconvert_exporter": "python",
   "pygments_lexer": "ipython3",
   "version": "3.7.1"
  }
 },
 "nbformat": 4,
 "nbformat_minor": 2
}
