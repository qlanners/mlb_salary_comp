{
 "cells": [
  {
   "cell_type": "code",
   "execution_count": 1,
   "metadata": {},
   "outputs": [],
   "source": [
    "import requests\n",
    "import bs4\n",
    "from collections import Counter\n",
    "import statistics as stat\n",
    "import pandas as pd\n",
    "from time import perf_counter\n",
    "from math import floor"
   ]
  },
  {
   "cell_type": "code",
   "execution_count": 112,
   "metadata": {},
   "outputs": [],
   "source": [
    "url_PG = \"https://www.baseball-reference.com/players/gl.fcgi?id=verlaju01&t=p&year=2019\"\n",
    "res_PG = requests.get(url_PG)\n",
    "soup_PG=bs4.BeautifulSoup(res_PG.text, 'html.parser')"
   ]
  },
  {
   "cell_type": "code",
   "execution_count": 113,
   "metadata": {},
   "outputs": [],
   "source": [
    "def try_INT_or_zero(x):\n",
    "    try:\n",
    "        return int(x)\n",
    "    except:\n",
    "        return 0\n",
    "\n",
    "def try_FLOAT_or_zero(x):\n",
    "    try:\n",
    "        return float(x)\n",
    "    except:\n",
    "        return 0\n",
    "\n",
    "def try_TEAM(x,n):\n",
    "    try:\n",
    "        return x[n]\n",
    "    except:\n",
    "        return \"NA\""
   ]
  },
  {
   "cell_type": "code",
   "execution_count": 114,
   "metadata": {},
   "outputs": [],
   "source": [
    "body = soup_PG.find('tbody')\n",
    "body_TEAMID = body.find_all('td', {'data-stat':'team_ID'})\n",
    "body_GTM = body.find_all('td', {'data-stat':'team_game_num'})\n",
    "body_RSLT = body.find_all('td', {'data-stat':'game_result'})\n",
    "body_INNGS = body.find_all('td', {'data-stat':'player_game_span'})\n",
    "body_DEC = body.find_all('td', {'data-stat':'player_game_result'})\n",
    "body_DR = body.find_all('td', {'data-stat':'days_rest'})\n",
    "body_IP = body.find_all('td', {'data-stat':'IP'})\n",
    "body_H = body.find_all('td', {'data-stat':'H'})\n",
    "body_R = body.find_all('td', {'data-stat':'R'})\n",
    "body_ER = body.find_all('td', {'data-stat':'ER'})\n",
    "body_BB = body.find_all('td', {'data-stat':'BB'})\n",
    "body_SO = body.find_all('td', {'data-stat':'SO'})\n",
    "body_HR = body.find_all('td', {'data-stat':'HR'})\n",
    "body_HBP = body.find_all('td', {'data-stat':'HBP'})\n",
    "body_ERA = body.find_all('td', {'data-stat':'earned_run_avg'})\n",
    "body_BF = body.find_all('td', {'data-stat':'batters_faced'})\n",
    "body_PIT = body.find_all('td', {'data-stat':'pitches'})\n",
    "body_STR = body.find_all('td', {'data-stat':'strikes_total'})\n",
    "body_STL = body.find_all('td', {'data-stat':'strikes_looking'})\n",
    "body_STS = body.find_all('td', {'data-stat':'strikes_swinging'})\n",
    "body_GB = body.find_all('td', {'data-stat':'inplay_gb_total'})\n",
    "body_FB = body.find_all('td', {'data-stat':'inplay_fb_total'})\n",
    "body_LD = body.find_all('td', {'data-stat':'inplay_ld'})\n",
    "body_PU = body.find_all('td', {'data-stat':'inplay_pu'})\n",
    "body_UNK = body.find_all('td', {'data-stat':'inplay_unk'})\n",
    "body_IR = body.find_all('td', {'data-stat':'inherited_runners'})\n",
    "body_IS = body.find_all('td', {'data-stat':'inherited_score'})\n",
    "body_SB = body.find_all('td', {'data-stat':'SB'})\n",
    "body_CS = body.find_all('td', {'data-stat':'CS'})\n",
    "body_PO = body.find_all('td', {'data-stat':'pickoffs'})\n",
    "body_AB = body.find_all('td', {'data-stat':'AB'})\n",
    "body_2B = body.find_all('td', {'data-stat':'2B'})\n",
    "body_3B = body.find_all('td', {'data-stat':'3B'})\n",
    "body_IBB = body.find_all('td', {'data-stat':'IBB'})\n",
    "body_GDP = body.find_all('td', {'data-stat':'GIDP'})\n",
    "body_SF = body.find_all('td', {'data-stat':'SF'})\n",
    "body_ROE = body.find_all('td', {'data-stat':'ROE'})\n",
    "body_ALI = body.find_all('td', {'data-stat':'leverage_index_avg'})\n",
    "body_WPA = body.find_all('td', {'data-stat':'wpa_def'})\n",
    "body_RE24 = body.find_all('td', {'data-stat':'re24_def'})\n"
   ]
  },
  {
   "cell_type": "code",
   "execution_count": 115,
   "metadata": {},
   "outputs": [],
   "source": [
    "team_id = []\n",
    "game_result = []\n",
    "gtm = []\n",
    "player_game_inning_in = []\n",
    "player_game_inning_out = []\n",
    "player_game_result = []\n",
    "days_rest = []\n",
    "days_bw_team_games = []\n",
    "ip = []\n",
    "h = []\n",
    "r = []\n",
    "er = []\n",
    "bb = []\n",
    "so = []\n",
    "hr = []\n",
    "hbp = []\n",
    "earned_run_avg = []\n",
    "era_per_game = []\n",
    "batters_faced = []\n",
    "pitches = []\n",
    "pitches_url = []\n",
    "strikes_total = []\n",
    "strikes_looking = []\n",
    "strikes_swinging = []\n",
    "inplay_gb_total = []\n",
    "inplay_fb_total = []\n",
    "inplay_ld = []\n",
    "inplay_pu = []\n",
    "inplay_unk = []\n",
    "sb = []\n",
    "cs = []\n",
    "pickoffs = []\n",
    "ab = []\n",
    "two_b = []\n",
    "three_b = []\n",
    "ibb = []\n",
    "gidp = []\n",
    "sf = []\n",
    "roe = []\n",
    "leverage_index_avg = []\n",
    "wpa_def = []\n",
    "re24_def = []\n",
    "pitcher_situation_in = []\n",
    "pitcher_situation_out = []"
   ]
  },
  {
   "cell_type": "code",
   "execution_count": 116,
   "metadata": {
    "scrolled": false
   },
   "outputs": [
    {
     "name": "stdout",
     "output_type": "stream",
     "text": [
      "102\n",
      "94\n",
      "111\n",
      "105\n",
      "107\n",
      "98\n",
      "100\n",
      "100\n",
      "101\n",
      "101\n",
      "101\n",
      "103\n",
      "114\n",
      "94\n",
      "100\n",
      "110\n",
      "107\n",
      "100\n",
      "102\n",
      "95\n",
      "116\n",
      "101\n",
      "105\n",
      "98\n",
      "109\n",
      "101\n",
      "99\n",
      "87\n",
      "120\n",
      "102\n",
      "106\n",
      "87\n",
      "92\n",
      "80\n"
     ]
    }
   ],
   "source": [
    "for n in range(len(body_RSLT)):\n",
    "\n",
    "    _team_id = body_TEAMID[n].text\n",
    "    _gtm = try_INT_or_zero(body_GTM[n].text)\n",
    "    _game_result = body_RSLT[n].text[0]\n",
    "    _player_game_inning_in = body_INNGS[n].text.split('-')[0]\n",
    "    _player_game_inning_out = body_INNGS[n].text.split('-')[-1]\n",
    "    _player_game_result = body_DEC[n].text.split('(')[0]\n",
    "    _days_rest = try_INT_or_zero(body_DR[n].text)\n",
    "\n",
    "    if n == 0:\n",
    "        _days_bw_team_games = _gtm\n",
    "    else:\n",
    "        _days_bw_team_games = _gtm - gtm[-1]\n",
    "\n",
    "\n",
    "    _ip = try_FLOAT_or_zero(body_IP[n].text)\n",
    "    _h = try_INT_or_zero(body_H[n].text)\n",
    "    _r = try_INT_or_zero(body_R[n].text)\n",
    "    _er = try_INT_or_zero(body_ER[n].text)\n",
    "    _bb = try_INT_or_zero(body_BB[n].text)\n",
    "    _so = try_INT_or_zero(body_SO[n].text)\n",
    "    _hr = try_INT_or_zero(body_HR[n].text)\n",
    "    _hbp = try_INT_or_zero(body_HBP[n].text)\n",
    "    try:\n",
    "        _earned_run_avg = try_FLOAT_or_zero(body_ERA[n].text)\n",
    "    except:\n",
    "        _earned_run_avg = 0\n",
    "\n",
    "    _batters_faced = try_INT_or_zero(body_BF[n].text)\n",
    "    _pitches = try_INT_or_zero(body_PIT[n].text)\n",
    "    #_pitches_url = body_PIT[n].find('a', href=True)['href']\n",
    "    _strikes_total = try_INT_or_zero(body_STR[n].text)\n",
    "    _strikes_looking = try_INT_or_zero(body_STL[n].text)\n",
    "    _strikes_swinging = try_INT_or_zero(body_STS[n].text)\n",
    "    _inplay_gb_total = try_INT_or_zero(body_GB[n].text)\n",
    "    _inplay_fb_total = try_INT_or_zero(body_FB[n].text)\n",
    "    _inplay_ld = try_INT_or_zero(body_LD[n].text)\n",
    "    _inplay_pu = try_INT_or_zero(body_PU[n].text)\n",
    "    _inplay_unk = try_INT_or_zero(body_UNK[n].text)\n",
    "    _sb = try_INT_or_zero(body_SB[n].text)\n",
    "    _cs = try_INT_or_zero(body_CS[n].text)\n",
    "    _pickoffs = try_INT_or_zero(body_PO[n].text)\n",
    "    _ab = try_INT_or_zero(body_AB[n].text)\n",
    "    _two_b = try_INT_or_zero(body_2B[n].text)\n",
    "    _three_b = try_INT_or_zero(body_3B[n].text)\n",
    "    _ibb = try_INT_or_zero(body_IBB[n].text)\n",
    "    _gidp = try_INT_or_zero(body_GDP[n].text)\n",
    "    _sf = try_INT_or_zero(body_SF[n].text)\n",
    "    _roe = try_INT_or_zero(body_ROE[n].text)\n",
    "    _leverage_index_avg = try_FLOAT_or_zero(body_ALI[n].text)\n",
    "    _wpa_def = try_FLOAT_or_zero(body_WPA[n].text)\n",
    "    _re24_def = try_FLOAT_or_zero(body_RE24[n].text)\n",
    "\n",
    "    team_id.append(_team_id)\n",
    "    gtm.append(_gtm)\n",
    "    game_result.append(_game_result)\n",
    "    player_game_inning_in.append(_player_game_inning_in)\n",
    "    player_game_inning_out.append(_player_game_inning_out)\n",
    "    days_rest.append(_days_rest)\n",
    "    days_bw_team_games.append(_days_bw_team_games)\n",
    "    ip.append(_ip)\n",
    "    h.append(_h)\n",
    "    r.append(_r)\n",
    "    er.append(_er)\n",
    "    bb.append(_bb)\n",
    "    so.append(_so)\n",
    "    hr.append(_hr)\n",
    "    hbp.append(_hbp)\n",
    "    earned_run_avg.append(_earned_run_avg)\n",
    "    #era_per_game.append(_era_per_game)\n",
    "    batters_faced.append(_batters_faced)\n",
    "    print(_pitches)\n",
    "    pitches.append(_pitches)\n",
    "    #pitches_url.append(_pitches_url)\n",
    "    strikes_total.append(_strikes_total)\n",
    "    strikes_looking.append(_strikes_looking)\n",
    "    strikes_swinging.append(_strikes_swinging)\n",
    "    inplay_gb_total.append(_inplay_gb_total)\n",
    "    inplay_fb_total.append(_inplay_fb_total)\n",
    "    inplay_ld.append(_inplay_ld)\n",
    "    inplay_pu.append(_inplay_pu)\n",
    "    inplay_unk.append(_inplay_unk)\n",
    "    sb.append(_sb)\n",
    "    cs.append(_cs)\n",
    "    pickoffs.append(_pickoffs)\n",
    "    ab.append(_ab)\n",
    "    two_b.append(_two_b)\n",
    "    three_b.append(_three_b)\n",
    "    ibb.append(_ibb)\n",
    "    gidp.append(_gidp)\n",
    "    sf.append(_sf)\n",
    "    roe.append(_roe)\n",
    "    leverage_index_avg.append(_leverage_index_avg)\n",
    "    wpa_def.append(_wpa_def)\n",
    "    re24_def.append(_re24_def)\n",
    "\n",
    "    \n",
    "    "
   ]
  },
  {
   "cell_type": "code",
   "execution_count": 57,
   "metadata": {},
   "outputs": [
    {
     "data": {
      "text/plain": [
       "5.29"
      ]
     },
     "execution_count": 57,
     "metadata": {},
     "output_type": "execute_result"
    }
   ],
   "source": [
    "earned_run_avg[-1]"
   ]
  },
  {
   "cell_type": "code",
   "execution_count": 6,
   "metadata": {},
   "outputs": [
    {
     "data": {
      "text/plain": [
       "3.456896551724138"
      ]
     },
     "execution_count": 6,
     "metadata": {},
     "output_type": "execute_result"
    }
   ],
   "source": [
    "stat.mean(earned_run_avg)"
   ]
  },
  {
   "cell_type": "code",
   "execution_count": 117,
   "metadata": {},
   "outputs": [
    {
     "data": {
      "text/plain": [
       "Counter({'HOU': 34})"
      ]
     },
     "execution_count": 117,
     "metadata": {},
     "output_type": "execute_result"
    }
   ],
   "source": [
    "team_id_dict = Counter(team_id)\n",
    "team_id_dict"
   ]
  },
  {
   "cell_type": "code",
   "execution_count": 118,
   "metadata": {},
   "outputs": [],
   "source": [
    "TEAM_1 = []\n",
    "TEAM_1_GAMES = []\n",
    "TEAM_2 = []\n",
    "TEAM_2_GAMES = []\n",
    "TEAM_3 = []\n",
    "TEAM_3_GAMES = []\n",
    "TEAM_4 = []\n",
    "TEAM_4_GAMES = []\n",
    "TEAM_5 = []\n",
    "TEAM_5_GAMES = []\n",
    "TEAM_6 = []\n",
    "TEAM_6_GAMES = []"
   ]
  },
  {
   "cell_type": "code",
   "execution_count": 119,
   "metadata": {},
   "outputs": [],
   "source": [
    "TEAM_1.append(list(team_id_dict.keys())[0])\n",
    "TEAM_1_GAMES.append(team_id_dict[list(team_id_dict.keys())[0]])\n",
    "try:\n",
    "    TEAM_2.append(list(team_id_dict.keys())[1])\n",
    "    TEAM_2_GAMES.append(team_id_dict[list(team_id_dict.keys())[1]])\n",
    "except:\n",
    "    TEAM_2.append('NA')\n",
    "    TEAM_2_GAMES.append('NA')\n",
    "\n",
    "try:\n",
    "    TEAM_3.append(list(team_id_dict.keys())[2])\n",
    "    TEAM_3_GAMES.append(team_id_dict[list(team_id_dict.keys())[2]])\n",
    "except:\n",
    "    TEAM_3.append('NA')\n",
    "    TEAM_3_GAMES.append('NA')\n",
    "\n",
    "try:\n",
    "    TEAM_4.append(list(team_id_dict.keys())[3])\n",
    "    TEAM_4_GAMES.append(team_id_dict[list(team_id_dict.keys())[3]])\n",
    "except:\n",
    "    TEAM_4.append('NA')\n",
    "    TEAM_4_GAMES.append('NA')\n",
    "\n",
    "try:\n",
    "    TEAM_5.append(list(team_id_dict.keys())[4])\n",
    "    TEAM_5_GAMES.append(team_id_dict[list(team_id_dict.keys())[4]])\n",
    "except:\n",
    "    TEAM_5.append('NA')\n",
    "    TEAM_5_GAMES.append('NA')\n",
    "\n",
    "try:\n",
    "    TEAM_6.append(list(team_id_dict.keys())[5])\n",
    "    TEAM_6_GAMES.append(team_id_dict[list(team_id_dict.keys())[5]])\n",
    "except:\n",
    "    TEAM_6.append('NA')\n",
    "    TEAM_6_GAMES.append('NA')"
   ]
  },
  {
   "cell_type": "code",
   "execution_count": 120,
   "metadata": {},
   "outputs": [
    {
     "data": {
      "text/plain": [
       "Counter({'HOU': 34})"
      ]
     },
     "execution_count": 120,
     "metadata": {},
     "output_type": "execute_result"
    }
   ],
   "source": [
    "team_id_dict"
   ]
  },
  {
   "cell_type": "code",
   "execution_count": 121,
   "metadata": {},
   "outputs": [
    {
     "name": "stdout",
     "output_type": "stream",
     "text": [
      "['HOU']\n",
      "[34]\n",
      "['NA']\n",
      "['NA']\n",
      "['NA']\n",
      "['NA']\n",
      "['NA']\n",
      "['NA']\n",
      "['NA']\n",
      "['NA']\n",
      "['NA']\n",
      "['NA']\n"
     ]
    }
   ],
   "source": [
    "print(TEAM_1)\n",
    "print(TEAM_1_GAMES)\n",
    "print(TEAM_2)\n",
    "print(TEAM_2_GAMES)\n",
    "print(TEAM_3)\n",
    "print(TEAM_3_GAMES)\n",
    "print(TEAM_4)\n",
    "print(TEAM_4_GAMES)\n",
    "print(TEAM_5)\n",
    "print(TEAM_5_GAMES)\n",
    "print(TEAM_6)\n",
    "print(TEAM_6_GAMES)"
   ]
  },
  {
   "cell_type": "code",
   "execution_count": 58,
   "metadata": {},
   "outputs": [],
   "source": [
    "try:\n",
    "    list(team_id_dict.keys())[1] \n",
    "except:\n",
    "    \"NA\""
   ]
  },
  {
   "cell_type": "code",
   "execution_count": 49,
   "metadata": {},
   "outputs": [
    {
     "data": {
      "text/plain": [
       "int"
      ]
     },
     "execution_count": 49,
     "metadata": {},
     "output_type": "execute_result"
    }
   ],
   "source": [
    "type(team_id_dict[list(team_id_dict.keys())[0]])"
   ]
  },
  {
   "cell_type": "code",
   "execution_count": 7,
   "metadata": {},
   "outputs": [
    {
     "data": {
      "text/plain": [
       "Counter({'W': 16, 'L': 13})"
      ]
     },
     "execution_count": 7,
     "metadata": {},
     "output_type": "execute_result"
    }
   ],
   "source": [
    "rslt_dict = Counter(game_result)\n",
    "rslt_W  = rslt_dict['W']  if 'W'  in rslt_dict.keys() else 0\n",
    "rslt_L  = rslt_dict['L']  if 'L'  in rslt_dict.keys() else 0\n",
    "rslt_dict"
   ]
  },
  {
   "cell_type": "code",
   "execution_count": 9,
   "metadata": {},
   "outputs": [
    {
     "data": {
      "text/plain": [
       "Counter({'7': 6, '5': 6, '6': 9, '3': 1, '8': 4, 'CG(5)': 1, 'SHO': 2})"
      ]
     },
     "execution_count": 9,
     "metadata": {},
     "output_type": "execute_result"
    }
   ],
   "source": [
    "inng_out = Counter(player_game_inning_out)\n",
    "inng_out_CG = inng_out['CG']  if 'CG'  in inng_out.keys() else 0\n",
    "inng_out_GS = inng_out['GS']  if 'GS'  in inng_out.keys() else 0\n",
    "inng_out_SHO = inng_out['SHO']  if 'SHO'  in inng_out.keys() else 0\n",
    "inng_out_1 = inng_out['1']  if '1'  in inng_out.keys() else 0\n",
    "inng_out_2 = inng_out['2']  if '2'  in inng_out.keys() else 0\n",
    "inng_out_3 = inng_out['3']  if '3'  in inng_out.keys() else 0\n",
    "inng_out_4 = inng_out['4']  if '4'  in inng_out.keys() else 0\n",
    "inng_out_5 = inng_out['5']  if '5'  in inng_out.keys() else 0\n",
    "inng_out_6 = inng_out['6']  if '6'  in inng_out.keys() else 0\n",
    "inng_out_7 = inng_out['7']  if '7'  in inng_out.keys() else 0\n",
    "inng_out_8 = inng_out['8']  if '8'  in inng_out.keys() else 0\n",
    "inng_out_9 = inng_out['9']  if '9'  in inng_out.keys() else 0\n",
    "inng_out_OTHER = 0\n",
    "for k in inng_out.keys():\n",
    "    if k not in ('CG','GS','1','2','3','4','5','6','7','8','9', 'SHO'):\n",
    "        inng_out_OTHER += inng_out[k]\n",
    "\n",
    "inng_out"
   ]
  },
  {
   "cell_type": "code",
   "execution_count": 8,
   "metadata": {},
   "outputs": [
    {
     "data": {
      "text/plain": [
       "Counter({'GS': 26, 'CG(5)': 1, 'SHO': 2})"
      ]
     },
     "execution_count": 8,
     "metadata": {},
     "output_type": "execute_result"
    }
   ],
   "source": [
    "inng_in = Counter(player_game_inning_in)\n",
    "inng_in_CG = inng_in['CG']  if 'CG'  in inng_in.keys() else 0\n",
    "inng_in_GS = inng_in['GS']  if 'GS'  in inng_in.keys() else 0\n",
    "inng_in_SHO = inng_in['SHO']  if 'SHO'  in inng_in.keys() else 0\n",
    "inng_in_1 = inng_in['1']  if '1'  in inng_in.keys() else 0\n",
    "inng_in_2 = inng_in['2']  if '2'  in inng_in.keys() else 0\n",
    "inng_in_3 = inng_in['3']  if '3'  in inng_in.keys() else 0\n",
    "inng_in_4 = inng_in['4']  if '4'  in inng_in.keys() else 0\n",
    "inng_in_5 = inng_in['5']  if '5'  in inng_in.keys() else 0\n",
    "inng_in_6 = inng_in['6']  if '6'  in inng_in.keys() else 0\n",
    "inng_in_7 = inng_in['7']  if '7'  in inng_in.keys() else 0\n",
    "inng_in_8 = inng_in['8']  if '8'  in inng_in.keys() else 0\n",
    "inng_in_9 = inng_in['9']  if '9'  in inng_in.keys() else 0\n",
    "inng_in_OTHER = 0\n",
    "for k in inng_in.keys():\n",
    "    if k not in ('CG','GS','1','2','3','4','5','6','7','8','9','SHO'):\n",
    "        inng_in_OTHER += inng_in[k]\n",
    "\n",
    "inng_in\n",
    "inng_in"
   ]
  },
  {
   "cell_type": "code",
   "execution_count": 18,
   "metadata": {},
   "outputs": [
    {
     "data": {
      "text/plain": [
       "['__name__',\n",
       " '__doc__',\n",
       " '__package__',\n",
       " '__loader__',\n",
       " '__spec__',\n",
       " '__builtin__',\n",
       " '__builtins__',\n",
       " '_ih',\n",
       " '_oh',\n",
       " '_dh',\n",
       " 'In',\n",
       " 'Out',\n",
       " 'get_ipython',\n",
       " 'exit',\n",
       " 'quit',\n",
       " '_',\n",
       " '__',\n",
       " '___',\n",
       " '_i',\n",
       " '_ii',\n",
       " '_iii',\n",
       " '_i1',\n",
       " 'requests',\n",
       " 'bs4',\n",
       " 'Counter',\n",
       " 'stat',\n",
       " 'pd',\n",
       " 'perf_counter',\n",
       " 'floor',\n",
       " '_i2',\n",
       " 'url_PG',\n",
       " 'res_PG',\n",
       " 'soup_PG',\n",
       " '_i3',\n",
       " 'body',\n",
       " 'body_GTM',\n",
       " 'body_RSLT',\n",
       " 'body_INNGS',\n",
       " 'body_DEC',\n",
       " 'body_DR',\n",
       " 'body_IP',\n",
       " 'body_H',\n",
       " 'body_R',\n",
       " 'body_ER',\n",
       " 'body_BB',\n",
       " 'body_SO',\n",
       " 'body_HR',\n",
       " 'body_HBP',\n",
       " 'body_ERA',\n",
       " 'body_BF',\n",
       " 'body_PIT',\n",
       " 'body_STR',\n",
       " 'body_STL',\n",
       " 'body_STS',\n",
       " 'body_GB',\n",
       " 'body_FB',\n",
       " 'body_LD',\n",
       " 'body_PU',\n",
       " 'body_UNK',\n",
       " 'body_IR',\n",
       " 'body_IS',\n",
       " 'body_SB',\n",
       " 'body_CS',\n",
       " 'body_PO',\n",
       " 'body_AB',\n",
       " 'body_2B',\n",
       " 'body_3B',\n",
       " 'body_IBB',\n",
       " 'body_GDP',\n",
       " 'body_SF',\n",
       " 'body_ROE',\n",
       " 'body_ALI',\n",
       " 'body_WPA',\n",
       " 'body_RE24',\n",
       " '_i4',\n",
       " 'game_result',\n",
       " 'gtm',\n",
       " 'player_game_inning_in',\n",
       " 'player_game_inning_out',\n",
       " 'player_game_result',\n",
       " 'days_rest',\n",
       " 'days_bw_team_games',\n",
       " 'ip',\n",
       " 'h',\n",
       " 'r',\n",
       " 'er',\n",
       " 'bb',\n",
       " 'so',\n",
       " 'hr',\n",
       " 'hbp',\n",
       " 'earned_run_avg',\n",
       " 'era_per_game',\n",
       " 'batters_faced',\n",
       " 'pitches',\n",
       " 'pitches_url',\n",
       " 'strikes_total',\n",
       " 'strikes_looking',\n",
       " 'strikes_swinging',\n",
       " 'inplay_gb_total',\n",
       " 'inplay_fb_total',\n",
       " 'inplay_ld',\n",
       " 'inplay_pu',\n",
       " 'inplay_unk',\n",
       " 'sb',\n",
       " 'cs',\n",
       " 'pickoffs',\n",
       " 'ab',\n",
       " 'two_b',\n",
       " 'three_b',\n",
       " 'ibb',\n",
       " 'gidp',\n",
       " 'sf',\n",
       " 'roe',\n",
       " 'leverage_index_avg',\n",
       " 'wpa_def',\n",
       " 're24_def',\n",
       " 'pitcher_situation_in',\n",
       " 'pitcher_situation_out',\n",
       " '_i5',\n",
       " 'n',\n",
       " '_gtm',\n",
       " '_game_result',\n",
       " '_player_game_inning_in',\n",
       " '_player_game_inning_out',\n",
       " '_player_game_result',\n",
       " '_days_rest',\n",
       " '_days_bw_team_games',\n",
       " '_ip',\n",
       " '_h',\n",
       " '_r',\n",
       " '_er',\n",
       " '_bb',\n",
       " '_so',\n",
       " '_hr',\n",
       " '_hbp',\n",
       " '_earned_run_avg',\n",
       " '_batters_faced',\n",
       " '_pitches',\n",
       " '_pitches_url',\n",
       " '_strikes_total',\n",
       " '_strikes_looking',\n",
       " '_strikes_swinging',\n",
       " '_inplay_gb_total',\n",
       " '_inplay_fb_total',\n",
       " '_inplay_ld',\n",
       " '_inplay_pu',\n",
       " '_inplay_unk',\n",
       " '_sb',\n",
       " '_cs',\n",
       " '_pickoffs',\n",
       " '_ab',\n",
       " '_two_b',\n",
       " '_three_b',\n",
       " '_ibb',\n",
       " '_gidp',\n",
       " '_sf',\n",
       " '_roe',\n",
       " '_leverage_index_avg',\n",
       " '_wpa_def',\n",
       " '_re24_def',\n",
       " '_i6',\n",
       " '_6',\n",
       " '_i7',\n",
       " 'rslt_dict',\n",
       " 'rslt_W',\n",
       " 'rslt_L',\n",
       " '_7',\n",
       " '_i8',\n",
       " 'inng_in',\n",
       " 'inng_in_CG',\n",
       " 'inng_in_GS',\n",
       " 'inng_in_SHO',\n",
       " 'inng_in_1',\n",
       " 'inng_in_2',\n",
       " 'inng_in_3',\n",
       " 'inng_in_4',\n",
       " 'inng_in_5',\n",
       " 'inng_in_6',\n",
       " 'inng_in_7',\n",
       " 'inng_in_8',\n",
       " 'inng_in_9',\n",
       " 'inng_in_OTHER',\n",
       " 'k',\n",
       " '_8',\n",
       " '_i9',\n",
       " 'inng_out',\n",
       " 'inng_out_CG',\n",
       " 'inng_out_GS',\n",
       " 'inng_out_SHO',\n",
       " 'inng_out_1',\n",
       " 'inng_out_2',\n",
       " 'inng_out_3',\n",
       " 'inng_out_4',\n",
       " 'inng_out_5',\n",
       " 'inng_out_6',\n",
       " 'inng_out_7',\n",
       " 'inng_out_8',\n",
       " 'inng_out_9',\n",
       " 'inng_out_OTHER',\n",
       " '_9',\n",
       " '_i10',\n",
       " '_10',\n",
       " '_i11',\n",
       " '_list_dict',\n",
       " '_i12',\n",
       " 'globaldict',\n",
       " '_i13',\n",
       " '_13',\n",
       " '_i14',\n",
       " 'i',\n",
       " '_i15',\n",
       " '_15',\n",
       " '_i16',\n",
       " '_i17',\n",
       " '_17',\n",
       " '_i18']"
      ]
     },
     "execution_count": 18,
     "metadata": {},
     "output_type": "execute_result"
    }
   ],
   "source": [
    "list(globals())"
   ]
  },
  {
   "cell_type": "code",
   "execution_count": 22,
   "metadata": {},
   "outputs": [],
   "source": [
    "somelist = ['rslt_W',\n",
    " 'rslt_L',\n",
    " 'inng_in_CG',\n",
    " 'inng_in_GS',\n",
    " 'inng_in_SHO',\n",
    " 'inng_in_1',\n",
    " 'inng_in_2',\n",
    " 'inng_in_3',\n",
    " 'inng_in_4',\n",
    " 'inng_in_5',\n",
    " 'inng_in_6',\n",
    " 'inng_in_7',\n",
    " 'inng_in_8',\n",
    " 'inng_in_9',\n",
    " 'inng_in_OTHER',\n",
    " 'inng_out_CG',\n",
    " 'inng_out_GS',\n",
    " 'inng_out_SHO',\n",
    " 'inng_out_1',\n",
    " 'inng_out_2',\n",
    " 'inng_out_3',\n",
    " 'inng_out_4',\n",
    " 'inng_out_5',\n",
    " 'inng_out_6',\n",
    " 'inng_out_7',\n",
    " 'inng_out_8',\n",
    " 'inng_out_9',\n",
    " 'inng_out_OTHER']"
   ]
  },
  {
   "cell_type": "code",
   "execution_count": 21,
   "metadata": {
    "scrolled": true
   },
   "outputs": [
    {
     "name": "stdout",
     "output_type": "stream",
     "text": [
      "RSLT_W.append(rslt_W)\n",
      "RSLT_L.append(rslt_L)\n",
      "INNG_IN_CG.append(inng_in_CG)\n",
      "INNG_IN_GS.append(inng_in_GS)\n",
      "INNG_IN_SHO.append(inng_in_SHO)\n",
      "INNG_IN_1.append(inng_in_1)\n",
      "INNG_IN_2.append(inng_in_2)\n",
      "INNG_IN_3.append(inng_in_3)\n",
      "INNG_IN_4.append(inng_in_4)\n",
      "INNG_IN_5.append(inng_in_5)\n",
      "INNG_IN_6.append(inng_in_6)\n",
      "INNG_IN_7.append(inng_in_7)\n",
      "INNG_IN_8.append(inng_in_8)\n",
      "INNG_IN_9.append(inng_in_9)\n",
      "INNG_IN_OTHER.append(inng_in_OTHER)\n",
      "INNG_OUT_CG.append(inng_out_CG)\n",
      "INNG_OUT_GS.append(inng_out_GS)\n",
      "INNG_OUT_SHO.append(inng_out_SHO)\n",
      "INNG_OUT_1.append(inng_out_1)\n",
      "INNG_OUT_2.append(inng_out_2)\n",
      "INNG_OUT_3.append(inng_out_3)\n",
      "INNG_OUT_4.append(inng_out_4)\n",
      "INNG_OUT_5.append(inng_out_5)\n",
      "INNG_OUT_6.append(inng_out_6)\n",
      "INNG_OUT_7.append(inng_out_7)\n",
      "INNG_OUT_8.append(inng_out_8)\n",
      "INNG_OUT_9.append(inng_out_9)\n",
      "INNG_OUT_OTHER.append(inng_out_OTHER)\n"
     ]
    }
   ],
   "source": [
    "for i in somelist:\n",
    "    print(i.upper()+ '.append({i})'.format(i=i))"
   ]
  },
  {
   "cell_type": "code",
   "execution_count": 23,
   "metadata": {
    "scrolled": true
   },
   "outputs": [
    {
     "name": "stdout",
     "output_type": "stream",
     "text": [
      "\"RSLT_W\": RSLT_W,\n",
      "\"RSLT_L\": RSLT_L,\n",
      "\"INNG_IN_CG\": INNG_IN_CG,\n",
      "\"INNG_IN_GS\": INNG_IN_GS,\n",
      "\"INNG_IN_SHO\": INNG_IN_SHO,\n",
      "\"INNG_IN_1\": INNG_IN_1,\n",
      "\"INNG_IN_2\": INNG_IN_2,\n",
      "\"INNG_IN_3\": INNG_IN_3,\n",
      "\"INNG_IN_4\": INNG_IN_4,\n",
      "\"INNG_IN_5\": INNG_IN_5,\n",
      "\"INNG_IN_6\": INNG_IN_6,\n",
      "\"INNG_IN_7\": INNG_IN_7,\n",
      "\"INNG_IN_8\": INNG_IN_8,\n",
      "\"INNG_IN_9\": INNG_IN_9,\n",
      "\"INNG_IN_OTHER\": INNG_IN_OTHER,\n",
      "\"INNG_OUT_CG\": INNG_OUT_CG,\n",
      "\"INNG_OUT_GS\": INNG_OUT_GS,\n",
      "\"INNG_OUT_SHO\": INNG_OUT_SHO,\n",
      "\"INNG_OUT_1\": INNG_OUT_1,\n",
      "\"INNG_OUT_2\": INNG_OUT_2,\n",
      "\"INNG_OUT_3\": INNG_OUT_3,\n",
      "\"INNG_OUT_4\": INNG_OUT_4,\n",
      "\"INNG_OUT_5\": INNG_OUT_5,\n",
      "\"INNG_OUT_6\": INNG_OUT_6,\n",
      "\"INNG_OUT_7\": INNG_OUT_7,\n",
      "\"INNG_OUT_8\": INNG_OUT_8,\n",
      "\"INNG_OUT_9\": INNG_OUT_9,\n",
      "\"INNG_OUT_OTHER\": INNG_OUT_OTHER,\n"
     ]
    }
   ],
   "source": [
    "for i in somelist:\n",
    "    print('\"'+i.upper()+'\"'+': '+i.upper()+',')"
   ]
  },
  {
   "cell_type": "code",
   "execution_count": 25,
   "metadata": {},
   "outputs": [],
   "source": [
    "stri =' \"INNG_IN_5\": INNG_IN_5'"
   ]
  },
  {
   "cell_type": "code",
   "execution_count": 26,
   "metadata": {},
   "outputs": [
    {
     "data": {
      "text/plain": [
       "11"
      ]
     },
     "execution_count": 26,
     "metadata": {},
     "output_type": "execute_result"
    }
   ],
   "source": [
    "stri.find('\": ')"
   ]
  },
  {
   "cell_type": "code",
   "execution_count": 35,
   "metadata": {},
   "outputs": [],
   "source": [
    "data_dict = {\n",
    "\"NAME\": NAME,\n",
    "\"NAME_KEY\": NAME_KEY,\n",
    "\"TEAM\": TEAM,\n",
    "\"YEAR\": YEAR,\n",
    "\"RSLT_W\": RSLT_W,\n",
    "\"RSLT_L\": RSLT_L,\n",
    "\"INNG_IN_CG\": INNG_IN_CG,\n",
    "\"INNG_IN_GS\": INNG_IN_GS,\n",
    "\"INNG_IN_SHO\": INNG_IN_SHO,\n",
    "\"INNG_IN_1\": INNG_IN_1,\n",
    "\"INNG_IN_2\": INNG_IN_2,\n",
    "\"INNG_IN_3\": INNG_IN_3,\n",
    "\"INNG_IN_4\": INNG_IN_4,\n",
    "\"INNG_IN_5\": INNG_IN_5,\n",
    "\"INNG_IN_6\": INNG_IN_6,\n",
    "\"INNG_IN_7\": INNG_IN_7,\n",
    "\"INNG_IN_8\": INNG_IN_8,\n",
    "\"INNG_IN_9\": INNG_IN_9,\n",
    "\"INNG_IN_OTHER\": INNG_IN_OTHER,\n",
    "\"INNG_OUT_CG\": INNG_OUT_CG,\n",
    "\"INNG_OUT_GS\": INNG_OUT_GS,\n",
    "\"INNG_OUT_SHO\": INNG_OUT_SHO,\n",
    "\"INNG_OUT_1\": INNG_OUT_1,\n",
    "\"INNG_OUT_2\": INNG_OUT_2,\n",
    "\"INNG_OUT_3\": INNG_OUT_3,\n",
    "\"INNG_OUT_4\": INNG_OUT_4,\n",
    "\"INNG_OUT_5\": INNG_OUT_5,\n",
    "\"INNG_OUT_6\": INNG_OUT_6,\n",
    "\"INNG_OUT_7\": INNG_OUT_7,\n",
    "\"INNG_OUT_8\": INNG_OUT_8,\n",
    "\"INNG_OUT_9\": INNG_OUT_9,\n",
    "\"INNG_OUT_OTHER\": INNG_OUT_OTHER,\n",
    "\"DAYS_REST_MEAN\": DAYS_REST_MEAN,\n",
    "\"DAYS_REST_STDEV\": DAYS_REST_STDEV,\n",
    "\"DAYS_BW_TEAM_GAMES_MEAN\": DAYS_BW_TEAM_GAMES_MEAN,\n",
    "\"DAYS_BW_TEAM_GAMES_STDEV\": DAYS_BW_TEAM_GAMES_STDEV,\n",
    "\"IP_MEAN\": IP_MEAN,\n",
    "\"IP_STDEV\": IP_STDEV,\n",
    "\"H_MEAN\": H_MEAN,\n",
    "\"H_STDEV\": H_STDEV,\n",
    "\"R_MEAN\": R_MEAN,\n",
    "\"R_STDEV\": R_STDEV,\n",
    "\"ER_MEAN\": ER_MEAN,\n",
    "\"ER_STDEV\": ER_STDEV,\n",
    "\"BB_MEAN\": BB_MEAN,\n",
    "\"BB_STDEV\": BB_STDEV,\n",
    "\"SO_MEAN\": SO_MEAN,\n",
    "\"SO_STDEV\": SO_STDEV,\n",
    "\"HR_MEAN\": HR_MEAN,\n",
    "\"HR_STDEV\": HR_STDEV,\n",
    "\"HBP_MEAN\": HBP_MEAN,\n",
    "\"HBP_STDEV\": HBP_STDEV,\n",
    "\"EARNED_RUN_AVG_MEAN\": EARNED_RUN_AVG_MEAN,\n",
    "\"EARNED_RUN_AVG_STDEV\": EARNED_RUN_AVG_STDEV,\n",
    "\"BATTERS_FACED_MEAN\": BATTERS_FACED_MEAN,\n",
    "\"BATTERS_FACED_STDEV\": BATTERS_FACED_STDEV,\n",
    "\"PITCHES_MEAN\": PITCHES_MEAN,\n",
    "\"PITCHES_STDEV\": PITCHES_STDEV,\n",
    "\"STRIKES_TOTAL_MEAN\": STRIKES_TOTAL_MEAN,\n",
    "\"STRIKES_TOTAL_STDEV\": STRIKES_TOTAL_STDEV,\n",
    "\"STRIKES_LOOKING_MEAN\": STRIKES_LOOKING_MEAN,\n",
    "\"STRIKES_LOOKING_STDEV\": STRIKES_LOOKING_STDEV,\n",
    "\"STRIKES_SWINGING_MEAN\": STRIKES_SWINGING_MEAN,\n",
    "\"STRIKES_SWINGING_STDEV\": STRIKES_SWINGING_STDEV,\n",
    "\"INPLAY_GB_TOTAL_MEAN\": INPLAY_GB_TOTAL_MEAN,\n",
    "\"INPLAY_GB_TOTAL_STDEV\": INPLAY_GB_TOTAL_STDEV,\n",
    "\"INPLAY_FB_TOTAL_MEAN\": INPLAY_FB_TOTAL_MEAN,\n",
    "\"INPLAY_FB_TOTAL_STDEV\": INPLAY_FB_TOTAL_STDEV,\n",
    "\"INPLAY_LD_MEAN\": INPLAY_LD_MEAN,\n",
    "\"INPLAY_LD_STDEV\": INPLAY_LD_STDEV,\n",
    "\"INPLAY_PU_MEAN\": INPLAY_PU_MEAN,\n",
    "\"INPLAY_PU_STDEV\": INPLAY_PU_STDEV,\n",
    "\"INPLAY_UNK_MEAN\": INPLAY_UNK_MEAN,\n",
    "\"INPLAY_UNK_STDEV\": INPLAY_UNK_STDEV,\n",
    "\"SB_MEAN\": SB_MEAN,\n",
    "\"SB_STDEV\": SB_STDEV,\n",
    "\"CS_MEAN\": CS_MEAN,\n",
    "\"CS_STDEV\": CS_STDEV,\n",
    "\"PICKOFFS_MEAN\": PICKOFFS_MEAN,\n",
    "\"PICKOFFS_STDEV\": PICKOFFS_STDEV,\n",
    "\"AB_MEAN\": AB_MEAN,\n",
    "\"AB_STDEV\": AB_STDEV,\n",
    "\"TWO_B_MEAN\": TWO_B_MEAN,\n",
    "\"TWO_B_STDEV\": TWO_B_STDEV,\n",
    "\"THREE_B_MEAN\": THREE_B_MEAN,\n",
    "\"THREE_B_STDEV\": THREE_B_STDEV,\n",
    "\"IBB_MEAN\": IBB_MEAN,\n",
    "\"IBB_STDEV\": IBB_STDEV,\n",
    "\"GIDP_MEAN\": GIDP_MEAN,\n",
    "\"GIDP_STDEV\": GIDP_STDEV,\n",
    "\"SF_MEAN\": SF_MEAN,\n",
    "\"SF_STDEV\": SF_STDEV,\n",
    "\"ROE_MEAN\": ROE_MEAN,\n",
    "\"ROE_STDEV\": ROE_STDEV,\n",
    "\"LEVERAGE_INDEX_AVG_MEAN\": LEVERAGE_INDEX_AVG_MEAN,\n",
    "\"LEVERAGE_INDEX_AVG_STDEV\": LEVERAGE_INDEX_AVG_STDEV,\n",
    "\"WPA_DEF_MEAN\": WPA_DEF_MEAN,\n",
    "\"WPA_DEF_STDEV\": WPA_DEF_STDEV,\n",
    "\"RE24_DEF_MEAN\": RE24_DEF_MEAN,\n",
    "\"RE24_DEF_STDEV\": RE24_DEF_STDEV\n",
    "}"
   ]
  },
  {
   "cell_type": "code",
   "execution_count": 38,
   "metadata": {},
   "outputs": [
    {
     "data": {
      "text/plain": [
       "['NAME',\n",
       " 'NAME_KEY',\n",
       " 'TEAM',\n",
       " 'YEAR',\n",
       " 'RSLT_W',\n",
       " 'RSLT_L',\n",
       " 'INNG_IN_CG',\n",
       " 'INNG_IN_GS',\n",
       " 'INNG_IN_SHO',\n",
       " 'INNG_IN_1',\n",
       " 'INNG_IN_2',\n",
       " 'INNG_IN_3',\n",
       " 'INNG_IN_4',\n",
       " 'INNG_IN_5',\n",
       " 'INNG_IN_6',\n",
       " 'INNG_IN_7',\n",
       " 'INNG_IN_8',\n",
       " 'INNG_IN_9',\n",
       " 'INNG_IN_OTHER',\n",
       " 'INNG_OUT_CG',\n",
       " 'INNG_OUT_GS',\n",
       " 'INNG_OUT_SHO',\n",
       " 'INNG_OUT_1',\n",
       " 'INNG_OUT_2',\n",
       " 'INNG_OUT_3',\n",
       " 'INNG_OUT_4',\n",
       " 'INNG_OUT_5',\n",
       " 'INNG_OUT_6',\n",
       " 'INNG_OUT_7',\n",
       " 'INNG_OUT_8',\n",
       " 'INNG_OUT_9',\n",
       " 'INNG_OUT_OTHER',\n",
       " 'DAYS_REST_MEAN',\n",
       " 'DAYS_REST_STDEV',\n",
       " 'DAYS_BW_TEAM_GAMES_MEAN',\n",
       " 'DAYS_BW_TEAM_GAMES_STDEV',\n",
       " 'IP_MEAN',\n",
       " 'IP_STDEV',\n",
       " 'H_MEAN',\n",
       " 'H_STDEV',\n",
       " 'R_MEAN',\n",
       " 'R_STDEV',\n",
       " 'ER_MEAN',\n",
       " 'ER_STDEV',\n",
       " 'BB_MEAN',\n",
       " 'BB_STDEV',\n",
       " 'SO_MEAN',\n",
       " 'SO_STDEV',\n",
       " 'HR_MEAN',\n",
       " 'HR_STDEV',\n",
       " 'HBP_MEAN',\n",
       " 'HBP_STDEV',\n",
       " 'EARNED_RUN_AVG_MEAN',\n",
       " 'EARNED_RUN_AVG_STDEV',\n",
       " 'BATTERS_FACED_MEAN',\n",
       " 'BATTERS_FACED_STDEV',\n",
       " 'PITCHES_MEAN',\n",
       " 'PITCHES_STDEV',\n",
       " 'STRIKES_TOTAL_MEAN',\n",
       " 'STRIKES_TOTAL_STDEV',\n",
       " 'STRIKES_LOOKING_MEAN',\n",
       " 'STRIKES_LOOKING_STDEV',\n",
       " 'STRIKES_SWINGING_MEAN',\n",
       " 'STRIKES_SWINGING_STDEV',\n",
       " 'INPLAY_GB_TOTAL_MEAN',\n",
       " 'INPLAY_GB_TOTAL_STDEV',\n",
       " 'INPLAY_FB_TOTAL_MEAN',\n",
       " 'INPLAY_FB_TOTAL_STDEV',\n",
       " 'INPLAY_LD_MEAN',\n",
       " 'INPLAY_LD_STDEV',\n",
       " 'INPLAY_PU_MEAN',\n",
       " 'INPLAY_PU_STDEV',\n",
       " 'INPLAY_UNK_MEAN',\n",
       " 'INPLAY_UNK_STDEV',\n",
       " 'SB_MEAN',\n",
       " 'SB_STDEV',\n",
       " 'CS_MEAN',\n",
       " 'CS_STDEV',\n",
       " 'PICKOFFS_MEAN',\n",
       " 'PICKOFFS_STDEV',\n",
       " 'AB_MEAN',\n",
       " 'AB_STDEV',\n",
       " 'TWO_B_MEAN',\n",
       " 'TWO_B_STDEV',\n",
       " 'THREE_B_MEAN',\n",
       " 'THREE_B_STDEV',\n",
       " 'IBB_MEAN',\n",
       " 'IBB_STDEV',\n",
       " 'GIDP_MEAN',\n",
       " 'GIDP_STDEV',\n",
       " 'SF_MEAN',\n",
       " 'SF_STDEV',\n",
       " 'ROE_MEAN',\n",
       " 'ROE_STDEV',\n",
       " 'LEVERAGE_INDEX_AVG_MEAN',\n",
       " 'LEVERAGE_INDEX_AVG_STDEV',\n",
       " 'WPA_DEF_MEAN',\n",
       " 'WPA_DEF_STDEV',\n",
       " 'RE24_DEF_MEAN',\n",
       " 'RE24_DEF_STDEV']"
      ]
     },
     "execution_count": 38,
     "metadata": {},
     "output_type": "execute_result"
    }
   ],
   "source": [
    "list(data_dict.keys())"
   ]
  },
  {
   "cell_type": "code",
   "execution_count": 29,
   "metadata": {},
   "outputs": [
    {
     "data": {
      "text/plain": [
       "'INNG_IN_5'"
      ]
     },
     "execution_count": 29,
     "metadata": {},
     "output_type": "execute_result"
    }
   ],
   "source": [
    "stri_2 = stri[stri.find('\": ') + 3 :]\n",
    "stri_2"
   ]
  },
  {
   "cell_type": "code",
   "execution_count": 10,
   "metadata": {},
   "outputs": [
    {
     "data": {
      "text/plain": [
       "'L'"
      ]
     },
     "execution_count": 10,
     "metadata": {},
     "output_type": "execute_result"
    }
   ],
   "source": [
    "body_DEC[-1].text.split('(')[0]"
   ]
  },
  {
   "cell_type": "code",
   "execution_count": 20,
   "metadata": {},
   "outputs": [
    {
     "data": {
      "text/plain": [
       "63"
      ]
     },
     "execution_count": 20,
     "metadata": {},
     "output_type": "execute_result"
    }
   ],
   "source": [
    "len(body_DEC)"
   ]
  },
  {
   "cell_type": "code",
   "execution_count": 21,
   "metadata": {},
   "outputs": [
    {
     "data": {
      "text/plain": [
       "'9-GF'"
      ]
     },
     "execution_count": 21,
     "metadata": {},
     "output_type": "execute_result"
    }
   ],
   "source": [
    "body_INNGS[-1].text"
   ]
  },
  {
   "cell_type": "code",
   "execution_count": 23,
   "metadata": {},
   "outputs": [
    {
     "data": {
      "text/plain": [
       "'H(2)'"
      ]
     },
     "execution_count": 23,
     "metadata": {},
     "output_type": "execute_result"
    }
   ],
   "source": [
    "body_DEC[-3].text.spl"
   ]
  },
  {
   "cell_type": "code",
   "execution_count": 40,
   "metadata": {},
   "outputs": [
    {
     "data": {
      "text/plain": [
       "15"
      ]
     },
     "execution_count": 40,
     "metadata": {},
     "output_type": "execute_result"
    }
   ],
   "source": [
    "int(body_PIT[2].text)"
   ]
  },
  {
   "cell_type": "code",
   "execution_count": 6,
   "metadata": {},
   "outputs": [],
   "source": [
    "globaldict = list(globals().keys()).copy()"
   ]
  },
  {
   "cell_type": "code",
   "execution_count": 13,
   "metadata": {},
   "outputs": [
    {
     "data": {
      "text/plain": [
       "['__name__',\n",
       " '__doc__',\n",
       " '__package__',\n",
       " '__loader__',\n",
       " '__spec__',\n",
       " '__builtin__',\n",
       " '__builtins__',\n",
       " '_ih',\n",
       " '_oh',\n",
       " '_dh',\n",
       " 'In',\n",
       " 'Out',\n",
       " 'get_ipython',\n",
       " 'exit',\n",
       " 'quit',\n",
       " '_',\n",
       " '__',\n",
       " '___',\n",
       " '_i',\n",
       " '_ii',\n",
       " '_iii',\n",
       " '_i1',\n",
       " 'requests',\n",
       " 'bs4',\n",
       " 'Counter',\n",
       " 'stat',\n",
       " 'pd',\n",
       " 'perf_counter',\n",
       " 'floor',\n",
       " '_i2',\n",
       " 'url_PG',\n",
       " 'res_PG',\n",
       " 'soup_PG',\n",
       " '_i3',\n",
       " 'body',\n",
       " 'body_GTM',\n",
       " 'body_RSLT',\n",
       " 'body_INNGS',\n",
       " 'body_DEC',\n",
       " 'body_DR',\n",
       " 'body_IP',\n",
       " 'body_H',\n",
       " 'body_R',\n",
       " 'body_ER',\n",
       " 'body_BB',\n",
       " 'body_SO',\n",
       " 'body_HR',\n",
       " 'body_HBP',\n",
       " 'body_ERA',\n",
       " 'body_BF',\n",
       " 'body_PIT',\n",
       " 'body_STR',\n",
       " 'body_STL',\n",
       " 'body_STS',\n",
       " 'body_GB',\n",
       " 'body_FB',\n",
       " 'body_LD',\n",
       " 'body_PU',\n",
       " 'body_UNK',\n",
       " 'body_IR',\n",
       " 'body_IS',\n",
       " 'body_SB',\n",
       " 'body_CS',\n",
       " 'body_PO',\n",
       " 'body_AB',\n",
       " 'body_2B',\n",
       " 'body_3B',\n",
       " 'body_IBB',\n",
       " 'body_GDP',\n",
       " 'body_SF',\n",
       " 'body_ROE',\n",
       " 'body_ALI',\n",
       " 'body_WPA',\n",
       " 'body_RE24',\n",
       " '_i4',\n",
       " 'game_result',\n",
       " 'gtm',\n",
       " 'player_game_inning_in',\n",
       " 'player_game_inning_out',\n",
       " 'player_game_result',\n",
       " 'days_rest',\n",
       " 'days_bw_team_games',\n",
       " 'ip',\n",
       " 'h',\n",
       " 'r',\n",
       " 'er',\n",
       " 'bb',\n",
       " 'so',\n",
       " 'hr',\n",
       " 'hbp',\n",
       " 'earned_run_avg',\n",
       " 'era_per_game',\n",
       " 'batters_faced',\n",
       " 'pitches',\n",
       " 'pitches_url',\n",
       " 'strikes_total',\n",
       " 'strikes_looking',\n",
       " 'strikes_swinging',\n",
       " 'inplay_gb_total',\n",
       " 'inplay_fb_total',\n",
       " 'inplay_ld',\n",
       " 'inplay_pu',\n",
       " 'inplay_unk',\n",
       " 'sb',\n",
       " 'cs',\n",
       " 'pickoffs',\n",
       " 'ab',\n",
       " 'two_b',\n",
       " 'three_b',\n",
       " 'ibb',\n",
       " 'gidp',\n",
       " 'sf',\n",
       " 'roe',\n",
       " 'leverage_index_avg',\n",
       " 'wpa_def',\n",
       " 're24_def',\n",
       " 'pitcher_situation_in',\n",
       " 'pitcher_situation_out',\n",
       " '_i5',\n",
       " 'n',\n",
       " '_gtm',\n",
       " '_game_result',\n",
       " '_player_game_inning_in',\n",
       " '_player_game_inning_out',\n",
       " '_player_game_result',\n",
       " '_days_rest',\n",
       " '_days_bw_team_games',\n",
       " '_ip',\n",
       " '_h',\n",
       " '_r',\n",
       " '_er',\n",
       " '_bb',\n",
       " '_so',\n",
       " '_hr',\n",
       " '_hbp',\n",
       " '_earned_run_avg',\n",
       " '_batters_faced',\n",
       " '_pitches',\n",
       " '_pitches_url',\n",
       " '_strikes_total',\n",
       " '_strikes_looking',\n",
       " '_strikes_swinging',\n",
       " '_inplay_gb_total',\n",
       " '_inplay_fb_total',\n",
       " '_inplay_ld',\n",
       " '_inplay_pu',\n",
       " '_inplay_unk',\n",
       " '_sb',\n",
       " '_cs',\n",
       " '_pickoffs',\n",
       " '_ab',\n",
       " '_two_b',\n",
       " '_three_b',\n",
       " '_ibb',\n",
       " '_gidp',\n",
       " '_sf',\n",
       " '_roe',\n",
       " '_leverage_index_avg',\n",
       " '_wpa_def',\n",
       " '_re24_def',\n",
       " '_i6',\n",
       " '_6',\n",
       " '_i7',\n",
       " 'rslt_dict',\n",
       " 'rslt_W',\n",
       " 'rslt_L',\n",
       " '_7',\n",
       " '_i8',\n",
       " 'inng_in',\n",
       " 'inng_in_CG',\n",
       " 'inng_in_GS',\n",
       " 'inng_in_SHO',\n",
       " 'inng_in_1',\n",
       " 'inng_in_2',\n",
       " 'inng_in_3',\n",
       " 'inng_in_4',\n",
       " 'inng_in_5',\n",
       " 'inng_in_6',\n",
       " 'inng_in_7',\n",
       " 'inng_in_8',\n",
       " 'inng_in_9',\n",
       " 'inng_in_OTHER',\n",
       " 'k',\n",
       " '_8',\n",
       " '_i9',\n",
       " 'inng_out',\n",
       " 'inng_out_CG',\n",
       " 'inng_out_GS',\n",
       " 'inng_out_SHO',\n",
       " 'inng_out_1',\n",
       " 'inng_out_2',\n",
       " 'inng_out_3',\n",
       " 'inng_out_4',\n",
       " 'inng_out_5',\n",
       " 'inng_out_6',\n",
       " 'inng_out_7',\n",
       " 'inng_out_8',\n",
       " 'inng_out_9',\n",
       " 'inng_out_OTHER',\n",
       " '_9',\n",
       " '_i10',\n",
       " '_10',\n",
       " '_i11',\n",
       " '_list_dict',\n",
       " '_i12']"
      ]
     },
     "execution_count": 13,
     "metadata": {},
     "output_type": "execute_result"
    }
   ],
   "source": [
    "globaldict"
   ]
  },
  {
   "cell_type": "code",
   "execution_count": null,
   "metadata": {},
   "outputs": [],
   "source": []
  },
  {
   "cell_type": "code",
   "execution_count": 21,
   "metadata": {},
   "outputs": [
    {
     "name": "stdout",
     "output_type": "stream",
     "text": [
      "\"GTM_MEAN\": GTM_MEAN,\n",
      "\"GTM_STDEV\": GTM_STDEV,\n",
      "\"DAYS_REST_MEAN\": DAYS_REST_MEAN,\n",
      "\"DAYS_REST_STDEV\": DAYS_REST_STDEV,\n",
      "\"DAYS_BW_TEAM_GAMES_MEAN\": DAYS_BW_TEAM_GAMES_MEAN,\n",
      "\"DAYS_BW_TEAM_GAMES_STDEV\": DAYS_BW_TEAM_GAMES_STDEV,\n",
      "\"IP_MEAN\": IP_MEAN,\n",
      "\"IP_STDEV\": IP_STDEV,\n",
      "\"H_MEAN\": H_MEAN,\n",
      "\"H_STDEV\": H_STDEV,\n",
      "\"R_MEAN\": R_MEAN,\n",
      "\"R_STDEV\": R_STDEV,\n",
      "\"ER_MEAN\": ER_MEAN,\n",
      "\"ER_STDEV\": ER_STDEV,\n",
      "\"BB_MEAN\": BB_MEAN,\n",
      "\"BB_STDEV\": BB_STDEV,\n",
      "\"SO_MEAN\": SO_MEAN,\n",
      "\"SO_STDEV\": SO_STDEV,\n",
      "\"HR_MEAN\": HR_MEAN,\n",
      "\"HR_STDEV\": HR_STDEV,\n",
      "\"HBP_MEAN\": HBP_MEAN,\n",
      "\"HBP_STDEV\": HBP_STDEV,\n",
      "\"EARNED_RUN_AVG_MEAN\": EARNED_RUN_AVG_MEAN,\n",
      "\"EARNED_RUN_AVG_STDEV\": EARNED_RUN_AVG_STDEV,\n",
      "\"BATTERS_FACED_MEAN\": BATTERS_FACED_MEAN,\n",
      "\"BATTERS_FACED_STDEV\": BATTERS_FACED_STDEV,\n",
      "\"PITCHES_MEAN\": PITCHES_MEAN,\n",
      "\"PITCHES_STDEV\": PITCHES_STDEV,\n",
      "\"STRIKES_TOTAL_MEAN\": STRIKES_TOTAL_MEAN,\n",
      "\"STRIKES_TOTAL_STDEV\": STRIKES_TOTAL_STDEV,\n",
      "\"STRIKES_LOOKING_MEAN\": STRIKES_LOOKING_MEAN,\n",
      "\"STRIKES_LOOKING_STDEV\": STRIKES_LOOKING_STDEV,\n",
      "\"STRIKES_SWINGING_MEAN\": STRIKES_SWINGING_MEAN,\n",
      "\"STRIKES_SWINGING_STDEV\": STRIKES_SWINGING_STDEV,\n",
      "\"INPLAY_GB_TOTAL_MEAN\": INPLAY_GB_TOTAL_MEAN,\n",
      "\"INPLAY_GB_TOTAL_STDEV\": INPLAY_GB_TOTAL_STDEV,\n",
      "\"INPLAY_FB_TOTAL_MEAN\": INPLAY_FB_TOTAL_MEAN,\n",
      "\"INPLAY_FB_TOTAL_STDEV\": INPLAY_FB_TOTAL_STDEV,\n",
      "\"INPLAY_LD_MEAN\": INPLAY_LD_MEAN,\n",
      "\"INPLAY_LD_STDEV\": INPLAY_LD_STDEV,\n",
      "\"INPLAY_PU_MEAN\": INPLAY_PU_MEAN,\n",
      "\"INPLAY_PU_STDEV\": INPLAY_PU_STDEV,\n",
      "\"INPLAY_UNK_MEAN\": INPLAY_UNK_MEAN,\n",
      "\"INPLAY_UNK_STDEV\": INPLAY_UNK_STDEV,\n",
      "\"SB_MEAN\": SB_MEAN,\n",
      "\"SB_STDEV\": SB_STDEV,\n",
      "\"CS_MEAN\": CS_MEAN,\n",
      "\"CS_STDEV\": CS_STDEV,\n",
      "\"PICKOFFS_MEAN\": PICKOFFS_MEAN,\n",
      "\"PICKOFFS_STDEV\": PICKOFFS_STDEV,\n",
      "\"AB_MEAN\": AB_MEAN,\n",
      "\"AB_STDEV\": AB_STDEV,\n",
      "\"TWO_B_MEAN\": TWO_B_MEAN,\n",
      "\"TWO_B_STDEV\": TWO_B_STDEV,\n",
      "\"THREE_B_MEAN\": THREE_B_MEAN,\n",
      "\"THREE_B_STDEV\": THREE_B_STDEV,\n",
      "\"IBB_MEAN\": IBB_MEAN,\n",
      "\"IBB_STDEV\": IBB_STDEV,\n",
      "\"GIDP_MEAN\": GIDP_MEAN,\n",
      "\"GIDP_STDEV\": GIDP_STDEV,\n",
      "\"SF_MEAN\": SF_MEAN,\n",
      "\"SF_STDEV\": SF_STDEV,\n",
      "\"ROE_MEAN\": ROE_MEAN,\n",
      "\"ROE_STDEV\": ROE_STDEV,\n",
      "\"LEVERAGE_INDEX_AVG_MEAN\": LEVERAGE_INDEX_AVG_MEAN,\n",
      "\"LEVERAGE_INDEX_AVG_STDEV\": LEVERAGE_INDEX_AVG_STDEV,\n",
      "\"WPA_DEF_MEAN\": WPA_DEF_MEAN,\n",
      "\"WPA_DEF_STDEV\": WPA_DEF_STDEV,\n",
      "\"RE24_DEF_MEAN\": RE24_DEF_MEAN,\n",
      "\"RE24_DEF_STDEV\": RE24_DEF_STDEV,\n"
     ]
    }
   ],
   "source": [
    "_list_dict = {}\n",
    "\n",
    "for i in globaldict:\n",
    "    if type(globals()[i])== list and not i.startswith('_') and i != 'In':\n",
    "        try:\n",
    "            _list_dict[i.upper() + '_MEAN'] = stat.mean(eval(i))\n",
    "            #print(i.upper() + '_MEAN = []')\n",
    "            #print(i.upper() + '_MEAN'+ '.append(stat.mean({i}))'.format(i=i))\n",
    "            print('\"'+i.upper()+'_MEAN\"'+': '+i.upper()+'_MEAN,')\n",
    "            _list_dict[i.upper() + '_STDEV'] = stat.stdev(eval(i))\n",
    "            #print(i.upper() + '_STDEV = []')\n",
    "            #print(i.upper() + '_STDEV'+ '.append(stat.mean({i}))'.format(i=i))\n",
    "            print('\"'+i.upper()+'_STDEV\"'+': '+i.upper()+'_STDEV,')\n",
    "        except:\n",
    "            #print(i.upper() + ' = []')\n",
    "            pass"
   ]
  },
  {
   "cell_type": "code",
   "execution_count": 9,
   "metadata": {},
   "outputs": [
    {
     "data": {
      "text/plain": [
       "{}"
      ]
     },
     "execution_count": 9,
     "metadata": {},
     "output_type": "execute_result"
    }
   ],
   "source": [
    "_list_dict"
   ]
  },
  {
   "cell_type": "code",
   "execution_count": 34,
   "metadata": {},
   "outputs": [],
   "source": [
    "NAME = []\n",
    "NAME_KEY = []\n",
    "YEAR = []\n",
    "TEAM = []\n",
    "\n",
    "#lists of pitching statistics\n",
    "\n",
    "RSLT_W = []\n",
    "RSLT_L = []\n",
    "INNG_IN_CG = []\n",
    "INNG_IN_GS = []\n",
    "INNG_IN_SHO = []\n",
    "INNG_IN_1 = []\n",
    "INNG_IN_2 = []\n",
    "INNG_IN_3 = []\n",
    "INNG_IN_4 = []\n",
    "INNG_IN_5 = []\n",
    "INNG_IN_6 = []\n",
    "INNG_IN_7 = []\n",
    "INNG_IN_8 = []\n",
    "INNG_IN_9 = []\n",
    "INNG_IN_OTHER = []\n",
    "INNG_OUT_CG = []\n",
    "INNG_OUT_GS = []\n",
    "INNG_OUT_SHO = []\n",
    "INNG_OUT_1 = []\n",
    "INNG_OUT_2 = []\n",
    "INNG_OUT_3 = []\n",
    "INNG_OUT_4 = []\n",
    "INNG_OUT_5 = []\n",
    "INNG_OUT_6 = []\n",
    "INNG_OUT_7 = []\n",
    "INNG_OUT_8 = []\n",
    "INNG_OUT_9 = []\n",
    "INNG_OUT_OTHER = []\n",
    "DAYS_REST_MEAN = []\n",
    "DAYS_REST_STDEV = []\n",
    "DAYS_BW_TEAM_GAMES_MEAN = []\n",
    "DAYS_BW_TEAM_GAMES_STDEV = []\n",
    "IP_MEAN = []\n",
    "IP_STDEV = []\n",
    "H_MEAN = []\n",
    "H_STDEV = []\n",
    "R_MEAN = []\n",
    "R_STDEV = []\n",
    "ER_MEAN = []\n",
    "ER_STDEV = []\n",
    "BB_MEAN = []\n",
    "BB_STDEV = []\n",
    "SO_MEAN = []\n",
    "SO_STDEV = []\n",
    "HR_MEAN = []\n",
    "HR_STDEV = []\n",
    "HBP_MEAN = []\n",
    "HBP_STDEV = []\n",
    "EARNED_RUN_AVG_MEAN = []\n",
    "EARNED_RUN_AVG_STDEV = []\n",
    "BATTERS_FACED_MEAN = []\n",
    "BATTERS_FACED_STDEV = []\n",
    "PITCHES_MEAN = []\n",
    "PITCHES_STDEV = []\n",
    "STRIKES_TOTAL_MEAN = []\n",
    "STRIKES_TOTAL_STDEV = []\n",
    "STRIKES_LOOKING_MEAN = []\n",
    "STRIKES_LOOKING_STDEV = []\n",
    "STRIKES_SWINGING_MEAN = []\n",
    "STRIKES_SWINGING_STDEV = []\n",
    "INPLAY_GB_TOTAL_MEAN = []\n",
    "INPLAY_GB_TOTAL_STDEV = []\n",
    "INPLAY_FB_TOTAL_MEAN = []\n",
    "INPLAY_FB_TOTAL_STDEV = []\n",
    "INPLAY_LD_MEAN = []\n",
    "INPLAY_LD_STDEV = []\n",
    "INPLAY_PU_MEAN = []\n",
    "INPLAY_PU_STDEV = []\n",
    "INPLAY_UNK_MEAN = []\n",
    "INPLAY_UNK_STDEV = []\n",
    "SB_MEAN = []\n",
    "SB_STDEV = []\n",
    "CS_MEAN = []\n",
    "CS_STDEV = []\n",
    "PICKOFFS_MEAN = []\n",
    "PICKOFFS_STDEV = []\n",
    "AB_MEAN = []\n",
    "AB_STDEV = []\n",
    "TWO_B_MEAN = []\n",
    "TWO_B_STDEV = []\n",
    "THREE_B_MEAN = []\n",
    "THREE_B_STDEV = []\n",
    "IBB_MEAN = []\n",
    "IBB_STDEV = []\n",
    "GIDP_MEAN = []\n",
    "GIDP_STDEV = []\n",
    "SF_MEAN = []\n",
    "SF_STDEV = []\n",
    "ROE_MEAN = []\n",
    "ROE_STDEV = []\n",
    "LEVERAGE_INDEX_AVG_MEAN = []\n",
    "LEVERAGE_INDEX_AVG_STDEV = []\n",
    "WPA_DEF_MEAN = []\n",
    "WPA_DEF_STDEV = []\n",
    "RE24_DEF_MEAN = []\n",
    "RE24_DEF_STDEV = []"
   ]
  },
  {
   "cell_type": "code",
   "execution_count": 2,
   "metadata": {},
   "outputs": [],
   "source": [
    "url_T = 'https://www.baseball-reference.com/teams/CLE/2019.shtml'\n",
    "res_T = requests.get(url_T)\n",
    "soup_T=bs4.BeautifulSoup(res_T.text, 'html.parser')\n",
    "body = soup_T.find('tbody')"
   ]
  },
  {
   "cell_type": "code",
   "execution_count": 4,
   "metadata": {},
   "outputs": [
    {
     "data": {
      "text/plain": [
       "'C'"
      ]
     },
     "execution_count": 4,
     "metadata": {},
     "output_type": "execute_result"
    }
   ],
   "source": [
    "body.find('strong').text"
   ]
  },
  {
   "cell_type": "code",
   "execution_count": 6,
   "metadata": {},
   "outputs": [
    {
     "data": {
      "text/plain": [
       "[<strong>C</strong>,\n",
       " <strong>1B</strong>,\n",
       " <strong>2B</strong>,\n",
       " <strong>SS</strong>,\n",
       " <strong>3B</strong>,\n",
       " <strong>LF</strong>,\n",
       " <strong>CF</strong>,\n",
       " <strong>RF</strong>,\n",
       " <strong>DH</strong>]"
      ]
     },
     "execution_count": 6,
     "metadata": {},
     "output_type": "execute_result"
    }
   ],
   "source": [
    "body.find_all('strong')"
   ]
  },
  {
   "cell_type": "code",
   "execution_count": 8,
   "metadata": {},
   "outputs": [
    {
     "name": "stdout",
     "output_type": "stream",
     "text": [
      "C\n",
      "1B\n",
      "2B\n",
      "SS\n",
      "3B\n",
      "LF\n",
      "CF\n",
      "RF\n",
      "DH\n",
      "CF\n",
      "OF\n",
      "LF\n",
      "2B\n",
      "RF\n",
      "C\n",
      "LF\n",
      "3B\n",
      "DH\n",
      "DH\n",
      "SS\n",
      "2B\n",
      "IF\n",
      "IF\n",
      "C\n",
      "OF\n",
      "UT\n",
      "P\n",
      "P\n",
      "P\n",
      "P\n",
      "P\n",
      "P\n",
      "P\n",
      "P\n",
      "P\n",
      "P\n",
      "P\n",
      "P\n",
      "P\n",
      "P\n",
      "P\n",
      "P\n",
      "P\n",
      "P\n",
      "P\n",
      "P\n",
      "P\n",
      "P\n",
      "P\n",
      "P\n",
      "P\n",
      "P\n",
      "P\n",
      "P\n"
     ]
    }
   ],
   "source": [
    "for item in body.find_all('td', {'data-stat':'pos'}):\n",
    "            print(item.text)"
   ]
  },
  {
   "cell_type": "code",
   "execution_count": 36,
   "metadata": {},
   "outputs": [],
   "source": [
    "body_TEAMID = body.find_all('td', {'data-stat':'team_ID'})"
   ]
  },
  {
   "cell_type": "code",
   "execution_count": 37,
   "metadata": {},
   "outputs": [
    {
     "data": {
      "text/plain": [
       "'SDP'"
      ]
     },
     "execution_count": 37,
     "metadata": {},
     "output_type": "execute_result"
    }
   ],
   "source": [
    "body_TEAMID[0].text"
   ]
  },
  {
   "cell_type": "code",
   "execution_count": null,
   "metadata": {},
   "outputs": [],
   "source": []
  }
 ],
 "metadata": {
  "kernelspec": {
   "display_name": "Python 3",
   "language": "python",
   "name": "python3"
  },
  "language_info": {
   "codemirror_mode": {
    "name": "ipython",
    "version": 3
   },
   "file_extension": ".py",
   "mimetype": "text/x-python",
   "name": "python",
   "nbconvert_exporter": "python",
   "pygments_lexer": "ipython3",
   "version": "3.7.1"
  }
 },
 "nbformat": 4,
 "nbformat_minor": 2
}
