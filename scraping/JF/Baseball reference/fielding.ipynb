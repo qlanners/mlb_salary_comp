{
 "cells": [
  {
   "cell_type": "code",
   "execution_count": 2,
   "metadata": {},
   "outputs": [],
   "source": [
    "import requests\n",
    "import bs4"
   ]
  },
  {
   "cell_type": "code",
   "execution_count": 2,
   "metadata": {},
   "outputs": [],
   "source": [
    "year = str(2019)\n",
    "\n",
    "url = \"https://www.baseball-reference.com/leagues/MLB/\" + year + \".shtml\"\n",
    "res = requests.get(url)"
   ]
  },
  {
   "cell_type": "code",
   "execution_count": 3,
   "metadata": {},
   "outputs": [
    {
     "data": {
      "text/plain": [
       "<Response [200]>"
      ]
     },
     "execution_count": 3,
     "metadata": {},
     "output_type": "execute_result"
    }
   ],
   "source": [
    "res"
   ]
  },
  {
   "cell_type": "code",
   "execution_count": 4,
   "metadata": {},
   "outputs": [],
   "source": [
    "soup=bs4.BeautifulSoup(res.text, 'html.parser')"
   ]
  },
  {
   "cell_type": "code",
   "execution_count": 7,
   "metadata": {},
   "outputs": [],
   "source": [
    "body = soup.find('tbody')"
   ]
  },
  {
   "cell_type": "code",
   "execution_count": 10,
   "metadata": {},
   "outputs": [],
   "source": [
    "teams = []\n",
    "urls = []"
   ]
  },
  {
   "cell_type": "code",
   "execution_count": 14,
   "metadata": {},
   "outputs": [
    {
     "data": {
      "text/plain": [
       "'Arizona Diamondbacks'"
      ]
     },
     "execution_count": 14,
     "metadata": {},
     "output_type": "execute_result"
    }
   ],
   "source": [
    "body.find('a', href=True)['title']"
   ]
  },
  {
   "cell_type": "code",
   "execution_count": 16,
   "metadata": {},
   "outputs": [],
   "source": [
    "for item in body.find_all('a', href=True):\n",
    "    teams.append(item['title'])\n",
    "    urls.append(item['href'])"
   ]
  },
  {
   "cell_type": "code",
   "execution_count": 18,
   "metadata": {},
   "outputs": [
    {
     "name": "stdout",
     "output_type": "stream",
     "text": [
      "/teams/ARI/2019.shtml\n",
      "/teams/ATL/2019.shtml\n",
      "/teams/BAL/2019.shtml\n",
      "/teams/BOS/2019.shtml\n",
      "/teams/CHC/2019.shtml\n",
      "/teams/CHW/2019.shtml\n",
      "/teams/CIN/2019.shtml\n",
      "/teams/CLE/2019.shtml\n",
      "/teams/COL/2019.shtml\n",
      "/teams/DET/2019.shtml\n",
      "/teams/HOU/2019.shtml\n",
      "/teams/KCR/2019.shtml\n",
      "/teams/LAA/2019.shtml\n",
      "/teams/LAD/2019.shtml\n",
      "/teams/MIA/2019.shtml\n",
      "/teams/MIL/2019.shtml\n",
      "/teams/MIN/2019.shtml\n",
      "/teams/NYM/2019.shtml\n",
      "/teams/NYY/2019.shtml\n",
      "/teams/OAK/2019.shtml\n",
      "/teams/PHI/2019.shtml\n",
      "/teams/PIT/2019.shtml\n",
      "/teams/SDP/2019.shtml\n",
      "/teams/SEA/2019.shtml\n",
      "/teams/SFG/2019.shtml\n",
      "/teams/STL/2019.shtml\n",
      "/teams/TBR/2019.shtml\n",
      "/teams/TEX/2019.shtml\n",
      "/teams/TOR/2019.shtml\n",
      "/teams/WSN/2019.shtml\n",
      "/teams/ARI/2019.shtml\n",
      "/teams/ATL/2019.shtml\n",
      "/teams/BAL/2019.shtml\n",
      "/teams/BOS/2019.shtml\n",
      "/teams/CHC/2019.shtml\n",
      "/teams/CHW/2019.shtml\n",
      "/teams/CIN/2019.shtml\n",
      "/teams/CLE/2019.shtml\n",
      "/teams/COL/2019.shtml\n",
      "/teams/DET/2019.shtml\n",
      "/teams/HOU/2019.shtml\n",
      "/teams/KCR/2019.shtml\n",
      "/teams/LAA/2019.shtml\n",
      "/teams/LAD/2019.shtml\n",
      "/teams/MIA/2019.shtml\n",
      "/teams/MIL/2019.shtml\n",
      "/teams/MIN/2019.shtml\n",
      "/teams/NYM/2019.shtml\n",
      "/teams/NYY/2019.shtml\n",
      "/teams/OAK/2019.shtml\n",
      "/teams/PHI/2019.shtml\n",
      "/teams/PIT/2019.shtml\n",
      "/teams/SDP/2019.shtml\n",
      "/teams/SEA/2019.shtml\n",
      "/teams/SFG/2019.shtml\n",
      "/teams/STL/2019.shtml\n",
      "/teams/TBR/2019.shtml\n",
      "/teams/TEX/2019.shtml\n",
      "/teams/TOR/2019.shtml\n",
      "/teams/WSN/2019.shtml\n"
     ]
    }
   ],
   "source": [
    "for t in urls:\n",
    "    print(t)"
   ]
  },
  {
   "cell_type": "code",
   "execution_count": 221,
   "metadata": {},
   "outputs": [],
   "source": [
    "url = 'https://www.baseball-reference.com/teams/ARI/2019.shtml'\n",
    "res = requests.get(url)"
   ]
  },
  {
   "cell_type": "code",
   "execution_count": 222,
   "metadata": {},
   "outputs": [],
   "source": [
    "soup=bs4.BeautifulSoup(res.text, 'html.parser')"
   ]
  },
  {
   "cell_type": "code",
   "execution_count": 224,
   "metadata": {},
   "outputs": [
    {
     "data": {
      "text/plain": [
       "'Arizona Diamondbacks'"
      ]
     },
     "execution_count": 224,
     "metadata": {},
     "output_type": "execute_result"
    }
   ],
   "source": [
    "#soup_team = \n",
    "team = soup.find('h1', {'itemprop':'name'}).find_all('span')[1].text"
   ]
  },
  {
   "cell_type": "code",
   "execution_count": 213,
   "metadata": {},
   "outputs": [],
   "source": [
    "body = soup.find('tbody')"
   ]
  },
  {
   "cell_type": "code",
   "execution_count": 214,
   "metadata": {},
   "outputs": [],
   "source": [
    "players = []\n",
    "players_urls = []"
   ]
  },
  {
   "cell_type": "code",
   "execution_count": 218,
   "metadata": {},
   "outputs": [],
   "source": [
    "players_urls = []\n",
    "players_namekeys = []\n",
    "for item in body.find_all('a', href=True):\n",
    "    players_urls.append(item['href'])\n",
    "    players_namekeys.append(item['href'][11:-6])"
   ]
  },
  {
   "cell_type": "code",
   "execution_count": 219,
   "metadata": {
    "scrolled": true
   },
   "outputs": [
    {
     "name": "stdout",
     "output_type": "stream",
     "text": [
      "['kellyca02', 'walkech02', 'florewi01', 'ahmedni01', 'escobed01', 'peralda01', 'marteke01', 'jonesad01', 'dysonja01', 'locasti01', 'lambja01', 'vargail01', 'avilaal01', 'rojasjo01', 'cronke01', 'swihabl01', 'murphjr01', 'josepca01', 'almonab01', 'leybado01', 'tomasya01', 'rayro02', 'kellyme01', 'greinza01', 'clarkta01', 'youngal01', 'godleza01', 'leakemi01', 'weavelu01', 'galleza01', 'duplajo01', 'andrima01', 'kochma01', 'mcfartj01', 'sherfji01', 'bradlar01', 'hiranyo01', 'payamjo01', 'chafian01', 'hollagr01', 'crichst01', 'ginkeke01', 'lopezyo01', 'scottro02', 'walketa01']\n"
     ]
    }
   ],
   "source": [
    "print(players_namekeys)"
   ]
  },
  {
   "cell_type": "code",
   "execution_count": 220,
   "metadata": {},
   "outputs": [
    {
     "name": "stdout",
     "output_type": "stream",
     "text": [
      "['/players/k/kellyca02.shtml', '/players/w/walkech02.shtml', '/players/f/florewi01.shtml', '/players/a/ahmedni01.shtml', '/players/e/escobed01.shtml', '/players/p/peralda01.shtml', '/players/m/marteke01.shtml', '/players/j/jonesad01.shtml', '/players/d/dysonja01.shtml', '/players/l/locasti01.shtml', '/players/l/lambja01.shtml', '/players/v/vargail01.shtml', '/players/a/avilaal01.shtml', '/players/r/rojasjo01.shtml', '/players/c/cronke01.shtml', '/players/s/swihabl01.shtml', '/players/m/murphjr01.shtml', '/players/j/josepca01.shtml', '/players/a/almonab01.shtml', '/players/l/leybado01.shtml', '/players/t/tomasya01.shtml', '/players/r/rayro02.shtml', '/players/k/kellyme01.shtml', '/players/g/greinza01.shtml', '/players/c/clarkta01.shtml', '/players/y/youngal01.shtml', '/players/g/godleza01.shtml', '/players/l/leakemi01.shtml', '/players/w/weavelu01.shtml', '/players/g/galleza01.shtml', '/players/d/duplajo01.shtml', '/players/a/andrima01.shtml', '/players/k/kochma01.shtml', '/players/m/mcfartj01.shtml', '/players/s/sherfji01.shtml', '/players/b/bradlar01.shtml', '/players/h/hiranyo01.shtml', '/players/p/payamjo01.shtml', '/players/c/chafian01.shtml', '/players/h/hollagr01.shtml', '/players/c/crichst01.shtml', '/players/g/ginkeke01.shtml', '/players/l/lopezyo01.shtml', '/players/s/scottro02.shtml', '/players/w/walketa01.shtml']\n"
     ]
    }
   ],
   "source": [
    "print(players_urls)"
   ]
  },
  {
   "cell_type": "code",
   "execution_count": 24,
   "metadata": {
    "scrolled": true
   },
   "outputs": [
    {
     "data": {
      "text/plain": [
       "'/players/k/kellyca02.shtml'"
      ]
     },
     "execution_count": 24,
     "metadata": {},
     "output_type": "execute_result"
    }
   ],
   "source": [
    "body.find('a', href=True)['href']"
   ]
  },
  {
   "cell_type": "code",
   "execution_count": null,
   "metadata": {},
   "outputs": [],
   "source": [
    "body.find('a', href=True)['href'][11:-6]"
   ]
  },
  {
   "cell_type": "code",
   "execution_count": 28,
   "metadata": {},
   "outputs": [
    {
     "name": "stdout",
     "output_type": "stream",
     "text": [
      "Carson Kelly\n",
      "Christian Walker\n",
      "Wilmer Flores\n",
      "Nick Ahmed\n",
      "Eduardo Escobar\n",
      "David Peralta\n",
      "Ketel Marte\n",
      "Adam Jones\n",
      "Jarrod Dyson\n",
      "Tim Locastro\n",
      "Jake Lamb\n",
      "Ildemaro Vargas\n",
      "Alex Avila\n",
      "Josh Rojas\n",
      "Kevin Cron\n",
      "Blake Swihart\n",
      "John Ryan Murphy\n",
      "Caleb Joseph\n",
      "Abraham Almonte\n",
      "Domingo Leyba\n",
      "Yasmany Tomas\n",
      "Robbie Ray\n",
      "Merrill Kelly\n",
      "Zack Greinke\n",
      "Taylor Clarke\n",
      "Alex Young\n",
      "Zack Godley\n",
      "Mike Leake\n",
      "Luke Weaver\n",
      "Zac Gallen\n",
      "Jon Duplantier\n",
      "Matt Andriese\n",
      "Matt Koch\n",
      "T.J. McFarland\n",
      "Jimmie Sherfy\n",
      "Archie Bradley\n",
      "Yoshihisa Hirano\n",
      "Joel Payamps\n",
      "Andrew Chafin\n",
      "Greg Holland\n",
      "Stefan Crichton\n",
      "Kevin Ginkel\n",
      "Yoan Lopez\n",
      "Robby Scott\n",
      "Taijuan Walker\n"
     ]
    }
   ],
   "source": [
    "for p in players:\n",
    "    print(p)"
   ]
  },
  {
   "cell_type": "code",
   "execution_count": 14,
   "metadata": {},
   "outputs": [],
   "source": [
    "url = \"https://www.baseball-reference.com/players/gl.fcgi?id=escobed01&t=f&year=2019\"\n",
    "res = requests.get(url)\n",
    "soup=bs4.BeautifulSoup(res.text, 'html.parser')"
   ]
  },
  {
   "cell_type": "code",
   "execution_count": 156,
   "metadata": {},
   "outputs": [],
   "source": [
    "from collections import Counter"
   ]
  },
  {
   "cell_type": "code",
   "execution_count": 210,
   "metadata": {
    "scrolled": true
   },
   "outputs": [
    {
     "name": "stdout",
     "output_type": "stream",
     "text": [
      "Counter({'C': 101, 'PH': 6, '3B': 1, '': 1}) 101 6 1 0\n"
     ]
    }
   ],
   "source": [
    "pos = []\n",
    "for p in soup.find_all('td', {'data-stat':'pos_game'}):\n",
    "   \n",
    "    for s in p.text.split(' '):\n",
    "        pos.append(s)\n",
    "        \n",
    "pos_dict = Counter(pos)\n",
    "    \n",
    "C  = pos_dict['C'] if 'C' in pos_dict.keys() else 0\n",
    "FB = pos_dict['1B'] if '1B' in pos_dict.keys() else 0\n",
    "SB = pos_dict['2B'] if '2B' in pos_dict.keys() else 0\n",
    "TB = pos_dict['3B'] if '3B' in pos_dict.keys() else 0\n",
    "SS = pos_dict['SS'] if 'SS' in pos_dict.keys() else 0\n",
    "LF = pos_dict['LF'] if 'LF' in pos_dict.keys() else 0\n",
    "CF = pos_dict['CF'] if 'CF' in pos_dict.keys() else 0\n",
    "RF = pos_dict['RF'] if 'RF' in pos_dict.keys() else 0\n",
    "DH = pos_dict['DH'] if 'DH' in pos_dict.keys() else 0\n",
    "PH = pos_dict['PH'] if 'PH' in pos_dict.keys() else 0\n",
    "PR = pos_dict['PR'] if 'PR' in pos_dict.keys() else 0                \n",
    "        \n",
    "print(pos_dict, C, PH, TB, PR)   "
   ]
  },
  {
   "cell_type": "code",
   "execution_count": 202,
   "metadata": {},
   "outputs": [
    {
     "data": {
      "text/plain": [
       "True"
      ]
     },
     "execution_count": 202,
     "metadata": {},
     "output_type": "execute_result"
    }
   ],
   "source": [
    "'C' in pos_dict.keys()"
   ]
  },
  {
   "cell_type": "code",
   "execution_count": 4,
   "metadata": {},
   "outputs": [],
   "source": [
    "import statistics as stat"
   ]
  },
  {
   "cell_type": "code",
   "execution_count": 189,
   "metadata": {},
   "outputs": [
    {
     "data": {
      "text/plain": [
       "['Decimal',\n",
       " 'Fraction',\n",
       " 'StatisticsError',\n",
       " '__all__',\n",
       " '__builtins__',\n",
       " '__cached__',\n",
       " '__doc__',\n",
       " '__file__',\n",
       " '__loader__',\n",
       " '__name__',\n",
       " '__package__',\n",
       " '__spec__',\n",
       " '_coerce',\n",
       " '_convert',\n",
       " '_counts',\n",
       " '_exact_ratio',\n",
       " '_fail_neg',\n",
       " '_find_lteq',\n",
       " '_find_rteq',\n",
       " '_isfinite',\n",
       " '_ss',\n",
       " '_sum',\n",
       " 'bisect_left',\n",
       " 'bisect_right',\n",
       " 'collections',\n",
       " 'groupby',\n",
       " 'harmonic_mean',\n",
       " 'math',\n",
       " 'mean',\n",
       " 'median',\n",
       " 'median_grouped',\n",
       " 'median_high',\n",
       " 'median_low',\n",
       " 'mode',\n",
       " 'numbers',\n",
       " 'pstdev',\n",
       " 'pvariance',\n",
       " 'stdev',\n",
       " 'variance']"
      ]
     },
     "execution_count": 189,
     "metadata": {},
     "output_type": "execute_result"
    }
   ],
   "source": [
    "dir(stat)"
   ]
  },
  {
   "cell_type": "code",
   "execution_count": 8,
   "metadata": {},
   "outputs": [],
   "source": [
    "for p in soup.find_all('td', {'data-stat':'E_def'})[-2:]:\n",
    "    print(p.text)"
   ]
  },
  {
   "cell_type": "code",
   "execution_count": 16,
   "metadata": {},
   "outputs": [
    {
     "name": "stdout",
     "output_type": "stream",
     "text": [
      "0.2083308895262337\n",
      "155\n"
     ]
    }
   ],
   "source": [
    "err = []\n",
    "for p in soup.find_all('td', {'data-stat':'E_def'})[:-1]:\n",
    "    err.append(int(p.text))\n",
    "    \n",
    "#errors = int(foot.find('td',{'data-stat':'E_def'}).text)           \n",
    "#errors_mean = stat.mean(err)\n",
    "errors_stdev = print(stat.stdev(err))\n",
    "print(len(err))"
   ]
  },
  {
   "cell_type": "code",
   "execution_count": 195,
   "metadata": {},
   "outputs": [
    {
     "name": "stdout",
     "output_type": "stream",
     "text": [
      "7.764705882352941\n",
      "4.1984826834621325\n"
     ]
    }
   ],
   "source": [
    "po = []\n",
    "for p in soup.find_all('td', {'data-stat':'PO'})[:-1]:\n",
    "    po.append(int(p.text))\n",
    "\n",
    "putouts = int(foot.find('td',{'data-stat':'PO'}).text)\n",
    "putouts_mean = stat.mean(po)\n",
    "putouts_stdev = stat.stdev(po)"
   ]
  },
  {
   "cell_type": "code",
   "execution_count": 196,
   "metadata": {},
   "outputs": [
    {
     "name": "stdout",
     "output_type": "stream",
     "text": [
      "0.4803921568627451\n",
      "0.699793352197247\n"
     ]
    }
   ],
   "source": [
    "ast = []\n",
    "for p in soup.find_all('td', {'data-stat':'A'})[:-1]:\n",
    "    ast.append(int(p.text))\n",
    "\n",
    "asts = foot.find('td',{'data-stat':'A'}).text\n",
    "asts_mean = stat.mean(ast)\n",
    "asts_stdev = stat.stdev(ast)"
   ]
  },
  {
   "cell_type": "code",
   "execution_count": 198,
   "metadata": {},
   "outputs": [
    {
     "name": "stdout",
     "output_type": "stream",
     "text": [
      "7.6872549019607845\n",
      "2.80486393551593\n"
     ]
    }
   ],
   "source": [
    "inn = []\n",
    "for p in soup.find_all('td', {'data-stat':'Inn_def'})[:-1]:\n",
    "    inn.append(float(p.text))\n",
    "\n",
    "ings = int(foot.find('td',{'data-stat':'Inn_def'}).text)  \n",
    "ings_mean = stat.mean(inn)\n",
    "ings_stdev = stat.stdev(inn)"
   ]
  },
  {
   "cell_type": "code",
   "execution_count": 180,
   "metadata": {},
   "outputs": [
    {
     "data": {
      "text/plain": [
       "'849'"
      ]
     },
     "execution_count": 180,
     "metadata": {},
     "output_type": "execute_result"
    }
   ],
   "source": [
    "foot = soup.find('tfoot')\n",
    "\n",
    "innings = foot.find('td',{'data-stat':'Inn_def'}).text\n",
    "putouts = foot.find('td',{'data-stat':'PO'}).text\n",
    "assists = foot.find('td',{'data-stat':'A'}).text\n",
    "errors = foot.find('td',{'data-stat':'E_def'}).text"
   ]
  },
  {
   "cell_type": "code",
   "execution_count": 194,
   "metadata": {},
   "outputs": [
    {
     "data": {
      "text/plain": [
       "'1'"
      ]
     },
     "execution_count": 194,
     "metadata": {},
     "output_type": "execute_result"
    }
   ],
   "source": [
    "soup.find_all('td', {'data-stat':'PO'})[:-1][0].text"
   ]
  },
  {
   "cell_type": "code",
   "execution_count": 208,
   "metadata": {},
   "outputs": [
    {
     "data": {
      "text/plain": [
       "'Carson Kelly'"
      ]
     },
     "execution_count": 208,
     "metadata": {},
     "output_type": "execute_result"
    }
   ],
   "source": [
    "soup.find('h1', {'itemprop':'name'}).text"
   ]
  },
  {
   "cell_type": "code",
   "execution_count": null,
   "metadata": {},
   "outputs": [],
   "source": []
  },
  {
   "cell_type": "code",
   "execution_count": 4,
   "metadata": {},
   "outputs": [],
   "source": [
    "url_L = \"https://www.baseball-reference.com/leagues/MLB/2019.shtml\""
   ]
  },
  {
   "cell_type": "code",
   "execution_count": 5,
   "metadata": {},
   "outputs": [],
   "source": [
    "\n",
    "res_L = requests.get(url_L)\n",
    "soup_L=bs4.BeautifulSoup(res_L.text, 'html.parser')\n",
    "body_L = soup_L.find('tbody')"
   ]
  },
  {
   "cell_type": "code",
   "execution_count": 6,
   "metadata": {},
   "outputs": [],
   "source": [
    "teams_urls = []\n",
    "for item in body_L.find_all('a', href=True):\n",
    "    teams_urls.append(item['href'])"
   ]
  },
  {
   "cell_type": "code",
   "execution_count": 7,
   "metadata": {},
   "outputs": [
    {
     "data": {
      "text/plain": [
       "['/teams/ARI/2019.shtml',\n",
       " '/teams/ATL/2019.shtml',\n",
       " '/teams/BAL/2019.shtml',\n",
       " '/teams/BOS/2019.shtml',\n",
       " '/teams/CHC/2019.shtml',\n",
       " '/teams/CHW/2019.shtml',\n",
       " '/teams/CIN/2019.shtml',\n",
       " '/teams/CLE/2019.shtml',\n",
       " '/teams/COL/2019.shtml',\n",
       " '/teams/DET/2019.shtml',\n",
       " '/teams/HOU/2019.shtml',\n",
       " '/teams/KCR/2019.shtml',\n",
       " '/teams/LAA/2019.shtml',\n",
       " '/teams/LAD/2019.shtml',\n",
       " '/teams/MIA/2019.shtml',\n",
       " '/teams/MIL/2019.shtml',\n",
       " '/teams/MIN/2019.shtml',\n",
       " '/teams/NYM/2019.shtml',\n",
       " '/teams/NYY/2019.shtml',\n",
       " '/teams/OAK/2019.shtml',\n",
       " '/teams/PHI/2019.shtml',\n",
       " '/teams/PIT/2019.shtml',\n",
       " '/teams/SDP/2019.shtml',\n",
       " '/teams/SEA/2019.shtml',\n",
       " '/teams/SFG/2019.shtml',\n",
       " '/teams/STL/2019.shtml',\n",
       " '/teams/TBR/2019.shtml',\n",
       " '/teams/TEX/2019.shtml',\n",
       " '/teams/TOR/2019.shtml',\n",
       " '/teams/WSN/2019.shtml']"
      ]
     },
     "execution_count": 7,
     "metadata": {},
     "output_type": "execute_result"
    }
   ],
   "source": [
    "teams_urls"
   ]
  },
  {
   "cell_type": "code",
   "execution_count": 9,
   "metadata": {},
   "outputs": [
    {
     "name": "stdout",
     "output_type": "stream",
     "text": [
      "2000\n",
      "2001\n",
      "2002\n",
      "2003\n",
      "2004\n",
      "2005\n",
      "2006\n",
      "2007\n",
      "2008\n",
      "2009\n",
      "2010\n",
      "2011\n",
      "2012\n",
      "2013\n",
      "2014\n",
      "2015\n",
      "2016\n",
      "2017\n",
      "2018\n",
      "2019\n"
     ]
    }
   ],
   "source": [
    "for y in range(2000,2020):\n",
    "    print(y)"
   ]
  },
  {
   "cell_type": "code",
   "execution_count": 10,
   "metadata": {},
   "outputs": [],
   "source": [
    "num_lines = sum(1 for line in open('misses.txt'))"
   ]
  },
  {
   "cell_type": "code",
   "execution_count": 11,
   "metadata": {},
   "outputs": [
    {
     "name": "stdout",
     "output_type": "stream",
     "text": [
      "47\n"
     ]
    }
   ],
   "source": [
    "print(num_lines)"
   ]
  },
  {
   "cell_type": "code",
   "execution_count": 13,
   "metadata": {},
   "outputs": [],
   "source": [
    "from time import perf_counter\n",
    "import math"
   ]
  },
  {
   "cell_type": "code",
   "execution_count": 15,
   "metadata": {},
   "outputs": [
    {
     "name": "stdout",
     "output_type": "stream",
     "text": [
      "123456789101112131415161718192021222324252627282930313233343536373839404142434445464748495051525354555657585960616263646566676869707172737475767778798081828384858687888990919293949596979899100\n",
      "0 hours, 0 minutes, 0 seconds\n"
     ]
    }
   ],
   "source": [
    "start = perf_counter()\n",
    "\n",
    "for i in range(1,101):\n",
    "    print(i, end='')\n",
    "\n",
    "end = perf_counter()\n",
    "elapsed = end - start \n",
    "\n",
    "hours = math.floor(elapsed / 60**2)\n",
    "minutes = math.floor((elapsed - hours*60**2) / 60)\n",
    "seconds = math.floor(elapsed - hours*60**2 -minutes*60)\n",
    "\n",
    "print(f'\\n{hours} hours, {minutes} minutes, {seconds} seconds')"
   ]
  },
  {
   "cell_type": "code",
   "execution_count": 12,
   "metadata": {},
   "outputs": [],
   "source": []
  },
  {
   "cell_type": "code",
   "execution_count": null,
   "metadata": {},
   "outputs": [],
   "source": []
  }
 ],
 "metadata": {
  "kernelspec": {
   "display_name": "Python 3",
   "language": "python",
   "name": "python3"
  },
  "language_info": {
   "codemirror_mode": {
    "name": "ipython",
    "version": 3
   },
   "file_extension": ".py",
   "mimetype": "text/x-python",
   "name": "python",
   "nbconvert_exporter": "python",
   "pygments_lexer": "ipython3",
   "version": "3.7.1"
  }
 },
 "nbformat": 4,
 "nbformat_minor": 2
}
