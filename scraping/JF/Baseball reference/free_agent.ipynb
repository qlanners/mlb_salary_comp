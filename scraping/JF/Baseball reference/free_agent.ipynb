{
 "cells": [
  {
   "cell_type": "code",
   "execution_count": 1,
   "metadata": {},
   "outputs": [],
   "source": [
    "import requests\n",
    "import bs4\n",
    "import pandas as pd\n",
    "import datetime as dt"
   ]
  },
  {
   "cell_type": "code",
   "execution_count": 10,
   "metadata": {},
   "outputs": [
    {
     "name": "stdout",
     "output_type": "stream",
     "text": [
      "https://www.baseball-reference.com/players/f/ferguca01.shtml\n",
      "arrival date: July 3, 2014\n",
      "arrival method: Drafted\n",
      "drafted by: Los Angeles Dodgers\n",
      "draft round: 38th round\n",
      "free agent date: NA\n"
     ]
    }
   ],
   "source": [
    "\n",
    "\n",
    "player_id = \"ferguca01\"\n",
    "url = 'https://www.baseball-reference.com/players/' \\\n",
    "    + player_id[0] + '/' + player_id + '.shtml'\n",
    "\n",
    "print(str(url))\n",
    "\n",
    "res = requests.get(url)\n",
    "soup=bs4.BeautifulSoup(res.text, 'html.parser')\n",
    "new_soup_text = soup.find('h2',text='Transactions').findNext('div', class_ = 'placeholder').next_sibling.next_sibling\n",
    "new_soup = bs4.BeautifulSoup(new_soup_text, 'html.parser')\n",
    "\n",
    "free_agent = False\n",
    "\n",
    "all_p = new_soup('p')\n",
    "arrival_dt = all_p[0].text.split(': ')[0]\n",
    "arrival_method = all_p[0].text.split(': ')[1].split()[0]\n",
    "\n",
    "\n",
    "for s in all_p:\n",
    "    if 'Free Agent' in s.text or 'free agent' in s.text:\n",
    "        free_agent = True\n",
    "        free_agent_dt = s.text.split(': ')[-2]\n",
    "        break\n",
    "    if s.text.split(': ')[-1] == \"Granted Free Agency.\":\n",
    "        free_agent = True\n",
    "        free_agent_dt = s.text.split(': ')[-2]\n",
    "        break\n",
    "\n",
    "if not free_agent:\n",
    "    free_agent_dt = 'NA'\n",
    "\n",
    "print('arrival date:',arrival_dt)\n",
    "print('arrival method:', arrival_method)\n",
    "\n",
    "if arrival_method == 'Drafted':\n",
    "    draft = all_p[0].find_all('a', href=True)\n",
    "    drafted_by = draft[0].text\n",
    "    draft_round = draft[1].text\n",
    "    \n",
    "    print('drafted by:', drafted_by)\n",
    "    print('draft round:', draft_round)\n",
    "    \n",
    "print('free agent date:', free_agent_dt)\n",
    "\n"
   ]
  },
  {
   "cell_type": "markdown",
   "metadata": {},
   "source": [
    "# if signed as free agent, then assign free agent if either signed before last CBA (before 2017) or after last CBA and above 25 years old\n",
    "\n",
    "# if drafted, assign free agent after sixth season, if not granted free agency before\n",
    "\n",
    "# if not assigned a free agency date, assign that date after the sixth season (future date)"
   ]
  },
  {
   "cell_type": "code",
   "execution_count": 7,
   "metadata": {},
   "outputs": [
    {
     "data": {
      "text/html": [
       "<div>\n",
       "<style scoped>\n",
       "    .dataframe tbody tr th:only-of-type {\n",
       "        vertical-align: middle;\n",
       "    }\n",
       "\n",
       "    .dataframe tbody tr th {\n",
       "        vertical-align: top;\n",
       "    }\n",
       "\n",
       "    .dataframe thead th {\n",
       "        text-align: right;\n",
       "    }\n",
       "</style>\n",
       "<table border=\"1\" class=\"dataframe\">\n",
       "  <thead>\n",
       "    <tr style=\"text-align: right;\">\n",
       "      <th></th>\n",
       "      <th>NAME</th>\n",
       "      <th>NAME_KEY</th>\n",
       "      <th>BIRTHDATE</th>\n",
       "      <th>YEAR</th>\n",
       "      <th>concat_cols</th>\n",
       "    </tr>\n",
       "  </thead>\n",
       "  <tbody>\n",
       "    <tr>\n",
       "      <th>0</th>\n",
       "      <td>Shohei Ohtani</td>\n",
       "      <td>ohtansh01</td>\n",
       "      <td>1994-07-05</td>\n",
       "      <td>2018</td>\n",
       "      <td>[Shohei Ohtani, ohtansh01, 1994-07-05, 2018]</td>\n",
       "    </tr>\n",
       "    <tr>\n",
       "      <th>1</th>\n",
       "      <td>Mike Lansing</td>\n",
       "      <td>lansimi01</td>\n",
       "      <td>1968-04-03</td>\n",
       "      <td>2000</td>\n",
       "      <td>[Mike Lansing, lansimi01, 1968-04-03, 2000]</td>\n",
       "    </tr>\n",
       "    <tr>\n",
       "      <th>2</th>\n",
       "      <td>Mike Lansing</td>\n",
       "      <td>lansimi01</td>\n",
       "      <td>1968-04-03</td>\n",
       "      <td>2000</td>\n",
       "      <td>[Mike Lansing, lansimi01, 1968-04-03, 2000]</td>\n",
       "    </tr>\n",
       "    <tr>\n",
       "      <th>3</th>\n",
       "      <td>Mike Lansing</td>\n",
       "      <td>lansimi01</td>\n",
       "      <td>1968-04-03</td>\n",
       "      <td>2001</td>\n",
       "      <td>[Mike Lansing, lansimi01, 1968-04-03, 2001]</td>\n",
       "    </tr>\n",
       "    <tr>\n",
       "      <th>4</th>\n",
       "      <td>Caleb Ferguson</td>\n",
       "      <td>ferguca01</td>\n",
       "      <td>1996-07-02</td>\n",
       "      <td>2018</td>\n",
       "      <td>[Caleb Ferguson, ferguca01, 1996-07-02, 2018]</td>\n",
       "    </tr>\n",
       "    <tr>\n",
       "      <th>5</th>\n",
       "      <td>Caleb Ferguson</td>\n",
       "      <td>ferguca01</td>\n",
       "      <td>1996-07-02</td>\n",
       "      <td>2019</td>\n",
       "      <td>[Caleb Ferguson, ferguca01, 1996-07-02, 2019]</td>\n",
       "    </tr>\n",
       "    <tr>\n",
       "      <th>6</th>\n",
       "      <td>Adolis Garcia</td>\n",
       "      <td>garciad02</td>\n",
       "      <td>1993-03-02</td>\n",
       "      <td>2018</td>\n",
       "      <td>[Adolis Garcia, garciad02, 1993-03-02, 2018]</td>\n",
       "    </tr>\n",
       "    <tr>\n",
       "      <th>7</th>\n",
       "      <td>Randy Dobnak</td>\n",
       "      <td>dobnara01</td>\n",
       "      <td>1995-01-17</td>\n",
       "      <td>2019</td>\n",
       "      <td>[Randy Dobnak, dobnara01, 1995-01-17, 2019]</td>\n",
       "    </tr>\n",
       "    <tr>\n",
       "      <th>8</th>\n",
       "      <td>Michel Baez</td>\n",
       "      <td>baezmi01</td>\n",
       "      <td>1996-01-21</td>\n",
       "      <td>2019</td>\n",
       "      <td>[Michel Baez, baezmi01, 1996-01-21, 2019]</td>\n",
       "    </tr>\n",
       "  </tbody>\n",
       "</table>\n",
       "</div>"
      ],
      "text/plain": [
       "             NAME   NAME_KEY   BIRTHDATE  YEAR  \\\n",
       "0   Shohei Ohtani  ohtansh01  1994-07-05  2018   \n",
       "1    Mike Lansing  lansimi01  1968-04-03  2000   \n",
       "2    Mike Lansing  lansimi01  1968-04-03  2000   \n",
       "3    Mike Lansing  lansimi01  1968-04-03  2001   \n",
       "4  Caleb Ferguson  ferguca01  1996-07-02  2018   \n",
       "5  Caleb Ferguson  ferguca01  1996-07-02  2019   \n",
       "6   Adolis Garcia  garciad02  1993-03-02  2018   \n",
       "7    Randy Dobnak  dobnara01  1995-01-17  2019   \n",
       "8     Michel Baez   baezmi01  1996-01-21  2019   \n",
       "\n",
       "                                     concat_cols  \n",
       "0   [Shohei Ohtani, ohtansh01, 1994-07-05, 2018]  \n",
       "1    [Mike Lansing, lansimi01, 1968-04-03, 2000]  \n",
       "2    [Mike Lansing, lansimi01, 1968-04-03, 2000]  \n",
       "3    [Mike Lansing, lansimi01, 1968-04-03, 2001]  \n",
       "4  [Caleb Ferguson, ferguca01, 1996-07-02, 2018]  \n",
       "5  [Caleb Ferguson, ferguca01, 1996-07-02, 2019]  \n",
       "6   [Adolis Garcia, garciad02, 1993-03-02, 2018]  \n",
       "7    [Randy Dobnak, dobnara01, 1995-01-17, 2019]  \n",
       "8      [Michel Baez, baezmi01, 1996-01-21, 2019]  "
      ]
     },
     "execution_count": 7,
     "metadata": {},
     "output_type": "execute_result"
    }
   ],
   "source": [
    "df = pd.read_csv('meta_test.csv', usecols=['NAME', 'NAME_KEY', 'BIRTHDATE','YEAR'])\n",
    "#df = df.sample(20)\n",
    "df = df[['NAME', 'NAME_KEY', 'BIRTHDATE','YEAR']]\n",
    "df['YEAR'] = df['YEAR'].astype(str)\n",
    "df['concat_cols'] = df.apply(lambda x:'_'.join(x).split('_'), axis=1)\n",
    "df"
   ]
  },
  {
   "cell_type": "code",
   "execution_count": 9,
   "metadata": {},
   "outputs": [
    {
     "name": "stdout",
     "output_type": "stream",
     "text": [
      "Shohei Ohtani\n",
      "https://www.baseball-reference.com/players/o/ohtansh01.shtml\n",
      "arrival date: 2017-12-09\n",
      "arrival method: Signed\n",
      "was drafted: no\n",
      "draft round: not drafted\n",
      "birthdate: 1994-07-05\n",
      "signed date: 2017-12-09\n",
      "age when signed: 23\n",
      "free agent date: restricted\n",
      "------------------------------------------\n",
      "\n"
     ]
    },
    {
     "ename": "IndexError",
     "evalue": "list index out of range",
     "output_type": "error",
     "traceback": [
      "\u001b[1;31m---------------------------------------------------------------------------\u001b[0m",
      "\u001b[1;31mIndexError\u001b[0m                                Traceback (most recent call last)",
      "\u001b[1;32m<ipython-input-9-e398435f3565>\u001b[0m in \u001b[0;36m<module>\u001b[1;34m\u001b[0m\n\u001b[0;32m     45\u001b[0m             \u001b[0msigned_dt\u001b[0m \u001b[1;33m=\u001b[0m \u001b[0ms\u001b[0m\u001b[1;33m.\u001b[0m\u001b[0mtext\u001b[0m\u001b[1;33m.\u001b[0m\u001b[0msplit\u001b[0m\u001b[1;33m(\u001b[0m\u001b[1;34m'Player signed '\u001b[0m\u001b[1;33m)\u001b[0m\u001b[1;33m[\u001b[0m\u001b[1;36m1\u001b[0m\u001b[1;33m]\u001b[0m\u001b[1;33m.\u001b[0m\u001b[0mreplace\u001b[0m\u001b[1;33m(\u001b[0m\u001b[1;34m'.'\u001b[0m\u001b[1;33m,\u001b[0m\u001b[1;34m''\u001b[0m\u001b[1;33m)\u001b[0m\u001b[1;33m\u001b[0m\u001b[1;33m\u001b[0m\u001b[0m\n\u001b[0;32m     46\u001b[0m             \u001b[0msigned_dt\u001b[0m \u001b[1;33m=\u001b[0m \u001b[0mdt\u001b[0m\u001b[1;33m.\u001b[0m\u001b[0mdatetime\u001b[0m\u001b[1;33m.\u001b[0m\u001b[0mstrptime\u001b[0m\u001b[1;33m(\u001b[0m\u001b[0msigned_dt\u001b[0m\u001b[1;33m,\u001b[0m \u001b[1;34m'%B %d, %Y'\u001b[0m\u001b[1;33m)\u001b[0m\u001b[1;33m.\u001b[0m\u001b[0mdate\u001b[0m\u001b[1;33m(\u001b[0m\u001b[1;33m)\u001b[0m\u001b[1;33m\u001b[0m\u001b[1;33m\u001b[0m\u001b[0m\n\u001b[1;32m---> 47\u001b[1;33m             \u001b[0mdraft_round\u001b[0m \u001b[1;33m=\u001b[0m \u001b[0mline\u001b[0m\u001b[1;33m[\u001b[0m\u001b[1;36m1\u001b[0m\u001b[1;33m]\u001b[0m\u001b[1;33m.\u001b[0m\u001b[0mtext\u001b[0m\u001b[1;33m\u001b[0m\u001b[1;33m\u001b[0m\u001b[0m\n\u001b[0m\u001b[0;32m     48\u001b[0m             \u001b[1;32mbreak\u001b[0m\u001b[1;33m\u001b[0m\u001b[1;33m\u001b[0m\u001b[0m\n\u001b[0;32m     49\u001b[0m \u001b[1;33m\u001b[0m\u001b[0m\n",
      "\u001b[1;31mIndexError\u001b[0m: list index out of range"
     ]
    }
   ],
   "source": [
    "for item in df.concat_cols:\n",
    "\n",
    "    player_id = item[1]\n",
    "    url = 'https://www.baseball-reference.com/players/' \\\n",
    "        + player_id[0] + '/' + player_id + '.shtml'\n",
    "\n",
    "   \n",
    "\n",
    "    res = requests.get(url)\n",
    "    soup=bs4.BeautifulSoup(res.text, 'html.parser')\n",
    "    new_soup_text = soup.find('h2',text='Transactions').findNext('div', class_ = 'placeholder').next_sibling.next_sibling\n",
    "    new_soup = bs4.BeautifulSoup(new_soup_text, 'html.parser')\n",
    "\n",
    "    free_agent = False\n",
    "\n",
    "    all_p = new_soup('p')\n",
    "\n",
    "\n",
    "    for s in all_p:\n",
    "\n",
    "        if 'Free Agent' in s.text or 'free agent' in s.text:\n",
    "            free_agent = True\n",
    "            free_agent_dt = s.text.split(': ')[-2]\n",
    "            free_agent_dt = dt.datetime.strptime(free_agent_dt, '%B %d, %Y').date()\n",
    "            break\n",
    "        if s.text.split(': ')[-1] == \"Granted Free Agency.\":\n",
    "            free_agent = True\n",
    "            free_agent_dt = s.text.split(': ')[-2]\n",
    "            free_agent_dt = dt.datetime.strptime(free_agent_dt, '%B %d, %Y').date()\n",
    "            break\n",
    "\n",
    "    if not free_agent:\n",
    "        free_agent_dt = 'restricted'\n",
    "\n",
    "    for s in all_p:\n",
    "        if 'Drafted' in s.text and 'Player signed' not in s.text:\n",
    "            continue\n",
    "\n",
    "        elif 'Drafted' in s.text and 'Player signed' in s.text:\n",
    "            line = s.find_all('a', href=True)\n",
    "\n",
    "            arrival_method = s.text.split(': ')[1].split()[0]\n",
    "            arrival_dt = s.text.split(': ')[0] \n",
    "            arrival_dt = dt.datetime.strptime(arrival_dt, '%B %d, %Y').date()\n",
    "            signed_dt = s.text.split('Player signed ')[1].replace('.','') \n",
    "            signed_dt = dt.datetime.strptime(signed_dt, '%B %d, %Y').date()\n",
    "            draft_round = line[1].text\n",
    "            break\n",
    "\n",
    "        else:\n",
    "            arrival_method = s.text.split(': ')[1].split()[0]\n",
    "            arrival_dt = s.text.split(': ')[0]  \n",
    "            arrival_dt = dt.datetime.strptime(arrival_dt, '%B %d, %Y').date()\n",
    "            signed_dt = s.text.split(': ')[0]  \n",
    "            signed_dt = dt.datetime.strptime(signed_dt, '%B %d, %Y').date()\n",
    "            draft_round = 'not drafted'\n",
    "            break\n",
    "\n",
    "    if all_p[0].text.split(': ')[1].split()[0] == 'Drafted':\n",
    "        was_drafted = 'yes'\n",
    "    else:\n",
    "        was_drafted = 'no'\n",
    "\n",
    "    date1 = dt.datetime.strptime(str(signed_dt), '%Y-%m-%d')\n",
    "    date2 = dt.datetime.strptime(item[2], '%Y-%m-%d')\n",
    "    age_when_signed = int((date1 - date2).days / 365.2425)\n",
    "    \n",
    "    cond1 = dt.datetime.strptime(str(signed_dt), '%Y-%m-%d').date()>= dt.datetime.strptime('2016-12-14', '%Y-%m-%d').date()\n",
    "    cond2 = arrival_method != 'Drafted' \n",
    "    cond3 = age_when_signed <25\n",
    "    \n",
    "    if  cond1 and cond2 and cond3:\n",
    "        free_agent_dt = 'restricted'\n",
    "    \n",
    "    print(item[0])\n",
    "    print(str(url))\n",
    "    print('arrival date:',str(arrival_dt))\n",
    "    print('arrival method:', arrival_method) \n",
    "    print('was drafted:', was_drafted)\n",
    "    print('draft round:', draft_round)\n",
    "    print('birthdate:', str(item[2]))\n",
    "    print('signed date:',str(signed_dt))  \n",
    "    print('age when signed:', age_when_signed)\n",
    "    print('free agent date:', str(free_agent_dt))\n",
    "    print('------------------------------------------\\n')\n",
    "\n"
   ]
  },
  {
   "cell_type": "code",
   "execution_count": 201,
   "metadata": {},
   "outputs": [
    {
     "data": {
      "text/plain": [
       "datetime.date(2020, 1, 2)"
      ]
     },
     "execution_count": 201,
     "metadata": {},
     "output_type": "execute_result"
    }
   ],
   "source": [
    "dt.date.today()"
   ]
  },
  {
   "cell_type": "code",
   "execution_count": 224,
   "metadata": {},
   "outputs": [
    {
     "name": "stdout",
     "output_type": "stream",
     "text": [
      "1986-04-25 00:00:00\n",
      "2020-04-25 00:00:00\n"
     ]
    }
   ],
   "source": [
    "date1 = dt.datetime.strptime('1986-04-25', '%Y-%m-%d')\n",
    "date2 = dt.datetime.strptime('2020-04-25', '%Y-%m-%d')\n",
    "print(date1)\n",
    "print(date2)"
   ]
  },
  {
   "cell_type": "code",
   "execution_count": 225,
   "metadata": {},
   "outputs": [
    {
     "data": {
      "text/plain": [
       "34"
      ]
     },
     "execution_count": 225,
     "metadata": {},
     "output_type": "execute_result"
    }
   ],
   "source": [
    "age = int((date2 - date1).days / 365.2425)\n",
    "age"
   ]
  },
  {
   "cell_type": "code",
   "execution_count": 250,
   "metadata": {},
   "outputs": [
    {
     "ename": "TypeError",
     "evalue": "strptime() argument 1 must be str, not datetime.date",
     "output_type": "error",
     "traceback": [
      "\u001b[1;31m---------------------------------------------------------------------------\u001b[0m",
      "\u001b[1;31mTypeError\u001b[0m                                 Traceback (most recent call last)",
      "\u001b[1;32m<ipython-input-250-a467e092941f>\u001b[0m in \u001b[0;36m<module>\u001b[1;34m\u001b[0m\n\u001b[1;32m----> 1\u001b[1;33m \u001b[0mdt\u001b[0m\u001b[1;33m.\u001b[0m\u001b[0mdatetime\u001b[0m\u001b[1;33m.\u001b[0m\u001b[0mstrptime\u001b[0m\u001b[1;33m(\u001b[0m\u001b[0msigned_dt\u001b[0m\u001b[1;33m,\u001b[0m \u001b[1;34m'%Y-%m-%d'\u001b[0m\u001b[1;33m)\u001b[0m\u001b[1;33m\u001b[0m\u001b[1;33m\u001b[0m\u001b[0m\n\u001b[0m",
      "\u001b[1;31mTypeError\u001b[0m: strptime() argument 1 must be str, not datetime.date"
     ]
    }
   ],
   "source": [
    "dt.datetime.strptime(signed_dt, '%Y-%m-%d')"
   ]
  },
  {
   "cell_type": "code",
   "execution_count": 264,
   "metadata": {},
   "outputs": [
    {
     "ename": "AttributeError",
     "evalue": "type object 'datetime.date' has no attribute 'strptime'",
     "output_type": "error",
     "traceback": [
      "\u001b[1;31m---------------------------------------------------------------------------\u001b[0m",
      "\u001b[1;31mAttributeError\u001b[0m                            Traceback (most recent call last)",
      "\u001b[1;32m<ipython-input-264-df94efd5df24>\u001b[0m in \u001b[0;36m<module>\u001b[1;34m\u001b[0m\n\u001b[1;32m----> 1\u001b[1;33m \u001b[0mdt\u001b[0m\u001b[1;33m.\u001b[0m\u001b[0mdate\u001b[0m\u001b[1;33m.\u001b[0m\u001b[0mstrptime\u001b[0m\u001b[1;33m(\u001b[0m\u001b[0mstr\u001b[0m\u001b[1;33m(\u001b[0m\u001b[0msigned_dt\u001b[0m\u001b[1;33m)\u001b[0m\u001b[1;33m,\u001b[0m \u001b[1;34m'%Y-%m-%d'\u001b[0m\u001b[1;33m)\u001b[0m \u001b[1;33m>=\u001b[0m \u001b[0mdt\u001b[0m\u001b[1;33m.\u001b[0m\u001b[0mdate\u001b[0m\u001b[1;33m.\u001b[0m\u001b[0mstrptime\u001b[0m\u001b[1;33m(\u001b[0m\u001b[1;34m'2016-12-14'\u001b[0m\u001b[1;33m,\u001b[0m \u001b[1;34m'%Y-%m-%d'\u001b[0m\u001b[1;33m)\u001b[0m\u001b[1;33m\u001b[0m\u001b[1;33m\u001b[0m\u001b[0m\n\u001b[0m",
      "\u001b[1;31mAttributeError\u001b[0m: type object 'datetime.date' has no attribute 'strptime'"
     ]
    }
   ],
   "source": [
    "dt.date.strptime(str(signed_dt), '%Y-%m-%d') >= dt.date.strptime('2016-12-14', '%Y-%m-%d')"
   ]
  },
  {
   "cell_type": "code",
   "execution_count": 268,
   "metadata": {},
   "outputs": [
    {
     "data": {
      "text/plain": [
       "datetime.date(2016, 12, 14)"
      ]
     },
     "execution_count": 268,
     "metadata": {},
     "output_type": "execute_result"
    }
   ],
   "source": [
    "dt.datetime.strptime('2016-12-14', '%Y-%m-%d').date()"
   ]
  },
  {
   "cell_type": "code",
   "execution_count": 263,
   "metadata": {},
   "outputs": [
    {
     "data": {
      "text/plain": [
       "str"
      ]
     },
     "execution_count": 263,
     "metadata": {},
     "output_type": "execute_result"
    }
   ],
   "source": [
    "type(str(signed_dt))"
   ]
  },
  {
   "cell_type": "code",
   "execution_count": 269,
   "metadata": {},
   "outputs": [
    {
     "data": {
      "text/plain": [
       "False"
      ]
     },
     "execution_count": 269,
     "metadata": {},
     "output_type": "execute_result"
    }
   ],
   "source": [
    "dt.datetime.strptime(str(signed_dt), '%Y-%m-%d').date()>= dt.datetime.strptime('2016-12-14', '%Y-%m-%d').date()"
   ]
  },
  {
   "cell_type": "code",
   "execution_count": 280,
   "metadata": {},
   "outputs": [],
   "source": [
    "opening_dates_dict = {'2000': '2000-03-29',\n",
    "                      '2001': '2001-04-01',\n",
    "                    '2002': '2002-03-31',\n",
    "                     '2003': '2003-03-30',\n",
    "                     '2004': '2004-03-30',\n",
    "                     '2005': '2005-04-03',\n",
    "                     '2006': '2006-04-02',\n",
    "                     '2007': '2007-04-01',\n",
    "                     '2008': '2008-03-25',\n",
    "                     '2009': '2009-04-05',\n",
    "                     '2010': '2010-04-04',\n",
    "                     '2011': '2011-03-31',\n",
    "                     '2012': '2012-03-28',\n",
    "                     '2013': '2013-03-31',\n",
    "                     '2014': '2014-03-22',\n",
    "                     '2015': '2015-04-05',\n",
    "                     '2016': '2016-04-03',\n",
    "                     '2017': '2017-04-02',\n",
    "                     '2018': '2018-03-29',\n",
    "                     '2019': '2019-03-20'}"
   ]
  },
  {
   "cell_type": "code",
   "execution_count": 281,
   "metadata": {},
   "outputs": [
    {
     "name": "stdout",
     "output_type": "stream",
     "text": [
      "2000-03-29\n",
      "2001-04-01\n",
      "2002-03-31\n",
      "2003-03-30\n",
      "2004-03-30\n",
      "2005-04-03\n",
      "2006-04-02\n",
      "2007-04-01\n",
      "2008-03-25\n",
      "2009-04-05\n",
      "2010-04-04\n",
      "2011-03-31\n",
      "2012-03-28\n",
      "2013-03-31\n",
      "2014-03-22\n",
      "2015-04-05\n",
      "2016-04-03\n",
      "2017-04-02\n",
      "2018-03-29\n",
      "2019-03-20\n"
     ]
    }
   ],
   "source": [
    "for date in range(2000,2020):\n",
    "    print(opening_dates_dict[str(date)])"
   ]
  },
  {
   "cell_type": "code",
   "execution_count": 27,
   "metadata": {},
   "outputs": [],
   "source": [
    "df = pd.read_csv('free_agents.csv')"
   ]
  },
  {
   "cell_type": "code",
   "execution_count": 12,
   "metadata": {},
   "outputs": [
    {
     "data": {
      "text/html": [
       "<div>\n",
       "<style scoped>\n",
       "    .dataframe tbody tr th:only-of-type {\n",
       "        vertical-align: middle;\n",
       "    }\n",
       "\n",
       "    .dataframe tbody tr th {\n",
       "        vertical-align: top;\n",
       "    }\n",
       "\n",
       "    .dataframe thead th {\n",
       "        text-align: right;\n",
       "    }\n",
       "</style>\n",
       "<table border=\"1\" class=\"dataframe\">\n",
       "  <thead>\n",
       "    <tr style=\"text-align: right;\">\n",
       "      <th></th>\n",
       "      <th>NAME</th>\n",
       "      <th>NAME_KEY</th>\n",
       "      <th>YEAR</th>\n",
       "      <th>ARRIVAL_DT</th>\n",
       "      <th>ARRIVAL_METHOD</th>\n",
       "      <th>WAS_DRAFTED</th>\n",
       "      <th>DRAFT_ROUND</th>\n",
       "      <th>SIGNED_DT</th>\n",
       "      <th>BIRTHDATE</th>\n",
       "      <th>AGE_WHEN_SIGNED</th>\n",
       "      <th>FREE_AGENT_DT</th>\n",
       "      <th>IS_FREE_AGENT_NOW</th>\n",
       "      <th>SEASON_START_DT</th>\n",
       "      <th>PLAYER_URL</th>\n",
       "    </tr>\n",
       "  </thead>\n",
       "  <tbody>\n",
       "    <tr>\n",
       "      <th>0</th>\n",
       "      <td>Bengie Molina</td>\n",
       "      <td>molinbe01</td>\n",
       "      <td>2000</td>\n",
       "      <td>1993-05-23</td>\n",
       "      <td>Signed</td>\n",
       "      <td>no</td>\n",
       "      <td>not drafted</td>\n",
       "      <td>1993-05-23</td>\n",
       "      <td>1974-07-20</td>\n",
       "      <td>18</td>\n",
       "      <td>1993-05-23</td>\n",
       "      <td>yes</td>\n",
       "      <td>2000-03-29</td>\n",
       "      <td>https://www.baseball-reference.com/players/m/m...</td>\n",
       "    </tr>\n",
       "    <tr>\n",
       "      <th>1</th>\n",
       "      <td>Mo Vaughn</td>\n",
       "      <td>vaughmo01</td>\n",
       "      <td>2000</td>\n",
       "      <td>1989-06-05</td>\n",
       "      <td>Drafted</td>\n",
       "      <td>yes</td>\n",
       "      <td>1st round</td>\n",
       "      <td>1989-06-20</td>\n",
       "      <td>1967-12-15</td>\n",
       "      <td>21</td>\n",
       "      <td>1998-10-23</td>\n",
       "      <td>yes</td>\n",
       "      <td>2000-03-29</td>\n",
       "      <td>https://www.baseball-reference.com/players/v/v...</td>\n",
       "    </tr>\n",
       "    <tr>\n",
       "      <th>2</th>\n",
       "      <td>Adam Kennedy</td>\n",
       "      <td>kennead01</td>\n",
       "      <td>2000</td>\n",
       "      <td>1997-06-03</td>\n",
       "      <td>Drafted</td>\n",
       "      <td>yes</td>\n",
       "      <td>1st round</td>\n",
       "      <td>1997-06-18</td>\n",
       "      <td>1976-01-10</td>\n",
       "      <td>21</td>\n",
       "      <td>2006-10-15</td>\n",
       "      <td>no</td>\n",
       "      <td>2000-03-29</td>\n",
       "      <td>https://www.baseball-reference.com/players/k/k...</td>\n",
       "    </tr>\n",
       "    <tr>\n",
       "      <th>3</th>\n",
       "      <td>Benji Gil</td>\n",
       "      <td>gilbe01</td>\n",
       "      <td>2000</td>\n",
       "      <td>1991-06-03</td>\n",
       "      <td>Drafted</td>\n",
       "      <td>yes</td>\n",
       "      <td>1st round</td>\n",
       "      <td>1991-07-19</td>\n",
       "      <td>1972-10-06</td>\n",
       "      <td>18</td>\n",
       "      <td>1999-10-15</td>\n",
       "      <td>yes</td>\n",
       "      <td>2000-03-29</td>\n",
       "      <td>https://www.baseball-reference.com/players/g/g...</td>\n",
       "    </tr>\n",
       "    <tr>\n",
       "      <th>4</th>\n",
       "      <td>Troy Glaus</td>\n",
       "      <td>glaustr01</td>\n",
       "      <td>2000</td>\n",
       "      <td>1997-06-03</td>\n",
       "      <td>Drafted</td>\n",
       "      <td>yes</td>\n",
       "      <td>1st round</td>\n",
       "      <td>1997-09-29</td>\n",
       "      <td>1976-08-03</td>\n",
       "      <td>21</td>\n",
       "      <td>2004-10-28</td>\n",
       "      <td>no</td>\n",
       "      <td>2000-03-29</td>\n",
       "      <td>https://www.baseball-reference.com/players/g/g...</td>\n",
       "    </tr>\n",
       "  </tbody>\n",
       "</table>\n",
       "</div>"
      ],
      "text/plain": [
       "            NAME   NAME_KEY  YEAR  ARRIVAL_DT ARRIVAL_METHOD WAS_DRAFTED  \\\n",
       "0  Bengie Molina  molinbe01  2000  1993-05-23         Signed          no   \n",
       "1      Mo Vaughn  vaughmo01  2000  1989-06-05        Drafted         yes   \n",
       "2   Adam Kennedy  kennead01  2000  1997-06-03        Drafted         yes   \n",
       "3      Benji Gil    gilbe01  2000  1991-06-03        Drafted         yes   \n",
       "4     Troy Glaus  glaustr01  2000  1997-06-03        Drafted         yes   \n",
       "\n",
       "   DRAFT_ROUND   SIGNED_DT   BIRTHDATE  AGE_WHEN_SIGNED FREE_AGENT_DT  \\\n",
       "0  not drafted  1993-05-23  1974-07-20               18    1993-05-23   \n",
       "1    1st round  1989-06-20  1967-12-15               21    1998-10-23   \n",
       "2    1st round  1997-06-18  1976-01-10               21    2006-10-15   \n",
       "3    1st round  1991-07-19  1972-10-06               18    1999-10-15   \n",
       "4    1st round  1997-09-29  1976-08-03               21    2004-10-28   \n",
       "\n",
       "  IS_FREE_AGENT_NOW SEASON_START_DT  \\\n",
       "0               yes      2000-03-29   \n",
       "1               yes      2000-03-29   \n",
       "2                no      2000-03-29   \n",
       "3               yes      2000-03-29   \n",
       "4                no      2000-03-29   \n",
       "\n",
       "                                          PLAYER_URL  \n",
       "0  https://www.baseball-reference.com/players/m/m...  \n",
       "1  https://www.baseball-reference.com/players/v/v...  \n",
       "2  https://www.baseball-reference.com/players/k/k...  \n",
       "3  https://www.baseball-reference.com/players/g/g...  \n",
       "4  https://www.baseball-reference.com/players/g/g...  "
      ]
     },
     "execution_count": 12,
     "metadata": {},
     "output_type": "execute_result"
    }
   ],
   "source": [
    "df.head()"
   ]
  },
  {
   "cell_type": "code",
   "execution_count": 13,
   "metadata": {},
   "outputs": [
    {
     "data": {
      "text/plain": [
       "array(['Signed', 'Drafted', 'Purchased', 'Traded', 'Granted', 'Returned',\n",
       "       'Released', 'the', 'Selected'], dtype=object)"
      ]
     },
     "execution_count": 13,
     "metadata": {},
     "output_type": "execute_result"
    }
   ],
   "source": [
    "df['ARRIVAL_METHOD'].unique()"
   ]
  },
  {
   "cell_type": "code",
   "execution_count": 17,
   "metadata": {},
   "outputs": [],
   "source": [
    "pd.set_option('display.max_colwidth', -1)"
   ]
  },
  {
   "cell_type": "code",
   "execution_count": 11,
   "metadata": {
    "scrolled": true
   },
   "outputs": [],
   "source": [
    "df2 = df[['NAME','NAME_KEY', 'YEAR']][(df['ARRIVAL_METHOD']!= 'Drafted') & (df['ARRIVAL_METHOD']!= 'Signed')]"
   ]
  },
  {
   "cell_type": "code",
   "execution_count": 12,
   "metadata": {},
   "outputs": [
    {
     "data": {
      "text/plain": [
       "(426, 3)"
      ]
     },
     "execution_count": 12,
     "metadata": {},
     "output_type": "execute_result"
    }
   ],
   "source": [
    "df2.shape"
   ]
  },
  {
   "cell_type": "code",
   "execution_count": 14,
   "metadata": {},
   "outputs": [],
   "source": [
    "meta = pd.read_csv('meta.csv')"
   ]
  },
  {
   "cell_type": "code",
   "execution_count": 16,
   "metadata": {},
   "outputs": [],
   "source": [
    "df2 = pd.merge(meta,df2, on = ['NAME', 'NAME_KEY', 'YEAR'], how = 'inner')"
   ]
  },
  {
   "cell_type": "code",
   "execution_count": 8,
   "metadata": {},
   "outputs": [
    {
     "data": {
      "text/plain": [
       "Index(['NAME', 'NAME_KEY', 'YEAR', 'TEAM', 'BATS', 'THROWS', 'HEIGHT',\n",
       "       'HEIGHT_CM', 'WEIGHT_LB', 'WEIGHT_KG', 'BIRTHDATE', 'BIRTHPLACE'],\n",
       "      dtype='object')"
      ]
     },
     "execution_count": 8,
     "metadata": {},
     "output_type": "execute_result"
    }
   ],
   "source": [
    "meta.columns"
   ]
  },
  {
   "cell_type": "code",
   "execution_count": 9,
   "metadata": {},
   "outputs": [
    {
     "data": {
      "text/plain": [
       "Index(['NAME', 'PLAYER_URL', 'YEAR'], dtype='object')"
      ]
     },
     "execution_count": 9,
     "metadata": {},
     "output_type": "execute_result"
    }
   ],
   "source": [
    "df2.columns"
   ]
  },
  {
   "cell_type": "code",
   "execution_count": 18,
   "metadata": {},
   "outputs": [
    {
     "data": {
      "text/plain": [
       "(520, 12)"
      ]
     },
     "execution_count": 18,
     "metadata": {},
     "output_type": "execute_result"
    }
   ],
   "source": [
    "df2.shape"
   ]
  },
  {
   "cell_type": "code",
   "execution_count": 20,
   "metadata": {},
   "outputs": [],
   "source": [
    "df2 = df2.drop_duplicates()"
   ]
  },
  {
   "cell_type": "code",
   "execution_count": 21,
   "metadata": {},
   "outputs": [
    {
     "data": {
      "text/plain": [
       "(426, 12)"
      ]
     },
     "execution_count": 21,
     "metadata": {},
     "output_type": "execute_result"
    }
   ],
   "source": [
    "df2.shape"
   ]
  },
  {
   "cell_type": "code",
   "execution_count": 22,
   "metadata": {},
   "outputs": [],
   "source": [
    "df2.to_csv('meta_test.csv', mode='w', header = True, index = False)"
   ]
  },
  {
   "cell_type": "code",
   "execution_count": 23,
   "metadata": {},
   "outputs": [
    {
     "data": {
      "text/plain": [
       "(28140, 14)"
      ]
     },
     "execution_count": 23,
     "metadata": {},
     "output_type": "execute_result"
    }
   ],
   "source": [
    "df.shape"
   ]
  },
  {
   "cell_type": "code",
   "execution_count": 28,
   "metadata": {},
   "outputs": [],
   "source": [
    "df = df[(df['ARRIVAL_METHOD'] == 'Drafted') | (df['ARRIVAL_METHOD'] == 'Signed')]"
   ]
  },
  {
   "cell_type": "code",
   "execution_count": 29,
   "metadata": {},
   "outputs": [
    {
     "data": {
      "text/plain": [
       "426"
      ]
     },
     "execution_count": 29,
     "metadata": {},
     "output_type": "execute_result"
    }
   ],
   "source": [
    "28140 - df.shape[0]"
   ]
  },
  {
   "cell_type": "code",
   "execution_count": 30,
   "metadata": {},
   "outputs": [],
   "source": [
    "df.to_csv('free_agents.csv', mode='w', header = True, index = False)"
   ]
  },
  {
   "cell_type": "code",
   "execution_count": null,
   "metadata": {},
   "outputs": [],
   "source": []
  }
 ],
 "metadata": {
  "kernelspec": {
   "display_name": "Python 3",
   "language": "python",
   "name": "python3"
  },
  "language_info": {
   "codemirror_mode": {
    "name": "ipython",
    "version": 3
   },
   "file_extension": ".py",
   "mimetype": "text/x-python",
   "name": "python",
   "nbconvert_exporter": "python",
   "pygments_lexer": "ipython3",
   "version": "3.7.1"
  }
 },
 "nbformat": 4,
 "nbformat_minor": 2
}
