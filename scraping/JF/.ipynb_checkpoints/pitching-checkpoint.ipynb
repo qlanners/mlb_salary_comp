{
 "cells": [
  {
   "cell_type": "code",
   "execution_count": 1,
   "metadata": {},
   "outputs": [],
   "source": [
    "import requests\n",
    "import bs4\n",
    "from collections import Counter\n",
    "import statistics as stat\n",
    "import pandas as pd\n",
    "from time import perf_counter\n",
    "from math import floor"
   ]
  },
  {
   "cell_type": "code",
   "execution_count": 3,
   "metadata": {},
   "outputs": [],
   "source": [
    "url_PG = \"https://www.baseball-reference.com/players/gl.fcgi?id=doolise01&t=p&year=2019\"\n",
    "res_PG = requests.get(url_PG)\n",
    "soup_PG=bs4.BeautifulSoup(res_PG.text, 'html.parser')"
   ]
  },
  {
   "cell_type": "code",
   "execution_count": 46,
   "metadata": {},
   "outputs": [],
   "source": [
    "body = soup_PG.find('tbody')\n",
    "body_RSLT = body.find_all('td', {'data-stat':'game_result'})\n",
    "body_INNGS = body.find_all('td', {'data-stat':'player_game_span'})\n",
    "body_DEC = body.find_all('td', {'data-stat':'player_game_result'})\n",
    "body_DR = body.find_all('td', {'data-stat':'days_rest'})\n",
    "body_IP = body.find_all('td', {'data-stat':'IP'})\n",
    "body_H = body.find_all('td', {'data-stat':'H'})\n",
    "body_R = body.find_all('td', {'data-stat':'R'})\n",
    "body_ER = body.find_all('td', {'data-stat':'ER'})\n",
    "body_BB = body.find_all('td', {'data-stat':'BB'})\n",
    "body_SO = body.find_all('td', {'data-stat':'SO'})\n",
    "body_HR = body.find_all('td', {'data-stat':'HR'})\n",
    "body_HBP = body.find_all('td', {'data-stat':'HBP'})\n",
    "body_ERA = body.find_all('td', {'data-stat':'earned_run_avg'})\n",
    "body_BF = body.find_all('td', {'data-stat':'batters_faced'})\n",
    "body_PIT = body.find_all('td', {'data-stat':'pitches'})\n",
    "body_STR = body.find_all('td', {'data-stat':'strikes_total'})\n",
    "body_STL = body.find_all('td', {'data-stat':'strikes_looking'})\n",
    "body_STS = body.find_all('td', {'data-stat':'strikes_swinging'})\n",
    "body_GB = body.find_all('td', {'data-stat':'inplay_gb_total'})\n",
    "body_FB = body.find_all('td', {'data-stat':'inplay_fb_total'})\n",
    "body_LD = body.find_all('td', {'data-stat':'inplay_ld'})\n",
    "body_PU = body.find_all('td', {'data-stat':'inplay_pu'})\n",
    "body_UNK = body.find_all('td', {'data-stat':'inplay_unk'})\n",
    "body_IR = body.find_all('td', {'data-stat':'inherited_runners'})\n",
    "body_IS = body.find_all('td', {'data-stat':'inherited_score'})\n",
    "body_SB = body.find_all('td', {'data-stat':'SB'})\n",
    "body_CS = body.find_all('td', {'data-stat':'CS'})\n",
    "body_PO = body.find_all('td', {'data-stat':'pickoffs'})\n",
    "body_AB = body.find_all('td', {'data-stat':'AB'})\n",
    "body_2B = body.find_all('td', {'data-stat':'2B'})\n",
    "body_3B = body.find_all('td', {'data-stat':'3B'})\n",
    "body_IBB = body.find_all('td', {'data-stat':'IBB'})\n",
    "body_GDP = body.find_all('td', {'data-stat':'GIDP'})\n",
    "body_SF = body.find_all('td', {'data-stat':'SF'})\n",
    "body_ROE = body.find_all('td', {'data-stat':'ROE'})\n",
    "body_ALI = body.find_all('td', {'data-stat':'leverage_index_avg'})\n",
    "body_WPA = body.find_all('td', {'data-stat':'wpa_def'})\n",
    "body_RE24 = body.find_all('td', {'data-stat':'re24_def'})\n"
   ]
  },
  {
   "cell_type": "code",
   "execution_count": 55,
   "metadata": {},
   "outputs": [],
   "source": [
    "game_result = []\n",
    "player_game_span = []\n",
    "player_game_result = []\n",
    "days_rest = []\n",
    "ip = []\n",
    "h = []\n",
    "r = []\n",
    "er = []\n",
    "bb = []\n",
    "so = []\n",
    "hr = []\n",
    "hbp = []\n",
    "earned_run_avg = []\n",
    "batters_faced = []\n",
    "pitches = []\n",
    "strikes_total = []\n",
    "strikes_looking = []\n",
    "strikes_swinging = []\n",
    "inplay_gb_total = []\n",
    "inplay_fb_total = []\n",
    "inplay_ld = []\n",
    "inplay_pu = []\n",
    "inplay_unk = []\n",
    "inherited_runners = []\n",
    "inherited_score = []\n",
    "sb = []\n",
    "cs = []\n",
    "pickoffs = []\n",
    "ab = []\n",
    "two_b = []\n",
    "three_b = []\n",
    "ibb = []\n",
    "gidp = []\n",
    "sf = []\n",
    "roe = []\n",
    "leverage_index_avg = []\n",
    "wpa_def = []\n",
    "re24_def = []\n",
    "pitcher_situation_in = []\n",
    "pitcher_situation_out = []"
   ]
  },
  {
   "cell_type": "code",
   "execution_count": 63,
   "metadata": {},
   "outputs": [],
   "source": [
    "del(n)"
   ]
  },
  {
   "cell_type": "code",
   "execution_count": 71,
   "metadata": {},
   "outputs": [],
   "source": [
    "for n in range(len(game_result)):\n",
    "    \n",
    "    \n",
    "    _game_result = body_RSLT[n].text[0]\n",
    "    _player_game_inning_in = body_INNGS[n].text.split('-')[0]\n",
    "    _player_game_inning_out = body_INNGS[n].text.split('-')[1]\n",
    "    _player_game_result = body_DEC[n].text.split('(')[0]\n",
    "    _days_rest = int(body_DR[n].text)\n",
    "    _ip = float(body_IP[n].text)\n",
    "    _h = int(body_H[n].text)\n",
    "    _r = int(body_R[n].text)\n",
    "    _er = int(body_ER[n].text)\n",
    "    _bb = int(body_BB[n].text)\n",
    "    _so = int(body_SO[n].text)\n",
    "    _hr = int(body_HR[n].text)\n",
    "    _hbp = int(body_HBP[n].text)\n",
    "    _earned_run_avg = float(body_ERA[n].text)\n",
    "    _batters_faced = int(body_BF[n].text)\n",
    "    _pitches = int(body_PIT[n].text)\n",
    "    _pitches_url = body_PIT[n].find('a', href=True)['href']\n",
    "    _strikes_total = int(body_STR[n].text)\n",
    "    _strikes_looking = int(body_STL[n].text)\n",
    "    _strikes_swinging = int(body_STS[n].text)\n",
    "    _inplay_gb_total = int(body_GB[n].text)\n",
    "    _inplay_fb_total = int(body_FB[n].text)\n",
    "    _inplay_ld = int(body_LD[n].text)\n",
    "    _inplay_pu = int(body_PU[n].text)\n",
    "    _inplay_unk = int(body_UNK[n].text)\n",
    "    _inherited_runners = int(body_IR[n].text)\n",
    "    _inherited_score = int(body_IS[n].text)\n",
    "    _sb = int(body_SB[n].text)\n",
    "    _cs = int(body_CS[n].text)\n",
    "    _pickoffs = int(body_PO[n].text)\n",
    "    _ab = int(body_AB[n].text)\n",
    "    _two_b = int(body_2B[n].text)\n",
    "    _three_b = int(body_3B[n].text)\n",
    "    _ibb = int(body_IBB[n].text)\n",
    "    _gidp = int(body_GDP[n].text)\n",
    "    _sf = int(body_SF[n].text)\n",
    "    _roe = int(body_ROE[n].text)\n",
    "    _leverage_index_avg = float(body_ALI[n].text)\n",
    "    _wpa_def = float(body_WPA[n].text)\n",
    "    _re24_def = float(body_RE24[n].text)\n",
    "\n",
    "\n",
    "    game_result.append(_game_result)\n",
    "    player_game_span.append(__player_game_inning_in)\n",
    "    player_game_result.append(__player_game_inning_out)\n",
    "    days_rest.append(_days_rest)\n",
    "    ip.append(_ip)\n",
    "    h.append(_h)\n",
    "    r.append(_r)\n",
    "    er.append(_er)\n",
    "    bb.append(_bb)\n",
    "    so.append(_so)\n",
    "    hr.append(_hr)\n",
    "    hbp.append(_hbp)\n",
    "    earned_run_avg.append(_earned_run_avg)\n",
    "    batters_faced.append(_batters_faced)\n",
    "    pitches.append(_pitches.append)\n",
    "    pitches_url.append(_pitches_url)\n",
    "    strikes_total.append(_strikes_total)\n",
    "    strikes_looking.append(_strikes_looking)\n",
    "    strikes_swinging.append(_strikes_swinging)\n",
    "    inplay_gb_total.append(_inplay_gb_total)\n",
    "    inplay_fb_total.append(_inplay_fb_total)\n",
    "    inplay_ld.append(_inplay_ld)\n",
    "    inplay_pu.append(_inplay_pu)\n",
    "    inplay_unk.append(_inplay_unk)\n",
    "    inherited_runners.append(_inherited_runners)\n",
    "    inherited_score.append(_inherited_score)\n",
    "    sb.append(_sb)\n",
    "    cs.append(_cs)\n",
    "    pickoffs.append(_pickoffs)\n",
    "    ab.append(_ab)\n",
    "    two_b.append(_two_b)\n",
    "    three_b.append(_three_b)\n",
    "    ibb.append(_ibb)\n",
    "    gidp.append(_gidp)\n",
    "    sf.append(_sf)\n",
    "    roe.append(_roe)\n",
    "    leverage_index_avg.append(_leverage_index_avg)\n",
    "    wpa_def.append(_wpa_def)\n",
    "    re24_def.append(_re24_def)\n"
   ]
  },
  {
   "cell_type": "code",
   "execution_count": 72,
   "metadata": {},
   "outputs": [
    {
     "data": {
      "text/plain": [
       "[8]"
      ]
     },
     "execution_count": 72,
     "metadata": {},
     "output_type": "execute_result"
    }
   ],
   "source": [
    "ab"
   ]
  },
  {
   "cell_type": "code",
   "execution_count": 70,
   "metadata": {},
   "outputs": [
    {
     "data": {
      "text/plain": [
       "[8]"
      ]
     },
     "execution_count": 70,
     "metadata": {},
     "output_type": "execute_result"
    }
   ],
   "source": [
    "ab"
   ]
  },
  {
   "cell_type": "code",
   "execution_count": null,
   "metadata": {},
   "outputs": [],
   "source": []
  },
  {
   "cell_type": "code",
   "execution_count": 33,
   "metadata": {},
   "outputs": [
    {
     "data": {
      "text/plain": [
       "''"
      ]
     },
     "execution_count": 33,
     "metadata": {},
     "output_type": "execute_result"
    }
   ],
   "source": [
    "body_DEC[-1].text.split('(')[0]"
   ]
  },
  {
   "cell_type": "code",
   "execution_count": 20,
   "metadata": {},
   "outputs": [
    {
     "data": {
      "text/plain": [
       "63"
      ]
     },
     "execution_count": 20,
     "metadata": {},
     "output_type": "execute_result"
    }
   ],
   "source": [
    "len(body_DEC)"
   ]
  },
  {
   "cell_type": "code",
   "execution_count": 21,
   "metadata": {},
   "outputs": [
    {
     "data": {
      "text/plain": [
       "'9-GF'"
      ]
     },
     "execution_count": 21,
     "metadata": {},
     "output_type": "execute_result"
    }
   ],
   "source": [
    "body_INNGS[-1].text"
   ]
  },
  {
   "cell_type": "code",
   "execution_count": 23,
   "metadata": {},
   "outputs": [
    {
     "data": {
      "text/plain": [
       "'H(2)'"
      ]
     },
     "execution_count": 23,
     "metadata": {},
     "output_type": "execute_result"
    }
   ],
   "source": [
    "body_DEC[-3].text.spl"
   ]
  },
  {
   "cell_type": "code",
   "execution_count": 40,
   "metadata": {},
   "outputs": [
    {
     "data": {
      "text/plain": [
       "15"
      ]
     },
     "execution_count": 40,
     "metadata": {},
     "output_type": "execute_result"
    }
   ],
   "source": [
    "int(body_PIT[2].text)"
   ]
  },
  {
   "cell_type": "code",
   "execution_count": null,
   "metadata": {},
   "outputs": [],
   "source": []
  }
 ],
 "metadata": {
  "kernelspec": {
   "display_name": "Python 3",
   "language": "python",
   "name": "python3"
  },
  "language_info": {
   "codemirror_mode": {
    "name": "ipython",
    "version": 3
   },
   "file_extension": ".py",
   "mimetype": "text/x-python",
   "name": "python",
   "nbconvert_exporter": "python",
   "pygments_lexer": "ipython3",
   "version": "3.7.1"
  }
 },
 "nbformat": 4,
 "nbformat_minor": 2
}
