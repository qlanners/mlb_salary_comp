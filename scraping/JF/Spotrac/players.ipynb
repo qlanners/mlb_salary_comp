{
 "cells": [
  {
   "cell_type": "code",
   "execution_count": 1,
   "metadata": {},
   "outputs": [],
   "source": [
    "import requests\n",
    "import bs4"
   ]
  },
  {
   "cell_type": "code",
   "execution_count": 158,
   "metadata": {},
   "outputs": [],
   "source": [
    "url = 'https://www.spotrac.com/mlb/milwaukee-brewers/payroll/2015/'"
   ]
  },
  {
   "cell_type": "code",
   "execution_count": 159,
   "metadata": {},
   "outputs": [
    {
     "data": {
      "text/plain": [
       "<Response [200]>"
      ]
     },
     "execution_count": 159,
     "metadata": {},
     "output_type": "execute_result"
    }
   ],
   "source": [
    "res = requests.get(url)\n",
    "soup=bs4.BeautifulSoup(res.text, 'html.parser')\n",
    "res"
   ]
  },
  {
   "cell_type": "code",
   "execution_count": 160,
   "metadata": {},
   "outputs": [],
   "source": [
    "body = soup('tbody')\n",
    "headers = soup('header', class_='team-header')"
   ]
  },
  {
   "cell_type": "code",
   "execution_count": 161,
   "metadata": {},
   "outputs": [],
   "source": [
    "players_soup = body[0].find_all('td',class_='player')\n",
    "right_soup = body[0].find_all('td',class_='right')\n",
    "center_soup = body[0].find_all('td',class_='center')"
   ]
  },
  {
   "cell_type": "code",
   "execution_count": 164,
   "metadata": {},
   "outputs": [
    {
     "name": "stdout",
     "output_type": "stream",
     "text": [
      "0 Jimmy Nelson 26 SP Pre-Arb 511500 511500  511500  511500 https://www.spotrac.com/redirect/player/15660/\n",
      "0 Michael Blazek 26 RP Pre-Arb 508500 508500  508500  508500 https://www.spotrac.com/redirect/player/16104/\n",
      "1 Jimmy Nelson 26 SP Pre-Arb 511500 511500  511500  511500 https://www.spotrac.com/redirect/player/15660/\n",
      "1 Michael Blazek 26 RP Pre-Arb 508500 508500  508500  508500 https://www.spotrac.com/redirect/player/16104/\n"
     ]
    }
   ],
   "source": [
    "for na,ag,po,st,bs,ps,as_,lux in zip( players_soup,\n",
    "                               center_soup[::5],\n",
    "                               center_soup[1::5],\n",
    "                               center_soup[2::5],\n",
    "                               right_soup[::5],\n",
    "                               right_soup[3::5],\n",
    "                               right_soup[4::5],      \n",
    "                               center_soup[4::5]):\n",
    "    injured = 0\n",
    "    \n",
    "\n",
    "    print(injured,\n",
    "          na.find('a').text,\\\n",
    "          ag.text.strip(),\\\n",
    "          po.text.strip(),\\\n",
    "          st.text.strip(),\\\n",
    "          bs.find('span').text.replace('$','').replace(',',''),\n",
    "          ps.find('span').text.replace('$','').replace(',',''),\n",
    "          as_.find('span').text.replace('$','').replace(',',''),\n",
    "          lux.text.strip().replace(',',''),\n",
    "          na.find('a')['href'])\n",
    "\n",
    "if headers[0].find('h2').text.split()[1] == 'Injured':\n",
    "    \n",
    "    players_soup = body[1].find_all('td',class_='player')\n",
    "    right_soup = body[1].find_all('td',class_='right')\n",
    "    center_soup = body[1].find_all('td',class_='center')\n",
    "    \n",
    "    for na,ag,po,st,bs,ps,as_,lux in zip( players_soup,\n",
    "                               center_soup[::5],\n",
    "                               center_soup[1::5],\n",
    "                               center_soup[2::5],\n",
    "                               right_soup[::5],\n",
    "                               right_soup[3::5],\n",
    "                               right_soup[4::5],      \n",
    "                               center_soup[4::5]):\n",
    "        injured = 1\n",
    "\n",
    "\n",
    "        print(injured,\n",
    "              na.find('a').text,\\\n",
    "              ag.text.strip(),\\\n",
    "              po.text.strip(),\\\n",
    "              st.text.strip(),\\\n",
    "              bs.find('span').text.replace('$','').replace(',',''),\n",
    "              ps.find('span').text.replace('$','').replace(',',''),\n",
    "              as_.find('span').text.replace('$','').replace(',',''),\n",
    "              lux.text.strip().replace(',',''),\n",
    "              na.find('a')['href'])\n",
    "    "
   ]
  },
  {
   "cell_type": "code",
   "execution_count": 165,
   "metadata": {},
   "outputs": [],
   "source": [
    "TEAM = []\n",
    "YEAR = []\n",
    "PLAYER = []\n",
    "INJURED = []\n",
    "AGE = []\n",
    "POS = []\n",
    "BASE_SALARY = []\n",
    "PAYROLL_SALARY = []\n",
    "ADJ_SALARY = []\n",
    "LUX_TAX_SALARY = []\n",
    "PLAYER_URL = []"
   ]
  },
  {
   "cell_type": "code",
   "execution_count": null,
   "metadata": {},
   "outputs": [],
   "source": []
  }
 ],
 "metadata": {
  "kernelspec": {
   "display_name": "Python 3",
   "language": "python",
   "name": "python3"
  },
  "language_info": {
   "codemirror_mode": {
    "name": "ipython",
    "version": 3
   },
   "file_extension": ".py",
   "mimetype": "text/x-python",
   "name": "python",
   "nbconvert_exporter": "python",
   "pygments_lexer": "ipython3",
   "version": "3.7.1"
  }
 },
 "nbformat": 4,
 "nbformat_minor": 2
}
