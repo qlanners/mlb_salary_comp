{
 "cells": [
  {
   "cell_type": "code",
   "execution_count": 18,
   "metadata": {},
   "outputs": [],
   "source": [
    "import pandas as pd\n",
    "import os"
   ]
  },
  {
   "cell_type": "code",
   "execution_count": 19,
   "metadata": {},
   "outputs": [
    {
     "data": {
      "text/plain": [
       "'C:/Users/jfran/Dropbox/GitHub/Baseball/mlb_salary_comp/scraping/JF/Player Pitching Value'"
      ]
     },
     "execution_count": 19,
     "metadata": {},
     "output_type": "execute_result"
    }
   ],
   "source": [
    "cwd = os.getcwd().replace('\\\\', '/')\n",
    "cwd"
   ]
  },
  {
   "cell_type": "code",
   "execution_count": 20,
   "metadata": {},
   "outputs": [],
   "source": [
    "columns = ['Rk','Name','Age','Tm','IP','G','GS',\\\n",
    "           'R','RA9','RA9opp','RA9def','RA9role','PPFp',\\\n",
    "           'RA9avg','RAA','WAA','gmLI','WAAadj','WAR','RAR',\\\n",
    "           'waaWL%','162WL%','Salary','Acquired']"
   ]
  },
  {
   "cell_type": "code",
   "execution_count": 36,
   "metadata": {},
   "outputs": [],
   "source": [
    "columns = ['Rk','Name','Age','Tm','IP','G','GS',\\\n",
    "           'R','RA9','RA9opp','RA9def','RA9role','PPFp',\\\n",
    "           'RA9avg','RAA','WAA','gmLI','WAAadj','WAR','RAR',\\\n",
    "           'waaWL%','162WL%','Salary','Acquired','League', 'Year']\n",
    "\n",
    "df = pd.DataFrame(columns=columns)\n",
    "\n",
    "\n",
    "for year in range(2000,2020):\n",
    "        for league in ('AL','NL'):\n",
    "            df_add = pd.read_csv(cwd + '/' + league + \"/\" + league + '_' + str(year) + '_value_pitching.csv')\n",
    "            df_add['League'] = league\n",
    "            df_add['Year'] = year\n",
    "            df = pd.concat([df, df_add ], axis=0)\n",
    "            \n",
    "\n",
    "new = df['Name'].str.split('\\\\', n =1 , expand = True)\n",
    "\n",
    "\n",
    "new[0] = new[0].str.replace('*','') \n",
    "df[\"name\"]= new[0].str.replace('#','') \n",
    "  \n",
    "df[\"name_key\"] = new[1]\n",
    "\n",
    "df[\"Salary\"] = df[\"Salary\"].str.replace('$','')\n",
    "\n",
    "columns = ['name','name_key'] + columns[3:4] + ['League', 'Year'] + columns[4:-2]\n",
    "\n",
    "\n",
    "df = df[columns]\n",
    "df.head()\n",
    "\n",
    "COLUMNS = []\n",
    "\n",
    "for col in columns:\n",
    "    COLUMNS.append(col.upper().replace(' ','_'))\n",
    "\n",
    "df.columns = COLUMNS\n",
    "\n",
    "destination = cwd.replace('Player Pitching Value','')\n",
    "df.to_csv(destination + 'player_value_pitching.csv', index=False)"
   ]
  },
  {
   "cell_type": "code",
   "execution_count": 26,
   "metadata": {},
   "outputs": [
    {
     "data": {
      "text/plain": [
       "Index(['NAME', 'NAME_KEY', 'TM', 'LEAGUE', 'YEAR', 'IP', 'G', 'GS', 'R', 'RA9',\n",
       "       'RA9OPP', 'RA9DEF', 'RA9ROLE', 'PPFP', 'RA9AVG', 'RAA', 'WAA', 'GMLI',\n",
       "       'WAAADJ', 'WAR', 'RAR', 'WAAWL%', '162WL%', 'SALARY', 'ACQUIRED'],\n",
       "      dtype='object')"
      ]
     },
     "execution_count": 26,
     "metadata": {},
     "output_type": "execute_result"
    }
   ],
   "source": [
    "df.columns"
   ]
  },
  {
   "cell_type": "code",
   "execution_count": 17,
   "metadata": {},
   "outputs": [
    {
     "data": {
      "text/plain": [
       "(14112, 23)"
      ]
     },
     "execution_count": 17,
     "metadata": {},
     "output_type": "execute_result"
    }
   ],
   "source": [
    "df.shape"
   ]
  },
  {
   "cell_type": "code",
   "execution_count": 35,
   "metadata": {},
   "outputs": [
    {
     "data": {
      "text/plain": [
       "3          Clayton Andrews\n",
       "3             Scott Aldred\n",
       "3           Rolando Arrojo\n",
       "3           Kurt Ainsworth\n",
       "3             Juan Alvarez\n",
       "3        Antonio Alfonseca\n",
       "3           Jeremy Affeldt\n",
       "3        Antonio Alfonseca\n",
       "3           Jeremy Affeldt\n",
       "3               Mike Adams\n",
       "3              Abe Alvarez\n",
       "3              Terry Adams\n",
       "3        Antonio Alfonseca\n",
       "3               Jon Adkins\n",
       "3               Danys Baez\n",
       "3           Jeremy Affeldt\n",
       "3            Nick Adenhart\n",
       "3           Jeremy Affeldt\n",
       "3           Alfredo Aceves\n",
       "3            Alberto Arias\n",
       "3      Jonathan Albaladejo\n",
       "3           Jeremy Affeldt\n",
       "3            Nathan Adcock\n",
       "3               Mike Adams\n",
       "3               Mike Adams\n",
       "3      Jonathan Albaladejo\n",
       "3          Al Alburquerque\n",
       "3           Jeremy Affeldt\n",
       "3             Austin Adams\n",
       "3    Henderson Alvarez III\n",
       "3            Andrew Albers\n",
       "3            Dario Alvarez\n",
       "3            Andrew Albers\n",
       "3           Brett Anderson\n",
       "3           Raul Alcantara\n",
       "3          Sandy Alcantara\n",
       "3               Cody Allen\n",
       "3          Scott Alexander\n",
       "3             Austin Adams\n",
       "3              R.J. Alaniz\n",
       "Name: NAME, dtype: object"
      ]
     },
     "execution_count": 35,
     "metadata": {},
     "output_type": "execute_result"
    }
   ],
   "source": [
    "df['NAME'][3].str.replace('\\*','')"
   ]
  },
  {
   "cell_type": "code",
   "execution_count": null,
   "metadata": {},
   "outputs": [],
   "source": [
    "*"
   ]
  }
 ],
 "metadata": {
  "kernelspec": {
   "display_name": "Python 3",
   "language": "python",
   "name": "python3"
  },
  "language_info": {
   "codemirror_mode": {
    "name": "ipython",
    "version": 3
   },
   "file_extension": ".py",
   "mimetype": "text/x-python",
   "name": "python",
   "nbconvert_exporter": "python",
   "pygments_lexer": "ipython3",
   "version": "3.7.1"
  }
 },
 "nbformat": 4,
 "nbformat_minor": 2
}
