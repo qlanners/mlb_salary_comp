{
 "cells": [
  {
   "cell_type": "code",
   "execution_count": 1,
   "metadata": {},
   "outputs": [],
   "source": [
    "import requests\n",
    "import bs4\n",
    "import statistics as stat\n",
    "from time import perf_counter\n",
    "from math import floor\n",
    "from collections import Counter"
   ]
  },
  {
   "cell_type": "code",
   "execution_count": 2,
   "metadata": {},
   "outputs": [],
   "source": [
    "url = \"https://www.baseball-reference.com/players/gl.fcgi?id=escobed01&t=b&year=2019\"\n",
    "res = requests.get(url)\n",
    "soup=bs4.BeautifulSoup(res.text, 'html.parser')"
   ]
  },
  {
   "cell_type": "code",
   "execution_count": 3,
   "metadata": {},
   "outputs": [],
   "source": [
    "body = soup.find('tbody')\n",
    "body_AB = body.find_all('td', {'data-stat':'AB'})\n",
    "body_H = body.find_all('td', {'data-stat':'H'})\n",
    "body_BB = body.find_all('td', {'data-stat':'BB'})\n",
    "body_HBP = body.find_all('td', {'data-stat':'HBP'})\n",
    "body_2B = body.find_all('td', {'data-stat':'2B'})\n",
    "body_3B = body.find_all('td', {'data-stat':'3B'})\n",
    "body_HR = body.find_all('td', {'data-stat':'HR'})\n",
    "body_RBI = body.find_all('td', {'data-stat':'RBI'})\n",
    "body_SO = body.find_all('td', {'data-stat':'SO'})\n",
    "body_SF = body.find_all('td', {'data-stat':'SF'})\n",
    "body_WPA = body.find_all('td', {'data-stat':'wpa_bat'})\n",
    "body_BOP = body.find_all('td', {'data-stat':'batting_order_position'})\n"
   ]
  },
  {
   "cell_type": "code",
   "execution_count": 5,
   "metadata": {},
   "outputs": [
    {
     "name": "stdout",
     "output_type": "stream",
     "text": [
      "2\n",
      "0\n",
      "0\n",
      "0\n",
      "1\n",
      "0\n",
      "0\n",
      "1\n",
      "3\n",
      "0\n",
      "2\n",
      "1\n",
      "1\n",
      "0\n",
      "1\n",
      "1\n",
      "2\n",
      "0\n",
      "1\n",
      "0\n",
      "2\n",
      "0\n",
      "3\n",
      "3\n",
      "3\n",
      "0\n",
      "1\n",
      "2\n",
      "3\n",
      "0\n",
      "3\n",
      "1\n",
      "1\n",
      "0\n",
      "0\n",
      "1\n",
      "2\n",
      "0\n",
      "0\n",
      "1\n",
      "3\n",
      "1\n",
      "2\n",
      "1\n",
      "1\n",
      "0\n",
      "0\n",
      "1\n",
      "2\n",
      "2\n",
      "1\n",
      "3\n",
      "1\n",
      "2\n",
      "0\n",
      "2\n",
      "2\n",
      "0\n",
      "2\n",
      "1\n",
      "0\n",
      "1\n",
      "1\n",
      "3\n",
      "4\n",
      "0\n",
      "1\n",
      "1\n",
      "1\n",
      "1\n",
      "1\n",
      "0\n",
      "0\n",
      "0\n",
      "0\n",
      "1\n",
      "2\n",
      "1\n",
      "0\n",
      "2\n",
      "1\n",
      "2\n",
      "3\n",
      "1\n",
      "1\n",
      "2\n",
      "0\n",
      "1\n",
      "3\n",
      "1\n",
      "1\n",
      "0\n",
      "1\n",
      "2\n",
      "1\n",
      "2\n",
      "0\n",
      "2\n",
      "2\n",
      "1\n",
      "0\n",
      "1\n",
      "1\n",
      "0\n",
      "0\n",
      "1\n",
      "0\n",
      "0\n",
      "3\n",
      "0\n",
      "1\n",
      "2\n",
      "0\n",
      "0\n",
      "0\n",
      "2\n",
      "0\n",
      "1\n",
      "1\n",
      "2\n",
      "1\n",
      "1\n",
      "0\n",
      "1\n",
      "1\n",
      "0\n",
      "0\n",
      "1\n",
      "2\n",
      "0\n",
      "2\n",
      "3\n",
      "1\n",
      "2\n",
      "2\n",
      "0\n",
      "1\n",
      "1\n",
      "2\n",
      "0\n",
      "1\n",
      "2\n",
      "1\n",
      "0\n",
      "2\n",
      "0\n",
      "0\n",
      "2\n",
      "2\n",
      "1\n",
      "0\n",
      "2\n",
      "1\n",
      "1\n",
      "2\n",
      "0\n",
      "0\n",
      "2\n"
     ]
    }
   ],
   "source": [
    "for i in body_H:\n",
    "    print(i.text)"
   ]
  },
  {
   "cell_type": "code",
   "execution_count": 20,
   "metadata": {},
   "outputs": [],
   "source": [
    "ATBATS = []\n",
    "HITS = []\n",
    "BASESONBALLS = []\n",
    "HITBYPITCH = []\n",
    "SINGLES = []\n",
    "DOUBLES = []\n",
    "TRIPLES = []\n",
    "HOMERUNS = []"
   ]
  },
  {
   "cell_type": "code",
   "execution_count": 49,
   "metadata": {},
   "outputs": [
    {
     "data": {
      "text/plain": [
       "158"
      ]
     },
     "execution_count": 49,
     "metadata": {},
     "output_type": "execute_result"
    }
   ],
   "source": [
    "len(body_WPA)\n"
   ]
  },
  {
   "cell_type": "code",
   "execution_count": 64,
   "metadata": {
    "scrolled": true
   },
   "outputs": [],
   "source": [
    "ATBATS = []\n",
    "ATBATS_MEAN = []\n",
    "ATBATS_STDEV = []\n",
    "\n",
    "HITS = []\n",
    "HITS_MEAN = []\n",
    "HITS_STDEV = []\n",
    "\n",
    "BASESONBALLS = []\n",
    "BASESONBALLS_MEAN = []\n",
    "BASESONBALLS_STDEV = []\n",
    "\n",
    "HITBYPITCH = []\n",
    "HITBYPITCH_MEAN = []\n",
    "HITBYPITCH_STDEV = []\n",
    "\n",
    "SINGLES = []\n",
    "SINGLES_MEAN = []\n",
    "SINGLES_STDEV = []\n",
    "\n",
    "DOUBLES = []\n",
    "DOUBLES_MEAN = []\n",
    "DOUBLES_STDEV = []\n",
    "\n",
    "TRIPLES = []\n",
    "TRIPLES_MEAN = []\n",
    "TRIPLES_STDEV = []\n",
    "\n",
    "HOMERUNS = []\n",
    "HOMERUNS_MEAN = []\n",
    "HOMERUNS_STDEV = []\n",
    "\n",
    "RBI = []\n",
    "RBI_MEAN = []\n",
    "RBI_STDEV = []\n",
    "\n",
    "STRIKEOUT = []\n",
    "STRIKEOUT_MEAN = []\n",
    "STRIKEOUT_STDEV = []\n",
    "\n",
    "SACRIFICE_F = []\n",
    "\n",
    "BA_MEAN = []\n",
    "BA_STDEV = []\n",
    "\n",
    "OBP = []\n",
    "OBP_MEAN = []\n",
    "OBP_STDEV = []\n",
    "\n",
    "SLG = []\n",
    "SLG_MEAN = []\n",
    "SLG_STDEV = []\n",
    "\n",
    "WPA_MEAN = []\n",
    "WPA_STDEV = []\n",
    "\n",
    "\n",
    "atbats = []\n",
    "hits = []\n",
    "baseonballs = []\n",
    "hitbypitch = []\n",
    "singles = []\n",
    "doubles = []\n",
    "triples = []\n",
    "homeruns = []\n",
    "rbi = []\n",
    "strikeouts = []\n",
    "sacrifice_f = []\n",
    "\n",
    "ba = []\n",
    "obp = []\n",
    "slg = []\n",
    "wpa = []\n",
    "\n",
    "\n",
    "\n",
    "for n in range(len(body_AB)):\n",
    "    \n",
    "    _ab = int(body_AB[n].text)\n",
    "    _h = int(body_H[n].text)\n",
    "    _bb = int(body_BB[n].text)\n",
    "    _hbp = int(body_HBP[n].text)\n",
    "    _2b = int(body_2B[n].text)\n",
    "    _3b = int(body_3B[n].text)\n",
    "    _hr = int(body_HR[n].text)\n",
    "    _rbi = int(body_RBI[n].text)\n",
    "    _so = int(body_SO[n].text)\n",
    "    _1b = _h - _2b - _3b - _hr\n",
    "    _sf = int(body_SF[n].text)\n",
    "    _wpa = float(body_WPA[n].text)\n",
    "    \n",
    "    \n",
    "    atbats.append( _ab )\n",
    "    hits.append( _h )\n",
    "    baseonballs.append( _bb )\n",
    "    hitbypitch.append( _hbp)\n",
    "    doubles.append( _2b)\n",
    "    triples.append( _3b)\n",
    "    homeruns.append( _hr)\n",
    "    rbi.append(_rbi)\n",
    "    strikeouts.append(_so)\n",
    "    sacrifice_f.append(_sf)\n",
    "    singles.append(_1b)\n",
    "    ba.append( _h / _ab)\n",
    "    obp.append((_h + _bb + _hbp) / (_ab + _bb + _hbp + _sf))\n",
    "    slg.append((_1b + 2*_2b + 3*_3b + 4*_hr) / _ab)\n",
    "    wpa.append(_wpa)\n",
    "    \n",
    "    \n",
    "ATBATS.append(sum(atbats))\n",
    "ATBATS_MEAN.append(sum(atbats))\n",
    "ATBATS_STDEV.append(sum(atbats))\n",
    "\n",
    "HITS.append(sum(hits))\n",
    "HITS_MEAN.append(stat.mean(hits))\n",
    "HITS_STDEV.append(stat.stdev(hits))\n",
    "\n",
    "BASESONBALLS.append(sum(baseonballs))\n",
    "BASESONBALLS_MEAN.append(stat.mean(baseonballs))\n",
    "BASESONBALLS_STDEV.append(stat.stdev(baseonballs))\n",
    "\n",
    "HITBYPITCH.append(sum(hitbypitch))\n",
    "HITBYPITCH_MEAN.append(stat.mean(hitbypitch))\n",
    "HITBYPITCH_STDEV.append(stat.stdev(hitbypitch))\n",
    "\n",
    "SINGLES.append(sum(singles))\n",
    "SINGLES_MEAN.append(stat.mean(singles))\n",
    "SINGLES_STDEV.append(stat.stdev(singles))\n",
    "\n",
    "DOUBLES.append(sum(doubles))\n",
    "DOUBLES_MEAN.append(stat.mean(doubles))\n",
    "DOUBLES_STDEV.append(stat.stdev(doubles))\n",
    "\n",
    "TRIPLES.append(sum(triples))\n",
    "TRIPLES_MEAN.append(stat.mean(triples))\n",
    "TRIPLES_STDEV.append(stat.stdev(triples))\n",
    "\n",
    "HOMERUNS.append(sum(homeruns))\n",
    "HOMERUNS_MEAN.append(stat.mean(homeruns))\n",
    "HOMERUNS_STDEV.append(stat.stdev(homeruns))\n",
    "\n",
    "RBI.append(sum(rbi))\n",
    "RBI_MEAN.append(stat.mean(rbi))\n",
    "RBI_STDEV.append(stat.stdev(rbi))\n",
    "\n",
    "STRIKEOUT.append(sum(strikeouts))\n",
    "STRIKEOUT_MEAN.append(stat.mean(strikeouts))\n",
    "STRIKEOUT_STDEV.append(stat.stdev(strikeouts))\n",
    "\n",
    "SACRIFICE_F.append(sum(sacrifice))\n",
    "\n",
    "BA_MEAN.append(stat.mean(ba))\n",
    "BA_STDEV.append(stat.stdev(ba))\n",
    "\n",
    "OBP_MEAN.append(stat.mean(obp))\n",
    "OBP_STDEV.append(stat.stdev(obp))\n",
    "\n",
    "SLG_MEAN.append(stat.mean(slg))\n",
    "SLG_STDEV.append(stat.stdev(slg))\n",
    "\n",
    "WPA_MEAN.append(stat.mean(wpa))\n",
    "WPA_STDEV.append(stat.stdev(wpa))\n"
   ]
  },
  {
   "cell_type": "code",
   "execution_count": 54,
   "metadata": {},
   "outputs": [],
   "source": [
    "BATRANK = []\n",
    "BATRANK_1 = []\n",
    "BATRANK_2 = []\n",
    "BATRANK_3 = []\n",
    "BATRANK_4 = []\n",
    "BATRANK_5 = []\n",
    "BATRANK_6 = []\n",
    "BATRANK_7 = []\n",
    "BATRANK_8 = []\n",
    "BATRANK_9 = []\n",
    "BATRANK_MODE = []\n",
    "\n",
    "\n",
    "for br in body_BOP:\n",
    "    \n",
    "    BATRANK.append(br.text)\n",
    "    \n",
    "batrank_dict = Counter(BATRANK)  \n",
    "\n",
    "br1  = batrank_dict['1']  if '1'  in batrank_dict.keys() else 0\n",
    "br2  = batrank_dict['2']  if '2'  in batrank_dict.keys() else 0\n",
    "br3  = batrank_dict['3']  if '3'  in batrank_dict.keys() else 0\n",
    "br4  = batrank_dict['4']  if '4'  in batrank_dict.keys() else 0\n",
    "br5  = batrank_dict['5']  if '5'  in batrank_dict.keys() else 0\n",
    "br6  = batrank_dict['6']  if '6'  in batrank_dict.keys() else 0\n",
    "br7  = batrank_dict['7']  if '7'  in batrank_dict.keys() else 0\n",
    "br8  = batrank_dict['8']  if '8'  in batrank_dict.keys() else 0\n",
    "br9  = batrank_dict['9']  if '9'  in batrank_dict.keys() else 0\n",
    "\n",
    "BATRANK_1.append(br1)\n",
    "BATRANK_2.append(br2)\n",
    "BATRANK_3.append(br3)\n",
    "BATRANK_4.append(br4)\n",
    "BATRANK_5.append(br5)\n",
    "BATRANK_6.append(br6)\n",
    "BATRANK_7.append(br7)\n",
    "BATRANK_8.append(br8)\n",
    "BATRANK_9.append(br9)\n",
    "BATRANK_MODE.append(stat.mode(BATRANK))"
   ]
  },
  {
   "cell_type": "code",
   "execution_count": 57,
   "metadata": {},
   "outputs": [
    {
     "data": {
      "text/plain": [
       "['3']"
      ]
     },
     "execution_count": 57,
     "metadata": {},
     "output_type": "execute_result"
    }
   ],
   "source": [
    "BATRANK_MODE"
   ]
  },
  {
   "cell_type": "code",
   "execution_count": 36,
   "metadata": {},
   "outputs": [],
   "source": [
    "import statistics"
   ]
  },
  {
   "cell_type": "code",
   "execution_count": 37,
   "metadata": {},
   "outputs": [
    {
     "data": {
      "text/plain": [
       "1"
      ]
     },
     "execution_count": 37,
     "metadata": {},
     "output_type": "execute_result"
    }
   ],
   "source": [
    "stat.mode([1,1,2])"
   ]
  },
  {
   "cell_type": "code",
   "execution_count": 66,
   "metadata": {},
   "outputs": [
    {
     "name": "stdout",
     "output_type": "stream",
     "text": [
      "0\n",
      "0\n",
      "0\n",
      "0\n",
      "0\n",
      "0\n",
      "0\n",
      "0\n",
      "0\n",
      "0\n",
      "0\n",
      "0\n",
      "0\n",
      "0\n",
      "0\n",
      "0\n",
      "0\n",
      "0\n",
      "0\n",
      "0\n",
      "0\n",
      "0\n",
      "0\n",
      "0\n",
      "0\n",
      "1\n",
      "0\n",
      "0\n",
      "0\n",
      "0\n",
      "0\n",
      "0\n",
      "1\n",
      "0\n",
      "0\n",
      "0\n",
      "0\n",
      "0\n",
      "0\n",
      "0\n",
      "0\n",
      "0\n",
      "0\n",
      "0\n",
      "0\n",
      "0\n",
      "0\n",
      "0\n",
      "0\n",
      "0\n",
      "0\n",
      "0\n",
      "0\n",
      "0\n",
      "0\n",
      "0\n",
      "0\n",
      "1\n",
      "0\n",
      "0\n",
      "0\n",
      "0\n",
      "0\n",
      "0\n",
      "0\n",
      "1\n",
      "0\n",
      "0\n",
      "0\n",
      "0\n",
      "0\n",
      "0\n",
      "0\n",
      "1\n",
      "0\n",
      "0\n",
      "0\n",
      "0\n",
      "0\n",
      "0\n",
      "0\n",
      "0\n",
      "0\n",
      "0\n",
      "0\n",
      "0\n",
      "1\n",
      "0\n",
      "0\n",
      "0\n",
      "0\n",
      "0\n",
      "1\n",
      "0\n",
      "0\n",
      "0\n",
      "0\n",
      "0\n",
      "0\n",
      "0\n",
      "0\n",
      "0\n",
      "0\n",
      "0\n",
      "0\n",
      "0\n",
      "0\n",
      "0\n",
      "0\n",
      "0\n",
      "1\n",
      "0\n",
      "1\n",
      "0\n",
      "0\n",
      "0\n",
      "0\n",
      "0\n",
      "0\n",
      "0\n",
      "1\n",
      "0\n",
      "0\n",
      "0\n",
      "0\n",
      "0\n",
      "0\n",
      "0\n",
      "0\n",
      "0\n",
      "0\n",
      "0\n",
      "0\n",
      "0\n",
      "0\n",
      "0\n",
      "0\n",
      "0\n",
      "0\n",
      "0\n",
      "0\n",
      "0\n",
      "0\n",
      "0\n",
      "0\n",
      "0\n",
      "0\n",
      "0\n",
      "0\n",
      "0\n",
      "0\n",
      "0\n",
      "0\n",
      "0\n",
      "0\n",
      "0\n",
      "0\n",
      "0\n"
     ]
    }
   ],
   "source": [
    "for n in range(len(body_AB)):\n",
    "    \n",
    "    \n",
    "    print(int(body_SF[n].text))"
   ]
  },
  {
   "cell_type": "code",
   "execution_count": 68,
   "metadata": {},
   "outputs": [
    {
     "ename": "AttributeError",
     "evalue": "module 'statistics' has no attribute 'modes'",
     "output_type": "error",
     "traceback": [
      "\u001b[1;31m---------------------------------------------------------------------------\u001b[0m",
      "\u001b[1;31mAttributeError\u001b[0m                            Traceback (most recent call last)",
      "\u001b[1;32m<ipython-input-68-f3213c0c6048>\u001b[0m in \u001b[0;36m<module>\u001b[1;34m\u001b[0m\n\u001b[1;32m----> 1\u001b[1;33m \u001b[0mstat\u001b[0m\u001b[1;33m.\u001b[0m\u001b[0mmodes\u001b[0m\u001b[1;33m(\u001b[0m\u001b[1;33m[\u001b[0m\u001b[1;36m1\u001b[0m\u001b[1;33m,\u001b[0m\u001b[1;36m2\u001b[0m\u001b[1;33m,\u001b[0m\u001b[1;36m2\u001b[0m\u001b[1;33m,\u001b[0m\u001b[1;36m3\u001b[0m\u001b[1;33m,\u001b[0m\u001b[1;36m3\u001b[0m\u001b[1;33m]\u001b[0m\u001b[1;33m)\u001b[0m\u001b[1;33m\u001b[0m\u001b[1;33m\u001b[0m\u001b[0m\n\u001b[0m",
      "\u001b[1;31mAttributeError\u001b[0m: module 'statistics' has no attribute 'modes'"
     ]
    }
   ],
   "source": [
    "stat.mode([1,2,2,3,3])"
   ]
  },
  {
   "cell_type": "code",
   "execution_count": 69,
   "metadata": {},
   "outputs": [
    {
     "data": {
      "text/plain": [
       "['Decimal',\n",
       " 'Fraction',\n",
       " 'StatisticsError',\n",
       " '__all__',\n",
       " '__builtins__',\n",
       " '__cached__',\n",
       " '__doc__',\n",
       " '__file__',\n",
       " '__loader__',\n",
       " '__name__',\n",
       " '__package__',\n",
       " '__spec__',\n",
       " '_coerce',\n",
       " '_convert',\n",
       " '_counts',\n",
       " '_exact_ratio',\n",
       " '_fail_neg',\n",
       " '_find_lteq',\n",
       " '_find_rteq',\n",
       " '_isfinite',\n",
       " '_ss',\n",
       " '_sum',\n",
       " 'bisect_left',\n",
       " 'bisect_right',\n",
       " 'collections',\n",
       " 'groupby',\n",
       " 'harmonic_mean',\n",
       " 'math',\n",
       " 'mean',\n",
       " 'median',\n",
       " 'median_grouped',\n",
       " 'median_high',\n",
       " 'median_low',\n",
       " 'mode',\n",
       " 'numbers',\n",
       " 'pstdev',\n",
       " 'pvariance',\n",
       " 'stdev',\n",
       " 'variance']"
      ]
     },
     "execution_count": 69,
     "metadata": {},
     "output_type": "execute_result"
    }
   ],
   "source": [
    "dir(stat)"
   ]
  },
  {
   "cell_type": "code",
   "execution_count": 82,
   "metadata": {},
   "outputs": [],
   "source": [
    "d = Counter([1,2,2,3,3])"
   ]
  },
  {
   "cell_type": "code",
   "execution_count": 76,
   "metadata": {
    "scrolled": true
   },
   "outputs": [
    {
     "data": {
      "text/plain": [
       "2"
      ]
     },
     "execution_count": 76,
     "metadata": {},
     "output_type": "execute_result"
    }
   ],
   "source": [
    "max(d.values())"
   ]
  },
  {
   "cell_type": "code",
   "execution_count": 83,
   "metadata": {},
   "outputs": [
    {
     "data": {
      "text/plain": [
       "dict_keys([1, 2, 3])"
      ]
     },
     "execution_count": 83,
     "metadata": {},
     "output_type": "execute_result"
    }
   ],
   "source": [
    "d.keys()"
   ]
  },
  {
   "cell_type": "code",
   "execution_count": 74,
   "metadata": {},
   "outputs": [
    {
     "name": "stdout",
     "output_type": "stream",
     "text": [
      "[None, None, None]\n"
     ]
    }
   ],
   "source": [
    "max_d_value = max(d.values())\n",
    "modes = []\n",
    "for key in d.keys():\n",
    "    modes.append(key if d['key'] == max_d_value else None)\n",
    "print(modes)"
   ]
  },
  {
   "cell_type": "code",
   "execution_count": 77,
   "metadata": {},
   "outputs": [
    {
     "data": {
      "text/plain": [
       "0"
      ]
     },
     "execution_count": 77,
     "metadata": {},
     "output_type": "execute_result"
    }
   ],
   "source": [
    "d['2']"
   ]
  },
  {
   "cell_type": "code",
   "execution_count": 85,
   "metadata": {},
   "outputs": [
    {
     "data": {
      "text/plain": [
       "[(2, 2), (3, 2), (1, 1)]"
      ]
     },
     "execution_count": 85,
     "metadata": {},
     "output_type": "execute_result"
    }
   ],
   "source": [
    "d.most_common()"
   ]
  },
  {
   "cell_type": "code",
   "execution_count": 90,
   "metadata": {},
   "outputs": [],
   "source": [
    "def mode_function(lst):\n",
    "    counter = Counter(lst)\n",
    "    _,val = counter.most_common(1)[0]\n",
    "    return [x for x,y in counter.items() if y == val]"
   ]
  },
  {
   "cell_type": "code",
   "execution_count": 97,
   "metadata": {},
   "outputs": [
    {
     "data": {
      "text/plain": [
       "[5]"
      ]
     },
     "execution_count": 97,
     "metadata": {},
     "output_type": "execute_result"
    }
   ],
   "source": [
    "mode_function2([1,2,2,3,3,4,4,5,5,5])"
   ]
  },
  {
   "cell_type": "code",
   "execution_count": 91,
   "metadata": {},
   "outputs": [
    {
     "ename": "AttributeError",
     "evalue": "'list' object has no attribute 'unique'",
     "output_type": "error",
     "traceback": [
      "\u001b[1;31m---------------------------------------------------------------------------\u001b[0m",
      "\u001b[1;31mAttributeError\u001b[0m                            Traceback (most recent call last)",
      "\u001b[1;32m<ipython-input-91-ac60ba4fc370>\u001b[0m in \u001b[0;36m<module>\u001b[1;34m\u001b[0m\n\u001b[1;32m----> 1\u001b[1;33m \u001b[1;33m[\u001b[0m\u001b[1;36m1\u001b[0m\u001b[1;33m,\u001b[0m\u001b[1;36m2\u001b[0m\u001b[1;33m,\u001b[0m\u001b[1;36m2\u001b[0m\u001b[1;33m]\u001b[0m\u001b[1;33m.\u001b[0m\u001b[0munique\u001b[0m\u001b[1;33m(\u001b[0m\u001b[1;33m)\u001b[0m\u001b[1;33m\u001b[0m\u001b[1;33m\u001b[0m\u001b[0m\n\u001b[0m",
      "\u001b[1;31mAttributeError\u001b[0m: 'list' object has no attribute 'unique'"
     ]
    }
   ],
   "source": [
    "[1,2,2].unique()"
   ]
  },
  {
   "cell_type": "code",
   "execution_count": 94,
   "metadata": {},
   "outputs": [
    {
     "data": {
      "text/plain": [
       "2"
      ]
     },
     "execution_count": 94,
     "metadata": {},
     "output_type": "execute_result"
    }
   ],
   "source": [
    "len(set([1,2,2,3,3]))"
   ]
  },
  {
   "cell_type": "code",
   "execution_count": 8,
   "metadata": {},
   "outputs": [
    {
     "name": "stdout",
     "output_type": "stream",
     "text": [
      "kellyca02 Carson Kelly\n",
      "walkech02 Christian Walker\n",
      "florewi01 Wilmer Flores\n",
      "ahmedni01 Nick Ahmed\n",
      "escobed01 Eduardo Escobar\n",
      "peralda01 David Peralta\n",
      "marteke01 Ketel Marte\n",
      "jonesad01 Adam Jones\n",
      "dysonja01 Jarrod Dyson\n",
      "locasti01 Tim Locastro\n",
      "lambja01 Jake Lamb\n",
      "vargail01 Ildemaro Vargas\n",
      "avilaal01 Alex Avila\n",
      "rojasjo01 Josh Rojas\n",
      "cronke01 Kevin Cron\n",
      "swihabl01 Blake Swihart\n",
      "murphjr01 John Ryan Murphy\n",
      "josepca01 Caleb Joseph\n",
      "almonab01 Abraham Almonte\n",
      "leybado01 Domingo Leyba\n",
      "tomasya01 Yasmany Tomas\n",
      "rayro02 Robbie Ray\n",
      "kellyme01 Merrill Kelly\n",
      "greinza01 Zack Greinke\n",
      "clarkta01 Taylor Clarke\n",
      "youngal01 Alex Young\n",
      "godleza01 Zack Godley\n",
      "leakemi01 Mike Leake\n",
      "weavelu01 Luke Weaver\n",
      "galleza01 Zac Gallen\n",
      "duplajo01 Jon Duplantier\n",
      "andrima01 Matt Andriese\n",
      "kochma01 Matt Koch\n",
      "mcfartj01 T.J. McFarland\n",
      "sherfji01 Jimmie Sherfy\n",
      "bradlar01 Archie Bradley\n",
      "hiranyo01 Yoshihisa Hirano\n",
      "payamjo01 Joel Payamps\n",
      "chafian01 Andrew Chafin\n",
      "hollagr01 Greg Holland\n",
      "crichst01 Stefan Crichton\n",
      "ginkeke01 Kevin Ginkel\n",
      "lopezyo01 Yoan Lopez\n",
      "scottro02 Robby Scott\n",
      "walketa01 Taijuan Walker\n"
     ]
    }
   ],
   "source": [
    "url_T = \"https://www.baseball-reference.com/teams/ARI/2019.shtml\"\n",
    "res_T = requests.get(url_T)\n",
    "soup_T=bs4.BeautifulSoup(res_T.text, 'html.parser')\n",
    "body = soup_T.find('tbody')\n",
    "\n",
    "#get urls and namekeys for all players listed in that team for that year\n",
    "#players_urls = []\n",
    "\n",
    "team = soup_T.find('h1', {'itemprop':'name'}).find_all('span')[1].text\n",
    "players_namekeys = []\n",
    "names = []\n",
    "\n",
    "names = []\n",
    "\n",
    "for item in body.find_all('a', href=True):\n",
    "    #players_urls.append(item['href'])\n",
    "    players_namekeys.append(item['href'][11:-6])\n",
    "    names.append(item.text)\n",
    "\n",
    "\n",
    "#start loop for each players\n",
    "\n",
    "for namekey, name in zip(players_namekeys, names):\n",
    "    print(namekey, name)"
   ]
  },
  {
   "cell_type": "code",
   "execution_count": null,
   "metadata": {},
   "outputs": [],
   "source": []
  }
 ],
 "metadata": {
  "kernelspec": {
   "display_name": "Python 3",
   "language": "python",
   "name": "python3"
  },
  "language_info": {
   "codemirror_mode": {
    "name": "ipython",
    "version": 3
   },
   "file_extension": ".py",
   "mimetype": "text/x-python",
   "name": "python",
   "nbconvert_exporter": "python",
   "pygments_lexer": "ipython3",
   "version": "3.7.1"
  }
 },
 "nbformat": 4,
 "nbformat_minor": 2
}
