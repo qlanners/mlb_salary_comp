{
 "cells": [
  {
   "cell_type": "code",
   "execution_count": 1,
   "metadata": {},
   "outputs": [],
   "source": [
    "import pandas as pd\n",
    "import numpy as np\n",
    "import sqlite3\n",
    "from collections import defaultdict\n",
    "import math\n",
    "import re\n",
    "from itertools import combinations \n",
    "import unidecode"
   ]
  },
  {
   "cell_type": "code",
   "execution_count": 2,
   "metadata": {},
   "outputs": [],
   "source": [
    "con = sqlite3.connect('/Users/qlanners/projects/mlb_salary_comp_db/mlb_salary_comp.db')"
   ]
  },
  {
   "cell_type": "code",
   "execution_count": 3,
   "metadata": {},
   "outputs": [],
   "source": [
    "inj_orig = pd.read_csv('../data/missedGamesInjuries.csv')"
   ]
  },
  {
   "cell_type": "code",
   "execution_count": 4,
   "metadata": {},
   "outputs": [],
   "source": [
    "dl_orig = pd.read_csv('../data/missedGamesDL.csv')"
   ]
  },
  {
   "cell_type": "code",
   "execution_count": 5,
   "metadata": {},
   "outputs": [],
   "source": [
    "# match full team names to abbreviations\n",
    "teams = {\n",
    "    'Angels': 'LAA',\n",
    "    'Diamondbacks': 'ARI',\n",
    "    'Braves': 'ATL',\n",
    "    'Orioles': 'BAL',\n",
    "    'Red Sox': 'BOS',\n",
    "    'Cubs': 'CHC',\n",
    "    'White Sox': 'CHW',\n",
    "    'Reds': 'CIN',\n",
    "    'Indians': 'CLE',\n",
    "    'Rockies': 'COL',\n",
    "    'Tigers': 'DET',\n",
    "    'Marlins': 'MIA',\n",
    "    'Astros': 'HOU',\n",
    "    'Royals': 'KCR',\n",
    "    'Dodgers': 'LAD',\n",
    "    'Brewers': 'MIL',\n",
    "    'Twins': 'MIN',\n",
    "    'Expos': 'MON',\n",
    "    'Mets': 'NYM',\n",
    "    'Yankees': 'NYY',\n",
    "    'Athletics': 'OAK',\n",
    "    'Phillies': 'PHI',\n",
    "    'Pirates': 'PIT',\n",
    "    'Padres': 'SDP',\n",
    "    'Mariners': 'SEA',\n",
    "    'Giants': 'SFG',\n",
    "    'Cardinals': 'STL',\n",
    "    'Rays': 'TBR',\n",
    "    'Devil Rays': 'TBR',\n",
    "    'Rangers': 'TEX',\n",
    "    'Blue Jays': 'TOR',\n",
    "    'Nationals': 'WSN'\n",
    "}"
   ]
  },
  {
   "cell_type": "code",
   "execution_count": 6,
   "metadata": {},
   "outputs": [],
   "source": [
    "inj_updated = []\n",
    "for p in list(set(inj_orig[inj_orig['Relinquished'].notnull()]['Relinquished'])):\n",
    "    inj_player = inj_orig[(inj_orig['Relinquished'] == p) | (inj_orig['Acquired'] == p)].reset_index()\n",
    "    inj_player_len = inj_player.shape[0]\n",
    "    for i,v in inj_player.iterrows():\n",
    "        if isinstance(v['Relinquished'], str):\n",
    "            if inj_player_len > i+1:\n",
    "                next_row = inj_player.iloc[i+1]\n",
    "                if isinstance(next_row['Acquired'], str) and (v['Date'].split('-')[0] in next_row['Date']):\n",
    "                    inj_updated.append([p, v['Date'], v['Team'], next_row['Date'], next_row['Team'], v['Notes']])\n",
    "                else:\n",
    "                    inj_updated.append([p, v['Date'], v['Team'], None, None, v['Notes']])\n",
    "            else:\n",
    "                inj_updated.append([p, v['Date'], v['Team'], None, None, v['Notes']])\n",
    "                "
   ]
  },
  {
   "cell_type": "code",
   "execution_count": 7,
   "metadata": {},
   "outputs": [],
   "source": [
    "dl_updated = []\n",
    "for p in list(set(dl_orig[dl_orig['Relinquished'].notnull()]['Relinquished'])):\n",
    "    dl_player = dl_orig[(dl_orig['Relinquished'] == p) | (dl_orig['Acquired'] == p)].reset_index()\n",
    "    dl_player_len = dl_player.shape[0]\n",
    "    for i,v in dl_player.iterrows():\n",
    "        if isinstance(v['Relinquished'], str):\n",
    "            if dl_player_len > i+1:\n",
    "                next_row = dl_player.iloc[i+1]\n",
    "                if isinstance(next_row['Acquired'], str) and (v['Date'].split('-')[0] in next_row['Date']):\n",
    "                    dl_updated.append([p, v['Date'], v['Team'], next_row['Date'], next_row['Team'], v['Notes']])\n",
    "                else:\n",
    "                    dl_updated.append([p, v['Date'], v['Team'], None, None, v['Notes']])\n",
    "            else:\n",
    "                dl_updated.append([p, v['Date'], v['Team'], None, None, v['Notes']])\n",
    "                "
   ]
  },
  {
   "cell_type": "code",
   "execution_count": 8,
   "metadata": {},
   "outputs": [],
   "source": [
    "col_names = ['name', 'injuryStart', 'injStartTeam', 'injEnd', 'injEndTeam', 'injNotes']\n",
    "inj_updated_df = pd.DataFrame(inj_updated, columns=col_names)\n",
    "dl_updated_df = pd.DataFrame(dl_updated, columns=col_names)\n",
    "\n",
    "# add column to keep the rows seperate for final loads into tables\n",
    "inj_updated_df['table'] = 'injury'\n",
    "dl_updated_df['table'] = 'dl'\n",
    "\n",
    "# concat df together to process name keys on both at same time\n",
    "inj_updated_df = pd.concat([inj_updated_df, dl_updated_df])\n",
    "\n",
    "# for some reason, one row is Nationals for name...\n",
    "inj_updated_df = inj_updated_df[inj_updated_df['name'] != 'Nationals']"
   ]
  },
  {
   "cell_type": "code",
   "execution_count": 9,
   "metadata": {},
   "outputs": [],
   "source": [
    "inj_updated_df = inj_updated_df.replace(np.nan, '', regex=True)\n",
    "inj_updated_df['injStartTeam'] = [teams[t] if t else None for t in inj_updated_df['injStartTeam']]\n",
    "inj_updated_df['injEndTeam'] = [teams[t] if t else None for t in inj_updated_df['injEndTeam']]"
   ]
  },
  {
   "cell_type": "code",
   "execution_count": 10,
   "metadata": {},
   "outputs": [],
   "source": [
    "name_to_id = {n:None for n in inj_updated_df['name'].unique()}\n",
    "total_players = len(name_to_id)"
   ]
  },
  {
   "cell_type": "code",
   "execution_count": 11,
   "metadata": {},
   "outputs": [
    {
     "name": "stdout",
     "output_type": "stream",
     "text": [
      "3293 of 3648 matches on name, team, and year. (90.27%)\n"
     ]
    }
   ],
   "source": [
    "cur = con.cursor()\n",
    "\n",
    "for i,r in inj_updated_df.iterrows():\n",
    "    if not name_to_id[r['name']]:\n",
    "        name = re.sub(\"[\\(\\[].*?[\\)\\]]\", \"\", r['name'].split('/')[0].strip()).strip()\n",
    "        year = int(r.injuryStart.split(\"-\")[0])\n",
    "        cur.execute(f'SELECT DISTINCT(nameKey) FROM meta WHERE name LIKE \"%{name}%\" and team LIKE \"%{r.injStartTeam}%\" and year == {year}')\n",
    "        rows = cur.fetchall()\n",
    "        if len(rows) == 1:\n",
    "            name_to_id[r['name']] = rows[0][0]\n",
    "        elif '/' in r['name']:\n",
    "            name = re.sub(\"[\\(\\[].*?[\\)\\]]\", \"\", r['name'].split('/')[1].strip()).strip()\n",
    "            cur.execute(f'SELECT DISTINCT(nameKey) FROM meta WHERE name LIKE \"%{name}%\" and team LIKE \"%{r.injStartTeam}%\" and year == {year}')\n",
    "            rows = cur.fetchall()\n",
    "            if len(rows) == 1:\n",
    "                name_to_id[r['name']] = rows[0][0]\n",
    "\n",
    "unmatched_round_1 = [n for n,v in name_to_id.items() if v is None]\n",
    "name_team_year_matches = len([n for n,v in name_to_id.items() if v is not None])\n",
    "print(f'{name_team_year_matches} of {total_players} matches on name, team, and year. ({round((name_team_year_matches / total_players)*100, 2)}%)')\n"
   ]
  },
  {
   "cell_type": "code",
   "execution_count": 12,
   "metadata": {},
   "outputs": [
    {
     "name": "stdout",
     "output_type": "stream",
     "text": [
      "136 of 3648 matches on name and team. (3.73%)\n",
      "Players matched w/o year:\n",
      "['Casey Kelly', 'Carl Sadler', 'Roy Alvarez / R.J. Alvarez', 'Calvin Pickering', 'Taylor Green', 'Kevin Hart', 'Chris Spurling', 'Brandon Workman', 'Kyle Denney', 'Jose Ceda', 'Logan Darnell', 'Chris Pettit', 'Andrew McKirahan', 'Juan Padilla', 'Andrew Brackman', 'Nick Rumbelow', 'Brandon Cumpton', 'Jeff Zimmerman', 'Adam Plutko', 'Colin Curtis', 'Erik Cordier', 'Dave Gassner', 'Jordan Smith (L.)', 'Craig Dingman', 'Davis Romero', 'Walter Majewski / Val Majewski', 'Dave Coggin', 'Gene Stechschulte', 'Dirk Hayhurst', 'Troy Mattes', 'Jose Torres (Marcos)', 'Austin Hays', 'John Ennis', 'Austin Maddox', 'Aaron Rakers', 'Jacob Nix', 'Jorge Luis Toca / Jorge Toca', 'Ian Hamilton', 'Ryan Merritt', 'Joseph Ortiz (b) / Joe Ortiz (b)', 'Frank Herrmann', 'Ryan Feierabend', 'Trevor Oaks', 'Eric Cammack', 'Engel Beltre', 'Jordan Tata', 'Jason Shiell', 'Matt Antonelli', 'Matt Chico', 'Francisco Cordova', 'Mario Valdez', 'Dave Martinez (b. 1964-09-26)', 'Josh Hall', 'Yonathan Daza', 'Kyle McPherson', 'Alex Gonzalez (b) / Chi Chi Gonzalez', 'Danny Klassen', 'Edwin Escobar', 'Melvin Upton Jr. / B.J. Upton', \"Ryan O'Rourke\", 'Angel Nesbitt', 'Jose Garcia (Luis)', 'Greg Smith (b)', 'Tyler Matzek', 'Joe Palumbo', 'Andy Thompson', 'Eury Perez', 'Greg Jones (Alan)', 'Jay Canizaro', 'Mike Duvall', 'Yorman Bazardo', 'Robb Nen', 'Carlos Estevez', 'Edwar Cabrera', 'Freddy Guzman', 'Mauricio Cabrera', 'Erik Davis (Randall)', 'Alay Soler', 'Everett Stull', 'John Van Benschoten', 'Yorman Rodriguez', 'Brian Bocock', 'Steve Green (a)', 'Sendy Rleal', 'Asher Wojciechowski', 'Juan Guzman (Andres)', 'Anthony Ortega', 'Benito Baez', 'Josh Butler', 'Billy Traber', 'Michael Kohn', 'Cesar Jimenez', 'Steve Hathaway', 'Jesse Carlson', 'Matt Mangini', 'Matt Hensley', 'Scott Cassidy', 'Jon Meloan', 'Christian Garcia (a)', 'Warner Madrigal', \"Michael O'Connor / Mike O'Connor\", 'Spencer Kieboom', 'Freddy Sandoval', 'Albert Belle / Joey Belle', 'George Lombard', 'Mark Rogers (Elliot)', 'Michael Hollimon / Mike Hollimon', 'Raudel Lazo', 'Paxton Crawford', 'Ryan Braun (Z.)', 'Scott Chiasson', 'Silvino Bracho', \"Matt West (Robert O'Neil)\", 'Ray Black', 'Cory Aldridge', 'Drew Smith (David)', 'Tony Giarratano', 'Allen Watson', 'Cameron Cairncross', 'Roberto Novoa', 'Gabriel Moya', 'Marshall McDougall', 'Mark Wohlers', 'Harvey Garcia', 'Jon Edwards', 'Sean Henn', 'Yhonathan Barrios', 'Chris Marrero', 'Jeremy Moore', 'Wilfredo Tovar', 'Darrell Einertson', 'Nathan Rolison / Nate Rolison', 'Abraham Nunez (b. 1977-02-05)', 'Oliver Drake', 'Felix Diaz', 'Andrew Taylor']\n"
     ]
    }
   ],
   "source": [
    "for i,r in inj_updated_df.iterrows():\n",
    "    if not name_to_id[r['name']]:\n",
    "        name = re.sub(\"[\\(\\[].*?[\\)\\]]\", \"\", r['name'].split('/')[0].strip()).strip()\n",
    "        cur.execute(f'SELECT DISTINCT(nameKey) FROM meta WHERE name LIKE \"%{name}%\" and team LIKE \"%{r.injStartTeam}%\"')\n",
    "        rows = cur.fetchall()\n",
    "        if len(rows) == 1:\n",
    "            name_to_id[r['name']] = rows[0][0]\n",
    "        elif '/' in r['name']:\n",
    "            name = re.sub(\"[\\(\\[].*?[\\)\\]]\", \"\", r['name'].split('/')[1].strip()).strip()\n",
    "            cur.execute(f'SELECT DISTINCT(nameKey) FROM meta WHERE name LIKE \"%{name}%\" and team LIKE \"%{r.injStartTeam}%\"')\n",
    "            rows = cur.fetchall()\n",
    "            if len(rows) == 1:\n",
    "                name_to_id[r['name']] = rows[0][0]            \n",
    "\n",
    "unmatched_round_2 = [n for n,v in name_to_id.items() if v is None]\n",
    "name_team_matches = len([n for n,v in name_to_id.items() if v is not None and n in unmatched_round_1])\n",
    "print(f'{name_team_matches} of {total_players} matches on name and team. ({round((name_team_matches / total_players)*100, 2)}%)')\n",
    "print('Players matched w/o year:')\n",
    "print([p for p in unmatched_round_1 if p not in unmatched_round_2])\n",
    "                  "
   ]
  },
  {
   "cell_type": "code",
   "execution_count": 13,
   "metadata": {},
   "outputs": [
    {
     "name": "stdout",
     "output_type": "stream",
     "text": [
      "12 of 3648 matches on name and year. (0.33%)\n",
      "Players matched w/o team:\n",
      "['Nick Green (Alvin)', 'Ramon Cabrera', 'Ramon Laureano', 'Jose Reyes (Simon)', 'Michael Taylor (Anthony)', 'Jake Elmore', 'Kimera Bartee', 'Bobby Jones (Mitchell)', 'Brad Voyles', 'Ryan Budde', 'Brian Lawrence', 'Josh Johnson (Rashaad)']\n"
     ]
    }
   ],
   "source": [
    "for i,r in inj_updated_df.iterrows():\n",
    "    if not name_to_id[r['name']]:\n",
    "        name = re.sub(\"[\\(\\[].*?[\\)\\]]\", \"\", r['name'].split('/')[0].strip()).strip()\n",
    "        year = int(r.injuryStart.split(\"-\")[0])\n",
    "        cur.execute(f'SELECT DISTINCT(nameKey) FROM meta WHERE name LIKE \"%{name}%\" and year == {year}')\n",
    "        rows = cur.fetchall()\n",
    "        if len(rows) == 1:\n",
    "            name_to_id[r['name']] = rows[0][0]\n",
    "        elif '/' in r['name']:\n",
    "            name = re.sub(\"[\\(\\[].*?[\\)\\]]\", \"\", r['name'].split('/')[1].strip()).strip()\n",
    "            cur.execute(f'SELECT DISTINCT(nameKey) FROM meta WHERE name LIKE \"%{name}%\" and year == {year}')\n",
    "            rows = cur.fetchall()\n",
    "            if len(rows) == 1:\n",
    "                name_to_id[r['name']] = rows[0][0]            \n",
    "\n",
    "unmatched_round_3 = [n for n,v in name_to_id.items() if v is None]\n",
    "name_year_matches = len([n for n,v in name_to_id.items() if v is not None and n in unmatched_round_2])\n",
    "print(f'{name_year_matches} of {total_players} matches on name and year. ({round((name_year_matches / total_players)*100, 2)}%)')\n",
    "print('Players matched w/o team:')\n",
    "print([p for p in unmatched_round_2 if p not in unmatched_round_3])"
   ]
  },
  {
   "cell_type": "code",
   "execution_count": 14,
   "metadata": {},
   "outputs": [
    {
     "name": "stdout",
     "output_type": "stream",
     "text": [
      "33 of 3648 matches on partial-name, team, and year. (0.9%)\n",
      "Players matched on part of name:\n",
      "['Damaso Marte Sr.', 'Jose Vizcaino Sr.', 'Pedro Florimon Jr.', 'Jerry Hairston Jr.', 'Tony Gwynn Sr.', 'Gary Matthews Jr.', 'Delino DeShields Jr.', 'Tony Gwynn Jr. / Anthony Gwynn', 'John Mayberry Jr.', 'Roberto Hernandez Heredia', 'Torii Hunter Sr.', 'Albert Almora Jr.', 'Fernando Tatis Sr.', 'Ken Griffey Sr.', 'Vladimir Guerrero Sr.', 'Jose Cruz Jr.', 'Sandy Alomar Jr.', 'Tony Armas Jr.', 'Cesar Izturis Sr.', 'Rickie Weeks Jr.', 'Ivan DeJesus Jr. / Ivan De Jesus Jr.', 'Tony Pena Jr. (F.)', 'Shawon Dunston Sr.', 'Dave Berg (a)?', 'Benito Santiago Sr.', 'Eric Young (a)?', 'Robbie Ross Jr.', 'Brian Hunter (L.) or Brian Hunter (R.)', 'Tim Raines Sr.', 'Glenallen Hill Sr.', 'Delino DeShields Sr.', 'LaMonte Wade Jr.', 'Ed Sprague Jr.']\n"
     ]
    }
   ],
   "source": [
    "for i,r in inj_updated_df.iterrows():\n",
    "    if not name_to_id[r['name']]:\n",
    "        name_parts = re.sub(\"[\\(\\[].*?[\\)\\]]\", \"\", r['name'].split('/')[0].strip()).strip().split()\n",
    "        for p in combinations(name_parts, 2):\n",
    "            name = ' '.join(p)\n",
    "            year = int(r.injuryStart.split(\"-\")[0])\n",
    "            cur.execute(f'SELECT DISTINCT(nameKey) FROM meta WHERE name LIKE \"%{name}%\" and team LIKE \"%{r.injStartTeam}%\" and year == {year}')\n",
    "            rows = cur.fetchall()\n",
    "            if len(rows) == 1:\n",
    "                name_to_id[r['name']] = rows[0][0]\n",
    "                break\n",
    "    if not name_to_id[r['name']] and '/' in r['name']:\n",
    "        name_parts = re.sub(\"[\\(\\[].*?[\\)\\]]\", \"\", r['name'].split('/')[1].strip()).strip().split()\n",
    "        for p in combinations(name_parts, 2):        \n",
    "            name = ' '.join(p)\n",
    "            cur.execute(f'SELECT DISTINCT(nameKey) FROM meta WHERE name LIKE \"%{name}%\" and team LIKE \"%{r.injStartTeam}%\" and year == {year}')\n",
    "            rows = cur.fetchall()\n",
    "            if len(rows) == 1:\n",
    "                name_to_id[r['name']] = rows[0][0]\n",
    "                break\n",
    "\n",
    "unmatched_round_4 = [n for n,v in name_to_id.items() if v is None]\n",
    "part_name_team_year_matches = len([n for n,v in name_to_id.items() if v is not None and n in unmatched_round_3])\n",
    "print(f'{part_name_team_year_matches} of {total_players} matches on partial-name, team, and year. ({round((part_name_team_year_matches / total_players)*100, 2)}%)')\n",
    "print('Players matched on part of name:')\n",
    "print([p for p in unmatched_round_3 if p not in unmatched_round_4])\n"
   ]
  },
  {
   "cell_type": "code",
   "execution_count": 15,
   "metadata": {},
   "outputs": [
    {
     "name": "stdout",
     "output_type": "stream",
     "text": [
      "13 of 3648 matches on cleaned-name, team, and year. (0.36%)\n",
      "Players matched on unicode cleaned name:\n",
      "['C.C. Sabathia', 'Carlos Corporán', 'Héctor Rondón', 'D.J. LeMahieu', 'A.J. Ramos', 'Joshua Riddle / J.T. Riddle', 'J.B. Shuck', 'Eduardo Núñez', 'J.T. Chargois', 'D.J. Stewart', 'A.J. Hinch', 'J.C. Ramirez', 'Vidal Nuño']\n"
     ]
    }
   ],
   "source": [
    "for i,r in inj_updated_df.iterrows():\n",
    "    if not name_to_id[r['name']]:\n",
    "        name = unidecode.unidecode(re.sub(\"[\\(\\[].*?[\\)\\]]\", \"\", r['name'].split('/')[0].strip()).strip().replace('.',''))\n",
    "        year = int(r.injuryStart.split(\"-\")[0])\n",
    "        cur.execute(f'SELECT DISTINCT(nameKey) FROM meta WHERE name LIKE \"%{name}%\" and team LIKE \"%{r.injStartTeam}%\" and year == {year}')\n",
    "        rows = cur.fetchall()\n",
    "        if len(rows) == 1:\n",
    "            name_to_id[r['name']] = rows[0][0]\n",
    "        elif '/' in r['name']:\n",
    "            name = unidecode.unidecode(re.sub(\"[\\(\\[].*?[\\)\\]]\", \"\", r['name'].split('/')[1].strip()).strip().replace('.',''))\n",
    "            cur.execute(f'SELECT DISTINCT(nameKey) FROM meta WHERE name LIKE \"%{name}%\" and team LIKE \"%{r.injStartTeam}%\" and year == {year}')\n",
    "            rows = cur.fetchall()\n",
    "            if len(rows) == 1:\n",
    "                name_to_id[r['name']] = rows[0][0]\n",
    "\n",
    "unmatched_round_5 = [n for n,v in name_to_id.items() if v is None]\n",
    "clean_name_team_year_matches = len([n for n,v in name_to_id.items() if v is not None and n in unmatched_round_4])\n",
    "print(f'{clean_name_team_year_matches} of {total_players} matches on cleaned-name, team, and year. ({round((clean_name_team_year_matches / total_players)*100, 2)}%)')\n",
    "print('Players matched on unicode cleaned name:')\n",
    "print([p for p in unmatched_round_4 if p not in unmatched_round_5])\n"
   ]
  },
  {
   "cell_type": "code",
   "execution_count": 16,
   "metadata": {},
   "outputs": [
    {
     "name": "stdout",
     "output_type": "stream",
     "text": [
      "41 of 3648 matches on only name. (1.12%)\n",
      "Players matched on only name:\n",
      "['Matt Purke', 'Reynaldo Garcia', 'Mauricio Robles', 'Juan Gonzalez', 'Antoan Richardson', 'Burch Smith', 'Kyle Skipworth', 'Thomas Diamond', 'Francisco Peguero', 'Jose De Paula', 'Alejandro Machado', 'Steve Torrealba', 'Michael Coleman', 'Rymer Liriano', 'Rafael Lopez (Manuel) / Raffy Lopez', 'Taylor Guerrieri', 'Tim Wood', 'Brian Moran', 'Justin Williams (Paul)', 'Mike Sirotka', 'Aaron Crow', 'Jamie Brown', 'Elvin Ramirez', 'Tim Federowicz', 'Aaron Brooks (Lee)', 'Ronald Herrera', 'Michael Schwimer', 'German Duran', 'Mark Worrell', 'Brett Marshall', 'Anderson Garcia', 'Henry Sosa', 'Jose Campos (Vicente) / Vicente Campos', 'Dayan Diaz', 'Alfredo Gonzalez (a)', 'Josh Wilson (Aaron)', 'Jarrett Hoffpauir', 'Nik Turley', 'Taylor Thompson', 'Brad Snyder', 'Steve Schmoll']\n"
     ]
    }
   ],
   "source": [
    "for i,r in inj_updated_df.iterrows():\n",
    "    if not name_to_id[r['name']]:\n",
    "        name = re.sub(\"[\\(\\[].*?[\\)\\]]\", \"\", r['name'].split('/')[0].strip()).strip()\n",
    "        cur.execute(f'SELECT DISTINCT(nameKey) FROM meta WHERE name LIKE \"%{name}%\"')\n",
    "        rows = cur.fetchall()\n",
    "        if len(rows) == 1:\n",
    "            name_to_id[r['name']] = rows[0][0]\n",
    "        elif '/' in r['name']:\n",
    "            name = re.sub(\"[\\(\\[].*?[\\)\\]]\", \"\", r['name'].split('/')[1].strip()).strip()\n",
    "            cur.execute(f'SELECT DISTINCT(nameKey) FROM meta WHERE name LIKE \"%{name}%\"')\n",
    "            rows = cur.fetchall()\n",
    "            if len(rows) == 1:\n",
    "                name_to_id[r['name']] = rows[0][0]            \n",
    "\n",
    "unmatched_round_6 = [n for n,v in name_to_id.items() if v is None]\n",
    "name_matches = len([n for n,v in name_to_id.items() if v is not None and n in unmatched_round_5])\n",
    "print(f'{name_matches} of {total_players} matches on only name. ({round((name_matches / total_players)*100, 2)}%)')\n",
    "print('Players matched on only name:')\n",
    "print([p for p in unmatched_round_5 if p not in unmatched_round_6])"
   ]
  },
  {
   "cell_type": "code",
   "execution_count": 17,
   "metadata": {},
   "outputs": [
    {
     "name": "stdout",
     "output_type": "stream",
     "text": [
      "22 of 3648 matches on only last name and team. (0.6%)\n",
      "Players matched on last name and team:\n",
      "['Jake Blalock', 'Jonathon Niese', 'Matt Joyce', 'Hong-Chih Kuo', 'Francisco Rosario', 'Samuel Deduno', 'Steve Tolleson', 'Jean Rodriguez', 'Jae-Weong Seo / Jae Seo', 'Zack Jones', 'Ken Roberts (b)', 'Gustavo Nunez', 'Andrew Sisco', 'Ismael Valdes', 'Dail Villanueva', 'Jesus Sosa', 'Todd Worrell', 'Jae-Kuk Ryu', 'Nate Adcock', 'Curtis Leskanic', 'Elmer Reyes', 'Terrell Young']\n"
     ]
    }
   ],
   "source": [
    "for i,r in inj_updated_df.iterrows():\n",
    "    if not name_to_id[r['name']]:\n",
    "        name = re.sub(\"[\\(\\[].*?[\\)\\]]\", \"\", r['name'].split('/')[0].strip()).strip().replace(' Jr.','').split()[-1]\n",
    "        cur.execute(f'SELECT DISTINCT(nameKey) FROM meta WHERE name LIKE \"%{name}%\" and team LIKE \"%{r.injStartTeam}%\"')\n",
    "        rows = cur.fetchall()\n",
    "        if len(rows) == 1:\n",
    "            name_to_id[r['name']] = rows[0][0]\n",
    "        elif '/' in r['name']:\n",
    "            name = re.sub(\"[\\(\\[].*?[\\)\\]]\", \"\", r['name'].split('/')[1].strip()).strip().replace(' Jr.','').split()[-1]\n",
    "            cur.execute(f'SELECT DISTINCT(nameKey) FROM meta WHERE name LIKE \"%{name}%\" and team LIKE \"%{r.injStartTeam}%\"')\n",
    "            rows = cur.fetchall()\n",
    "            if len(rows) == 1:\n",
    "                name_to_id[r['name']] = rows[0][0]            \n",
    "\n",
    "unmatched_round_7 = [n for n,v in name_to_id.items() if v is None]\n",
    "last_name_team_matches = len([n for n,v in name_to_id.items() if v is not None and n in unmatched_round_6])\n",
    "print(f'{last_name_team_matches} of {total_players} matches on only last name and team. ({round((last_name_team_matches / total_players)*100, 2)}%)')\n",
    "print('Players matched on last name and team:')\n",
    "print([p for p in unmatched_round_6 if p not in unmatched_round_7])"
   ]
  },
  {
   "cell_type": "code",
   "execution_count": 18,
   "metadata": {},
   "outputs": [
    {
     "name": "stdout",
     "output_type": "stream",
     "text": [
      "98 players left unmatched\n",
      "Unmatched players: \n",
      "\t1. Alan Farina\n",
      "\t2. Jason Stumm\n",
      "\t3. Kris Honel\n",
      "\t4. Roberto Hernandez\n",
      "\t5. Alfredo Silverio\n",
      "\t6. Jose Oquendo\n",
      "\t7. Mark Merila\n",
      "\t8. Jon Shave\n",
      "\t9. Zach Britton\n",
      "\t10. Dave Williams (Aaron)\n",
      "\t11. John Farrell (Edward)\n",
      "\t12. Tony Cloninger\n",
      "\t13. David Montgomery\n",
      "\t14. Al Reyes\n",
      "\t15. Jason Kipnish\n",
      "\t16. Joe Maddon\n",
      "\t17. John Coppolella\n",
      "\t18. Ryan Westmoreland\n",
      "\t19. Ben Copeland\n",
      "\t20. Jose Mujica (Angel)\n",
      "\t21. Carlos Guzman (Manuel) (a)\n",
      "\t22. Armando Rivero\n",
      "\t23. Joan Gregorio\n",
      "\t24. Derrick Lewis\n",
      "\t25. Henry Barrera\n",
      "\t26. Brad Meyers\n",
      "\t27. Alex Wojchiechowski\n",
      "\t28. Ryan Ketchner\n",
      "\t29. Luis Urguetto\n",
      "\t30. Bobby Jones (Joseph)\n",
      "\t31. Francelis Montas / Francellis Montas / Frankie Montas\n",
      "\t32. Juan Pena\n",
      "\t33. Mike Sirtoka\n",
      "\t34. Jose Marmolejos-Diaz\n",
      "\t35. Brian Corey\n",
      "\t36. Chris Lee (Ulysses)\n",
      "\t37. Ramon Pena (Antonio)\n",
      "\t38. Kelvin Pichardo\n",
      "\t39. Eric Beaulac\n",
      "\t40. Riley Ferrell\n",
      "\t41. placed on 10-day IL with torn ligament in left middle finger\n",
      "\t42. Julian Fernandez\n",
      "\t43. sprained left thumb (DTD)\n",
      "\t44. Stephen Marek\n",
      "\t45. Alec Grosser\n",
      "\t46. Leandro Medina\n",
      "\t47. Noel Arguelles\n",
      "\t48. Dylan Baker\n",
      "\t49. Mike Megrew\n",
      "\t50. Jim Abbott\n",
      "\t51. Rockies\n",
      "\t52. Vince Perkins\n",
      "\t53. placed on 10-day IL with left hip impingement\n",
      "\t54. Mario Alvarez\n",
      "\t55. Mike Benjamin (a)?\n",
      "\t56. Miguel Gonzalez (Angel Martin)\n",
      "\t57. Steve Stemie\n",
      "\t58. Julio Morban\n",
      "\t59. Luis Rivera (Gutierrez)?\n",
      "\t60. Kelyn Acosta\n",
      "\t61. White Sox\n",
      "\t62. Tyler Tufts\n",
      "\t63. 1/13/2017\n",
      "\t64. Ryan Dittfurth\n",
      "\t65. strained right quadriceps (DTD)\n",
      "\t66. Clayton Blackburn\n",
      "\t67. Miguel De Los Santos\n",
      "\t68. Blue Jays\n",
      "\t69. Kevin Gadea\n",
      "\t70. Rett Johnson (a)\n",
      "\t71. Grayson Garvin\n",
      "\t72. Eric Filia\n",
      "\t73. Edward Campusano / Ed Campusano\n",
      "\t74. left hand/finger injury (DTD)\n",
      "\t75. Luis Barrera\n",
      "\t76. Bobby Jones\n",
      "\t77. Rayan Gonzalez (b. 1990-10-18)\n",
      "\t78. Rangers\n",
      "\t79. placed on 10-day DL with strained left hamstring\n",
      "\t80. David Winfree\n",
      "\t81. Angel Villalona\n",
      "\t82. Reegie Corona\n",
      "\t83. Rob Ramsay\n",
      "\t84. Fausto Carmona\n",
      "\t85. Robert Fish (Michael)\n",
      "\t86. Shinji Mori\n",
      "\t87. D.J. Mattox\n",
      "\t88. Danny Peoples\n",
      "\t89. Jovanny Cedeno\n",
      "\t90. Omar Poveda\n",
      "\t91. Michael Ryan\n",
      "\t92. Hiroyuki Nakajima\n",
      "\t93. Ryan Jackson (Christopher)\n",
      "\t94. Michael Almanzar\n",
      "\t95. Nick Travieso\n",
      "\t96. Jared Goedert\n",
      "\t97. Matt Merricks\n",
      "\t98. Tyler Pike\n"
     ]
    }
   ],
   "source": [
    "print(f'{len(unmatched_round_7)} players left unmatched')\n",
    "print('Unmatched players: ')\n",
    "num = 1\n",
    "for p in unmatched_round_7:\n",
    "    print(f'\\t{num}. {p}')\n",
    "    num += 1"
   ]
  },
  {
   "cell_type": "code",
   "execution_count": 19,
   "metadata": {},
   "outputs": [
    {
     "data": {
      "text/plain": [
       "(22964, 7)"
      ]
     },
     "execution_count": 19,
     "metadata": {},
     "output_type": "execute_result"
    }
   ],
   "source": [
    "inj_updated_df.shape"
   ]
  },
  {
   "cell_type": "code",
   "execution_count": 20,
   "metadata": {},
   "outputs": [
    {
     "name": "stdout",
     "output_type": "stream",
     "text": [
      "Dropped rows for unmatched players\n",
      "Cut DF from 22964 to 22818 rows. (-146)\n"
     ]
    }
   ],
   "source": [
    "inj_df = inj_updated_df[~inj_updated_df['name'].isin(unmatched_round_7)]\n",
    "print(f'Dropped rows for unmatched players\\nCut DF from {inj_updated_df.shape[0]} to {inj_df.shape[0]} rows. (-{inj_updated_df.shape[0]-inj_df.shape[0]})')"
   ]
  },
  {
   "cell_type": "code",
   "execution_count": 21,
   "metadata": {},
   "outputs": [
    {
     "name": "stderr",
     "output_type": "stream",
     "text": [
      "/Users/qlanners/opt/anaconda3/lib/python3.7/site-packages/ipykernel_launcher.py:1: SettingWithCopyWarning: \n",
      "A value is trying to be set on a copy of a slice from a DataFrame.\n",
      "Try using .loc[row_indexer,col_indexer] = value instead\n",
      "\n",
      "See the caveats in the documentation: http://pandas.pydata.org/pandas-docs/stable/user_guide/indexing.html#returning-a-view-versus-a-copy\n",
      "  \"\"\"Entry point for launching an IPython kernel.\n"
     ]
    }
   ],
   "source": [
    "inj_df['nameKey'] = \"\"\n",
    "for i,r in inj_df.iterrows():\n",
    "    r['nameKey'] = name_to_id[r['name']]"
   ]
  },
  {
   "cell_type": "code",
   "execution_count": 28,
   "metadata": {},
   "outputs": [],
   "source": [
    "dl_df_final = inj_df[inj_df['table'] == 'dl'].drop(columns=['table'])[['name', 'nameKey', 'injuryStart', 'injStartTeam', 'injEnd', 'injEndTeam', 'injNotes']]\n",
    "inj_df_final = inj_df[inj_df['table'] == 'injury'].drop(columns=['table'])[['name', 'nameKey', 'injuryStart', 'injStartTeam', 'injEnd', 'injEndTeam', 'injNotes']]"
   ]
  },
  {
   "cell_type": "code",
   "execution_count": 29,
   "metadata": {},
   "outputs": [
    {
     "name": "stdout",
     "output_type": "stream",
     "text": [
      "Disabled List DF Rows: 11812\n",
      "Injury List DF Rows: 11006\n",
      "Total Rows between tables: 22818\n"
     ]
    }
   ],
   "source": [
    "print(f'Disabled List DF Rows: {dl_df_final.shape[0]}')\n",
    "print(f'Injury List DF Rows: {inj_df_final.shape[0]}')\n",
    "print(f'Total Rows between tables: {dl_df_final.shape[0] + inj_df_final.shape[0]}')"
   ]
  },
  {
   "cell_type": "code",
   "execution_count": 31,
   "metadata": {},
   "outputs": [
    {
     "data": {
      "text/html": [
       "<div>\n",
       "<style scoped>\n",
       "    .dataframe tbody tr th:only-of-type {\n",
       "        vertical-align: middle;\n",
       "    }\n",
       "\n",
       "    .dataframe tbody tr th {\n",
       "        vertical-align: top;\n",
       "    }\n",
       "\n",
       "    .dataframe thead th {\n",
       "        text-align: right;\n",
       "    }\n",
       "</style>\n",
       "<table border=\"1\" class=\"dataframe\">\n",
       "  <thead>\n",
       "    <tr style=\"text-align: right;\">\n",
       "      <th></th>\n",
       "      <th>name</th>\n",
       "      <th>nameKey</th>\n",
       "      <th>injuryStart</th>\n",
       "      <th>injStartTeam</th>\n",
       "      <th>injEnd</th>\n",
       "      <th>injEndTeam</th>\n",
       "      <th>injNotes</th>\n",
       "    </tr>\n",
       "  </thead>\n",
       "  <tbody>\n",
       "    <tr>\n",
       "      <td>0</td>\n",
       "      <td>Billy McMillon</td>\n",
       "      <td>mcmilbi01</td>\n",
       "      <td>2001-07-26</td>\n",
       "      <td>OAK</td>\n",
       "      <td></td>\n",
       "      <td>None</td>\n",
       "      <td>placed on 15-day DL with right shoulder inflam...</td>\n",
       "    </tr>\n",
       "    <tr>\n",
       "      <td>1</td>\n",
       "      <td>Billy McMillon</td>\n",
       "      <td>mcmilbi01</td>\n",
       "      <td>2001-09-11</td>\n",
       "      <td>OAK</td>\n",
       "      <td></td>\n",
       "      <td>None</td>\n",
       "      <td>transferred to 60-day DL</td>\n",
       "    </tr>\n",
       "    <tr>\n",
       "      <td>2</td>\n",
       "      <td>Billy McMillon</td>\n",
       "      <td>mcmilbi01</td>\n",
       "      <td>2004-06-17</td>\n",
       "      <td>OAK</td>\n",
       "      <td>2004-08-11</td>\n",
       "      <td>OAK</td>\n",
       "      <td>placed on 15-day DL with lower back inflammation</td>\n",
       "    </tr>\n",
       "    <tr>\n",
       "      <td>3</td>\n",
       "      <td>Aaron Heilman</td>\n",
       "      <td>heilmaa01</td>\n",
       "      <td>2011-04-15</td>\n",
       "      <td>ARI</td>\n",
       "      <td>2011-05-05</td>\n",
       "      <td>ARI</td>\n",
       "      <td>placed on 15-day DL with right shoulder tendin...</td>\n",
       "    </tr>\n",
       "    <tr>\n",
       "      <td>4</td>\n",
       "      <td>Javier Baez</td>\n",
       "      <td>baezja01</td>\n",
       "      <td>2016-04-03</td>\n",
       "      <td>CHC</td>\n",
       "      <td>2016-04-15</td>\n",
       "      <td>CHC</td>\n",
       "      <td>placed on 15-day DL with bruised left thumb</td>\n",
       "    </tr>\n",
       "  </tbody>\n",
       "</table>\n",
       "</div>"
      ],
      "text/plain": [
       "             name    nameKey injuryStart injStartTeam      injEnd injEndTeam  \\\n",
       "0  Billy McMillon  mcmilbi01  2001-07-26          OAK                   None   \n",
       "1  Billy McMillon  mcmilbi01  2001-09-11          OAK                   None   \n",
       "2  Billy McMillon  mcmilbi01  2004-06-17          OAK  2004-08-11        OAK   \n",
       "3   Aaron Heilman  heilmaa01  2011-04-15          ARI  2011-05-05        ARI   \n",
       "4     Javier Baez   baezja01  2016-04-03          CHC  2016-04-15        CHC   \n",
       "\n",
       "                                            injNotes  \n",
       "0  placed on 15-day DL with right shoulder inflam...  \n",
       "1                           transferred to 60-day DL  \n",
       "2   placed on 15-day DL with lower back inflammation  \n",
       "3  placed on 15-day DL with right shoulder tendin...  \n",
       "4        placed on 15-day DL with bruised left thumb  "
      ]
     },
     "execution_count": 31,
     "metadata": {},
     "output_type": "execute_result"
    }
   ],
   "source": [
    "dl_df_final.head()"
   ]
  },
  {
   "cell_type": "code",
   "execution_count": null,
   "metadata": {},
   "outputs": [],
   "source": [
    "dl_df.to_sql('pst_disab', con, index=False)\n",
    "inj_df.to_sql('bba_salaries', con, index=False)"
   ]
  },
  {
   "cell_type": "code",
   "execution_count": null,
   "metadata": {},
   "outputs": [],
   "source": [
    "print('Job complete')"
   ]
  },
  {
   "cell_type": "code",
   "execution_count": null,
   "metadata": {},
   "outputs": [],
   "source": []
  }
 ],
 "metadata": {
  "kernelspec": {
   "display_name": "Python 3",
   "language": "python",
   "name": "python3"
  },
  "language_info": {
   "codemirror_mode": {
    "name": "ipython",
    "version": 3
   },
   "file_extension": ".py",
   "mimetype": "text/x-python",
   "name": "python",
   "nbconvert_exporter": "python",
   "pygments_lexer": "ipython3",
   "version": "3.7.4"
  }
 },
 "nbformat": 4,
 "nbformat_minor": 2
}
