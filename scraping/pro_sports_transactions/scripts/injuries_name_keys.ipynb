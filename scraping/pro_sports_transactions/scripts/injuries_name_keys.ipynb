{
 "cells": [
  {
   "cell_type": "code",
   "execution_count": 1,
   "metadata": {},
   "outputs": [],
   "source": [
    "import pandas as pd\n",
    "import sqlite3\n",
    "from collections import defaultdict\n",
    "import math\n",
    "import re\n",
    "from itertools import combinations \n",
    "import unidecode"
   ]
  },
  {
   "cell_type": "code",
   "execution_count": 2,
   "metadata": {},
   "outputs": [],
   "source": [
    "con = sqlite3.connect('/Users/qlanners/projects/mlb_salary_comp_db/mlb_salary_comp.db')"
   ]
  },
  {
   "cell_type": "code",
   "execution_count": 3,
   "metadata": {},
   "outputs": [],
   "source": [
    "inj_orig = pd.read_csv('../data/missedGamesInjuries.csv')"
   ]
  },
  {
   "cell_type": "code",
   "execution_count": 4,
   "metadata": {},
   "outputs": [],
   "source": [
    "inj_updated = []\n",
    "for p in list(set(inj_orig[inj_orig['Relinquished'].notnull()]['Relinquished'])):\n",
    "# for p in ['Jason Varitek']:\n",
    "    inj_player = inj_orig[(inj_orig['Relinquished'] == p) | (inj_orig['Acquired'] == p)].reset_index()\n",
    "    inj_player_len = inj_player.shape[0]\n",
    "    for i,v in inj_player.iterrows():\n",
    "        if isinstance(v['Relinquished'], str):\n",
    "            if inj_player_len > i+1:\n",
    "                next_row = inj_player.iloc[i+1]\n",
    "                if isinstance(next_row['Acquired'], str) and (v['Date'].split('-')[0] in next_row['Date']):\n",
    "                    inj_updated.append([p, v['Date'], v['Team'], next_row['Date'], next_row['Team'], v['Notes']])\n",
    "                else:\n",
    "                    inj_updated.append([p, v['Date'], v['Team'], None, None, v['Notes']])\n",
    "            else:\n",
    "                inj_updated.append([p, v['Date'], v['Team'], None, None, v['Notes']])\n",
    "                "
   ]
  },
  {
   "cell_type": "code",
   "execution_count": 5,
   "metadata": {},
   "outputs": [],
   "source": [
    "col_names = ['name', 'injury_start', 'inj_start_team', 'inj_end', 'inj_end_date', 'inj_notes']\n",
    "inj_updated_df = pd.DataFrame(inj_updated, columns=col_names)\n",
    "# for some reason, one row is Nationals for name...\n",
    "inj_updated_df = inj_updated_df[inj_updated_df['name'] != 'Nationals']"
   ]
  },
  {
   "cell_type": "code",
   "execution_count": 6,
   "metadata": {},
   "outputs": [],
   "source": [
    "name_to_id = {n:None for n in inj_updated_df['name'].unique()}\n",
    "total_players = len(name_to_id)"
   ]
  },
  {
   "cell_type": "code",
   "execution_count": 7,
   "metadata": {},
   "outputs": [
    {
     "name": "stdout",
     "output_type": "stream",
     "text": [
      "2059 of 2182 matches on name, team, and year. (94.36%)\n"
     ]
    }
   ],
   "source": [
    "cur = con.cursor()\n",
    "\n",
    "for i,r in inj_updated_df.iterrows():\n",
    "    if not name_to_id[r['name']]:\n",
    "        name = re.sub(\"[\\(\\[].*?[\\)\\]]\", \"\", r['name'].split('/')[0].strip()).strip()\n",
    "        year = int(r.injury_start.split(\"-\")[0])\n",
    "        cur.execute(f'SELECT DISTINCT(name_key) FROM meta WHERE name LIKE \"%{name}%\" and team LIKE \"%{r.inj_start_team}%\" and year == {year}')\n",
    "        rows = cur.fetchall()\n",
    "        if len(rows) == 1:\n",
    "            name_to_id[r['name']] = rows[0][0]\n",
    "        elif '/' in r['name']:\n",
    "            name = re.sub(\"[\\(\\[].*?[\\)\\]]\", \"\", r['name'].split('/')[1].strip()).strip()\n",
    "            cur.execute(f'SELECT DISTINCT(name_key) FROM meta WHERE name LIKE \"%{name}%\" and team LIKE \"%{r.inj_start_team}%\" and year == {year}')\n",
    "            rows = cur.fetchall()\n",
    "            if len(rows) == 1:\n",
    "                name_to_id[r['name']] = rows[0][0]\n",
    "\n",
    "unmatched_round_1 = [n for n,v in name_to_id.items() if v is None]\n",
    "name_team_year_matches = len([n for n,v in name_to_id.items() if v is not None])\n",
    "print(f'{name_team_year_matches} of {total_players} matches on name, team, and year. ({round((name_team_year_matches / total_players)*100, 2)}%)')\n"
   ]
  },
  {
   "cell_type": "code",
   "execution_count": 8,
   "metadata": {},
   "outputs": [
    {
     "name": "stdout",
     "output_type": "stream",
     "text": [
      "47 of 2182 matches on name and team. (2.15%)\n",
      "Players matched w/o year:\n",
      "['Mike Lincoln', 'Boof Bonser', 'Roy Alvarez / R.J. Alvarez', 'Justin Miller (Mark)', 'Brandon Cumpton', 'Tim Spooneybarger', 'Brandon Workman', 'Juan Perez (Pablo)', 'Nick Rumbelow', 'Juan Carlos Oviedo / Leo Nunez', 'Andrew McKirahan', 'Edgardo Alfonzo', 'Luis Marte', 'Andrew Brackman', 'Tyler Yates', 'Fernando Rodriguez Jr.', 'Philip Humber', 'Adam Plutko', 'Jose Ceda', 'Carl Sadler', 'Taylor Green', 'Logan Darnell', 'Brandon Claussen', 'Jerry Gil', 'Carter Capps', 'Chris Spurling', 'Kevin Hart', 'Jeff Zimmerman', 'John Rheinecker', 'Chris Pettit', 'Cory Wade', 'Casey Kelly', 'Marcos Mateo', 'Dan Winkler / Danny Winkler?', 'Scott Sullivan', 'John Franco (a)', 'Juan Padilla', 'Scott Elbert', 'Michael Pineda', 'Eric Surkamp', 'Josh Kinney', 'Calvin Pickering', 'Kyle Denney', 'Mike Zagurski', 'Humberto Sanchez', 'Tim Collins', 'Jairo Diaz']\n"
     ]
    }
   ],
   "source": [
    "for i,r in inj_updated_df.iterrows():\n",
    "    if not name_to_id[r['name']]:\n",
    "        name = re.sub(\"[\\(\\[].*?[\\)\\]]\", \"\", r['name'].split('/')[0].strip()).strip()\n",
    "        cur.execute(f'SELECT DISTINCT(name_key) FROM meta WHERE name LIKE \"%{name}%\" and team LIKE \"%{r.inj_start_team}%\"')\n",
    "        rows = cur.fetchall()\n",
    "        if len(rows) == 1:\n",
    "            name_to_id[r['name']] = rows[0][0]\n",
    "        elif '/' in r['name']:\n",
    "            name = re.sub(\"[\\(\\[].*?[\\)\\]]\", \"\", r['name'].split('/')[1].strip()).strip()\n",
    "            cur.execute(f'SELECT DISTINCT(name_key) FROM meta WHERE name LIKE \"%{name}%\" and team LIKE \"%{r.inj_start_team}%\"')\n",
    "            rows = cur.fetchall()\n",
    "            if len(rows) == 1:\n",
    "                name_to_id[r['name']] = rows[0][0]            \n",
    "\n",
    "unmatched_round_2 = [n for n,v in name_to_id.items() if v is None]\n",
    "name_team_matches = len([n for n,v in name_to_id.items() if v is not None and n in unmatched_round_1])\n",
    "print(f'{name_team_matches} of {total_players} matches on name and team. ({round((name_team_matches / total_players)*100, 2)}%)')\n",
    "print('Players matched w/o year:')\n",
    "print([p for p in unmatched_round_1 if p not in unmatched_round_2])\n",
    "                  "
   ]
  },
  {
   "cell_type": "code",
   "execution_count": 9,
   "metadata": {},
   "outputs": [
    {
     "name": "stdout",
     "output_type": "stream",
     "text": [
      "6 of 2182 matches on name and year. (0.27%)\n",
      "Players matched w/o team:\n",
      "['Ramon Cabrera', 'Ramon Laureano', 'Nick Green (Alvin)', 'Jose Reyes (Simon)', 'Michael Taylor (Anthony)', 'Steven Rodriguez (F.) / Paco Rodriguez']\n"
     ]
    }
   ],
   "source": [
    "for i,r in inj_updated_df.iterrows():\n",
    "    if not name_to_id[r['name']]:\n",
    "        name = re.sub(\"[\\(\\[].*?[\\)\\]]\", \"\", r['name'].split('/')[0].strip()).strip()\n",
    "        year = int(r.injury_start.split(\"-\")[0])\n",
    "        cur.execute(f'SELECT DISTINCT(name_key) FROM meta WHERE name LIKE \"%{name}%\" and year == {year}')\n",
    "        rows = cur.fetchall()\n",
    "        if len(rows) == 1:\n",
    "            name_to_id[r['name']] = rows[0][0]\n",
    "        elif '/' in r['name']:\n",
    "            name = re.sub(\"[\\(\\[].*?[\\)\\]]\", \"\", r['name'].split('/')[1].strip()).strip()\n",
    "            cur.execute(f'SELECT DISTINCT(name_key) FROM meta WHERE name LIKE \"%{name}%\" and year == {year}')\n",
    "            rows = cur.fetchall()\n",
    "            if len(rows) == 1:\n",
    "                name_to_id[r['name']] = rows[0][0]            \n",
    "\n",
    "unmatched_round_3 = [n for n,v in name_to_id.items() if v is None]\n",
    "name_year_matches = len([n for n,v in name_to_id.items() if v is not None and n in unmatched_round_2])\n",
    "print(f'{name_year_matches} of {total_players} matches on name and year. ({round((name_year_matches / total_players)*100, 2)}%)')\n",
    "print('Players matched w/o team:')\n",
    "print([p for p in unmatched_round_2 if p not in unmatched_round_3])"
   ]
  },
  {
   "cell_type": "code",
   "execution_count": 10,
   "metadata": {},
   "outputs": [
    {
     "name": "stdout",
     "output_type": "stream",
     "text": [
      "20 of 2182 matches on partial-name, team, and year. (0.92%)\n",
      "Players matched on part of name:\n",
      "['Albert Almora Jr.', 'Delino DeShields Jr.', 'Cesar Izturis Sr.', 'Damaso Marte Sr.', 'Vladimir Guerrero Sr.', 'Torii Hunter Sr.', 'Jose Cruz Jr.', 'Tony Armas Jr.', 'Pedro Florimon Jr.', 'Gary Matthews Jr.', 'Jose Vizcaino Sr.', 'Ken Griffey Sr.', 'Rickie Weeks Jr.', 'Fernando Tatis Sr.', 'John Mayberry Jr.', 'Roberto Hernandez Heredia', 'Tony Gwynn Sr.', 'Tony Gwynn Jr. / Anthony Gwynn', 'Sandy Alomar Jr.', 'Jerry Hairston Jr.']\n"
     ]
    }
   ],
   "source": [
    "for i,r in inj_updated_df.iterrows():\n",
    "    if not name_to_id[r['name']]:\n",
    "        name_parts = re.sub(\"[\\(\\[].*?[\\)\\]]\", \"\", r['name'].split('/')[0].strip()).strip().split()\n",
    "        for p in combinations(name_parts, 2):\n",
    "            name = ' '.join(p)\n",
    "            year = int(r.injury_start.split(\"-\")[0])\n",
    "            cur.execute(f'SELECT DISTINCT(name_key) FROM meta WHERE name LIKE \"%{name}%\" and team LIKE \"%{r.inj_start_team}%\" and year == {year}')\n",
    "            rows = cur.fetchall()\n",
    "            if len(rows) == 1:\n",
    "                name_to_id[r['name']] = rows[0][0]\n",
    "                break\n",
    "    if not name_to_id[r['name']] and '/' in r['name']:\n",
    "        name_parts = re.sub(\"[\\(\\[].*?[\\)\\]]\", \"\", r['name'].split('/')[1].strip()).strip().split()\n",
    "        for p in combinations(name_parts, 2):        \n",
    "            name = ' '.join(p)\n",
    "            cur.execute(f'SELECT DISTINCT(name_key) FROM meta WHERE name LIKE \"%{name}%\" and team LIKE \"%{r.inj_start_team}%\" and year == {year}')\n",
    "            rows = cur.fetchall()\n",
    "            if len(rows) == 1:\n",
    "                name_to_id[r['name']] = rows[0][0]\n",
    "                break\n",
    "\n",
    "unmatched_round_4 = [n for n,v in name_to_id.items() if v is None]\n",
    "part_name_team_year_matches = len([n for n,v in name_to_id.items() if v is not None and n in unmatched_round_3])\n",
    "print(f'{part_name_team_year_matches} of {total_players} matches on partial-name, team, and year. ({round((part_name_team_year_matches / total_players)*100, 2)}%)')\n",
    "print('Players matched on part of name:')\n",
    "print([p for p in unmatched_round_3 if p not in unmatched_round_4])\n"
   ]
  },
  {
   "cell_type": "code",
   "execution_count": 11,
   "metadata": {},
   "outputs": [
    {
     "name": "stdout",
     "output_type": "stream",
     "text": [
      "8 of 2182 matches on cleaned-name, team, and year. (0.37%)\n",
      "Players matched on unicode cleaned name:\n",
      "['D.J. LeMahieu', 'Joshua Riddle / J.T. Riddle', 'Eduardo Núñez', 'Carlos Corporán', 'Héctor Rondón', 'J.B. Shuck', 'C.C. Sabathia', 'A.J. Ramos']\n"
     ]
    }
   ],
   "source": [
    "for i,r in inj_updated_df.iterrows():\n",
    "    if not name_to_id[r['name']]:\n",
    "        name = unidecode.unidecode(re.sub(\"[\\(\\[].*?[\\)\\]]\", \"\", r['name'].split('/')[0].strip()).strip().replace('.',''))\n",
    "        year = int(r.injury_start.split(\"-\")[0])\n",
    "        cur.execute(f'SELECT DISTINCT(name_key) FROM meta WHERE name LIKE \"%{name}%\" and team LIKE \"%{r.inj_start_team}%\" and year == {year}')\n",
    "        rows = cur.fetchall()\n",
    "        if len(rows) == 1:\n",
    "            name_to_id[r['name']] = rows[0][0]\n",
    "        elif '/' in r['name']:\n",
    "            name = unidecode.unidecode(re.sub(\"[\\(\\[].*?[\\)\\]]\", \"\", r['name'].split('/')[1].strip()).strip().replace('.',''))\n",
    "            cur.execute(f'SELECT DISTINCT(name_key) FROM meta WHERE name LIKE \"%{name}%\" and team LIKE \"%{r.inj_start_team}%\" and year == {year}')\n",
    "            rows = cur.fetchall()\n",
    "            if len(rows) == 1:\n",
    "                name_to_id[r['name']] = rows[0][0]\n",
    "\n",
    "unmatched_round_5 = [n for n,v in name_to_id.items() if v is None]\n",
    "clean_name_team_year_matches = len([n for n,v in name_to_id.items() if v is not None and n in unmatched_round_4])\n",
    "print(f'{clean_name_team_year_matches} of {total_players} matches on cleaned-name, team, and year. ({round((clean_name_team_year_matches / total_players)*100, 2)}%)')\n",
    "print('Players matched on unicode cleaned name:')\n",
    "print([p for p in unmatched_round_4 if p not in unmatched_round_5])\n"
   ]
  },
  {
   "cell_type": "code",
   "execution_count": 12,
   "metadata": {},
   "outputs": [
    {
     "name": "stdout",
     "output_type": "stream",
     "text": [
      "13 of 2182 matches on only name. (0.6%)\n",
      "Players matched on only name:\n",
      "['Burch Smith', 'Sean Nolin', 'Mauricio Robles', 'Pokey Reese', 'Reynaldo Garcia', 'Thomas Diamond', 'Jesse Biddle', 'Miguel Asencio', 'Matt Purke', 'Alex White', 'Kyle Skipworth', 'Antoan Richardson', 'Juan Gonzalez']\n"
     ]
    }
   ],
   "source": [
    "for i,r in inj_updated_df.iterrows():\n",
    "    if not name_to_id[r['name']]:\n",
    "        name = re.sub(\"[\\(\\[].*?[\\)\\]]\", \"\", r['name'].split('/')[0].strip()).strip()\n",
    "        cur.execute(f'SELECT DISTINCT(name_key) FROM meta WHERE name LIKE \"%{name}%\"')\n",
    "        rows = cur.fetchall()\n",
    "        if len(rows) == 1:\n",
    "            name_to_id[r['name']] = rows[0][0]\n",
    "        elif '/' in r['name']:\n",
    "            name = re.sub(\"[\\(\\[].*?[\\)\\]]\", \"\", r['name'].split('/')[1].strip()).strip()\n",
    "            cur.execute(f'SELECT DISTINCT(name_key) FROM meta WHERE name LIKE \"%{name}%\"')\n",
    "            rows = cur.fetchall()\n",
    "            if len(rows) == 1:\n",
    "                name_to_id[r['name']] = rows[0][0]            \n",
    "\n",
    "unmatched_round_6 = [n for n,v in name_to_id.items() if v is None]\n",
    "name_matches = len([n for n,v in name_to_id.items() if v is not None and n in unmatched_round_5])\n",
    "print(f'{name_matches} of {total_players} matches on only name. ({round((name_matches / total_players)*100, 2)}%)')\n",
    "print('Players matched on only name:')\n",
    "print([p for p in unmatched_round_5 if p not in unmatched_round_6])"
   ]
  },
  {
   "cell_type": "code",
   "execution_count": 13,
   "metadata": {},
   "outputs": [
    {
     "name": "stdout",
     "output_type": "stream",
     "text": [
      "11 of 2182 matches on only last name and team. (0.5%)\n",
      "Players matched on last name and team:\n",
      "['Samuel Deduno', 'Jonathon Niese', 'Matt Joyce', 'Jean Rodriguez', 'Ivan DeJesus Jr. / Ivan De Jesus Jr.', 'Francisco Rosario', 'Jae-Weong Seo / Jae Seo', 'Hong-Chih Kuo', 'Justin Miller (Ryan)', 'Steve Tolleson', 'Jake Blalock']\n"
     ]
    }
   ],
   "source": [
    "for i,r in inj_updated_df.iterrows():\n",
    "    if not name_to_id[r['name']]:\n",
    "        name = re.sub(\"[\\(\\[].*?[\\)\\]]\", \"\", r['name'].split('/')[0].strip()).strip().replace(' Jr.','').split()[-1]\n",
    "        cur.execute(f'SELECT DISTINCT(name_key) FROM meta WHERE name LIKE \"%{name}%\" and team LIKE \"%{r.inj_start_team}%\"')\n",
    "        rows = cur.fetchall()\n",
    "        if len(rows) == 1:\n",
    "            name_to_id[r['name']] = rows[0][0]\n",
    "        elif '/' in r['name']:\n",
    "            name = re.sub(\"[\\(\\[].*?[\\)\\]]\", \"\", r['name'].split('/')[1].strip()).strip().replace(' Jr.','').split()[-1]\n",
    "            cur.execute(f'SELECT DISTINCT(name_key) FROM meta WHERE name LIKE \"%{name}%\" and team LIKE \"%{r.inj_start_team}%\"')\n",
    "            rows = cur.fetchall()\n",
    "            if len(rows) == 1:\n",
    "                name_to_id[r['name']] = rows[0][0]            \n",
    "\n",
    "unmatched_round_7 = [n for n,v in name_to_id.items() if v is None]\n",
    "last_name_team_matches = len([n for n,v in name_to_id.items() if v is not None and n in unmatched_round_6])\n",
    "print(f'{last_name_team_matches} of {total_players} matches on only last name and team. ({round((last_name_team_matches / total_players)*100, 2)}%)')\n",
    "print('Players matched on last name and team:')\n",
    "print([p for p in unmatched_round_6 if p not in unmatched_round_7])"
   ]
  },
  {
   "cell_type": "code",
   "execution_count": 14,
   "metadata": {},
   "outputs": [
    {
     "name": "stdout",
     "output_type": "stream",
     "text": [
      "18 players left unmatched\n",
      "Unmatched players: \n",
      "\t1. Jon Shave\n",
      "\t2. Al Reyes\n",
      "\t3. Mark Merila\n",
      "\t4. Joe Maddon\n",
      "\t5. Alan Farina\n",
      "\t6. John Coppolella\n",
      "\t7. Dave Williams (Aaron)\n",
      "\t8. Ryan Westmoreland\n",
      "\t9. John Farrell (Edward)\n",
      "\t10. Kris Honel\n",
      "\t11. Jose Oquendo\n",
      "\t12. Roberto Hernandez\n",
      "\t13. Tony Cloninger\n",
      "\t14. Alfredo Silverio\n",
      "\t15. David Montgomery\n",
      "\t16. Zach Britton\n",
      "\t17. Jason Stumm\n",
      "\t18. Jason Kipnish\n"
     ]
    }
   ],
   "source": [
    "print(f'{len(unmatched_round_7)} players left unmatched')\n",
    "print('Unmatched players: ')\n",
    "num = 1\n",
    "for p in unmatched_round_7:\n",
    "    print(f'\\t{num}. {p}')\n",
    "    num += 1"
   ]
  },
  {
   "cell_type": "code",
   "execution_count": 15,
   "metadata": {},
   "outputs": [
    {
     "data": {
      "text/plain": [
       "(11032, 6)"
      ]
     },
     "execution_count": 15,
     "metadata": {},
     "output_type": "execute_result"
    }
   ],
   "source": [
    "inj_updated_df.shape"
   ]
  },
  {
   "cell_type": "code",
   "execution_count": 16,
   "metadata": {},
   "outputs": [
    {
     "name": "stdout",
     "output_type": "stream",
     "text": [
      "Dropped rows for unmatched players\n",
      "Cut DF from 11032 to 11006 rows. (-26)\n"
     ]
    }
   ],
   "source": [
    "inj_df = inj_updated_df[~inj_updated_df['name'].isin(unmatched_round_7)]\n",
    "print(f'Dropped rows for unmatched players\\nCut DF from {inj_updated_df.shape[0]} to {inj_df.shape[0]} rows. (-{inj_updated_df.shape[0]-inj_df.shape[0]})')"
   ]
  },
  {
   "cell_type": "code",
   "execution_count": 17,
   "metadata": {},
   "outputs": [
    {
     "name": "stderr",
     "output_type": "stream",
     "text": [
      "/Users/qlanners/opt/anaconda3/envs/mlb_salary_comp/lib/python3.7/site-packages/ipykernel_launcher.py:1: SettingWithCopyWarning: \n",
      "A value is trying to be set on a copy of a slice from a DataFrame.\n",
      "Try using .loc[row_indexer,col_indexer] = value instead\n",
      "\n",
      "See the caveats in the documentation: https://pandas.pydata.org/pandas-docs/stable/user_guide/indexing.html#returning-a-view-versus-a-copy\n",
      "  \"\"\"Entry point for launching an IPython kernel.\n"
     ]
    }
   ],
   "source": [
    "inj_df['name_key'] = \"\"\n",
    "for i,r in inj_df.iterrows():\n",
    "    r['name_key'] = name_to_id[r['name']]"
   ]
  },
  {
   "cell_type": "code",
   "execution_count": 18,
   "metadata": {},
   "outputs": [
    {
     "data": {
      "text/html": [
       "<div>\n",
       "<style scoped>\n",
       "    .dataframe tbody tr th:only-of-type {\n",
       "        vertical-align: middle;\n",
       "    }\n",
       "\n",
       "    .dataframe tbody tr th {\n",
       "        vertical-align: top;\n",
       "    }\n",
       "\n",
       "    .dataframe thead th {\n",
       "        text-align: right;\n",
       "    }\n",
       "</style>\n",
       "<table border=\"1\" class=\"dataframe\">\n",
       "  <thead>\n",
       "    <tr style=\"text-align: right;\">\n",
       "      <th></th>\n",
       "      <th>name</th>\n",
       "      <th>injury_start</th>\n",
       "      <th>inj_start_team</th>\n",
       "      <th>inj_end</th>\n",
       "      <th>inj_end_date</th>\n",
       "      <th>inj_notes</th>\n",
       "      <th>name_key</th>\n",
       "    </tr>\n",
       "  </thead>\n",
       "  <tbody>\n",
       "    <tr>\n",
       "      <th>0</th>\n",
       "      <td>Craig Counsell</td>\n",
       "      <td>2006-04-22</td>\n",
       "      <td>Diamondbacks</td>\n",
       "      <td>2006-04-25</td>\n",
       "      <td>Diamondbacks</td>\n",
       "      <td>hamstring injury (DTD)</td>\n",
       "      <td>counscr01</td>\n",
       "    </tr>\n",
       "    <tr>\n",
       "      <th>1</th>\n",
       "      <td>Craig Counsell</td>\n",
       "      <td>2006-05-07</td>\n",
       "      <td>Diamondbacks</td>\n",
       "      <td>2006-05-09</td>\n",
       "      <td>Diamondbacks</td>\n",
       "      <td>back injury (DTD)</td>\n",
       "      <td>counscr01</td>\n",
       "    </tr>\n",
       "    <tr>\n",
       "      <th>2</th>\n",
       "      <td>Craig Counsell</td>\n",
       "      <td>2009-06-28</td>\n",
       "      <td>Brewers</td>\n",
       "      <td>2009-06-29</td>\n",
       "      <td>Brewers</td>\n",
       "      <td>hamstring injury (DTD)</td>\n",
       "      <td>counscr01</td>\n",
       "    </tr>\n",
       "    <tr>\n",
       "      <th>3</th>\n",
       "      <td>Craig Counsell</td>\n",
       "      <td>2010-05-31</td>\n",
       "      <td>Brewers</td>\n",
       "      <td>2010-06-01</td>\n",
       "      <td>Brewers</td>\n",
       "      <td>quadriceps injury (DTD)</td>\n",
       "      <td>counscr01</td>\n",
       "    </tr>\n",
       "    <tr>\n",
       "      <th>4</th>\n",
       "      <td>Jonny Venters</td>\n",
       "      <td>2012-05-06</td>\n",
       "      <td>Braves</td>\n",
       "      <td>2012-05-08</td>\n",
       "      <td>Braves</td>\n",
       "      <td>sore left shoulder (DTD)</td>\n",
       "      <td>ventejo01</td>\n",
       "    </tr>\n",
       "  </tbody>\n",
       "</table>\n",
       "</div>"
      ],
      "text/plain": [
       "             name injury_start inj_start_team     inj_end  inj_end_date  \\\n",
       "0  Craig Counsell   2006-04-22   Diamondbacks  2006-04-25  Diamondbacks   \n",
       "1  Craig Counsell   2006-05-07   Diamondbacks  2006-05-09  Diamondbacks   \n",
       "2  Craig Counsell   2009-06-28        Brewers  2009-06-29       Brewers   \n",
       "3  Craig Counsell   2010-05-31        Brewers  2010-06-01       Brewers   \n",
       "4   Jonny Venters   2012-05-06         Braves  2012-05-08        Braves   \n",
       "\n",
       "                  inj_notes   name_key  \n",
       "0    hamstring injury (DTD)  counscr01  \n",
       "1         back injury (DTD)  counscr01  \n",
       "2    hamstring injury (DTD)  counscr01  \n",
       "3   quadriceps injury (DTD)  counscr01  \n",
       "4  sore left shoulder (DTD)  ventejo01  "
      ]
     },
     "execution_count": 18,
     "metadata": {},
     "output_type": "execute_result"
    }
   ],
   "source": [
    "inj_df.head()"
   ]
  },
  {
   "cell_type": "code",
   "execution_count": 19,
   "metadata": {},
   "outputs": [
    {
     "name": "stdout",
     "output_type": "stream",
     "text": [
      "Job complete\n"
     ]
    }
   ],
   "source": [
    "print('Job complete')"
   ]
  },
  {
   "cell_type": "code",
   "execution_count": null,
   "metadata": {},
   "outputs": [],
   "source": []
  }
 ],
 "metadata": {
  "kernelspec": {
   "display_name": "Python 3",
   "language": "python",
   "name": "python3"
  },
  "language_info": {
   "codemirror_mode": {
    "name": "ipython",
    "version": 3
   },
   "file_extension": ".py",
   "mimetype": "text/x-python",
   "name": "python",
   "nbconvert_exporter": "python",
   "pygments_lexer": "ipython3",
   "version": "3.7.6"
  }
 },
 "nbformat": 4,
 "nbformat_minor": 2
}
