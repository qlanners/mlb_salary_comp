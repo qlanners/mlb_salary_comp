{
 "cells": [
  {
   "cell_type": "code",
   "execution_count": 1,
   "metadata": {},
   "outputs": [],
   "source": [
    "import bs4\n",
    "import pandas as pd\n",
    "import requests\n",
    "import sqlite3\n",
    "import time"
   ]
  },
  {
   "cell_type": "code",
   "execution_count": 2,
   "metadata": {},
   "outputs": [],
   "source": [
    "try:\n",
    "    con = sqlite3.connect('/Users/qlanners/projects/mlb_salary_comp_db/mlb_salary_comp.db')\n",
    "except:\n",
    "    print('Error connecting to db.')\n",
    "    exit()"
   ]
  },
  {
   "cell_type": "code",
   "execution_count": 5,
   "metadata": {},
   "outputs": [],
   "source": [
    "# bbr meta\n",
    "meta = pd.read_csv('bbr/data/meta.csv')\n",
    "meta.to_sql('meta', con, index=False)"
   ]
  },
  {
   "cell_type": "code",
   "execution_count": 8,
   "metadata": {},
   "outputs": [],
   "source": [
    "# bbe free_agents\n",
    "fa = pd.read_csv('bbr/data/free_agents.csv')\n",
    "fa.to_sql('free_agents', con, index=False)"
   ]
  },
  {
   "cell_type": "code",
   "execution_count": 11,
   "metadata": {},
   "outputs": [],
   "source": [
    "# bbr player_value_batting\n",
    "pv_batting = pd.read_csv('bbr/data/player_value_batting.csv')\n",
    "pv_batting.to_sql('pv_batting', con, index=False)"
   ]
  },
  {
   "cell_type": "code",
   "execution_count": 13,
   "metadata": {},
   "outputs": [],
   "source": [
    "# bbr player_value_batting\n",
    "pv_pitching = pd.read_csv('bbr/data/player_value_pitching.csv')\n",
    "pv_pitching.to_sql('pv_pitching', con, index=False)"
   ]
  },
  {
   "cell_type": "code",
   "execution_count": 15,
   "metadata": {},
   "outputs": [],
   "source": [
    "# baseball almanac salaries\n",
    "bba_salaries = pd.read_csv('baseball_almanac/data/salaries.csv')\n",
    "bba_salaries.to_sql('bba_salaries', con, index=False)"
   ]
  },
  {
   "cell_type": "code",
   "execution_count": 18,
   "metadata": {},
   "outputs": [
    {
     "data": {
      "text/html": [
       "<div>\n",
       "<style scoped>\n",
       "    .dataframe tbody tr th:only-of-type {\n",
       "        vertical-align: middle;\n",
       "    }\n",
       "\n",
       "    .dataframe tbody tr th {\n",
       "        vertical-align: top;\n",
       "    }\n",
       "\n",
       "    .dataframe thead th {\n",
       "        text-align: right;\n",
       "    }\n",
       "</style>\n",
       "<table border=\"1\" class=\"dataframe\">\n",
       "  <thead>\n",
       "    <tr style=\"text-align: right;\">\n",
       "      <th></th>\n",
       "      <th>YEAR</th>\n",
       "      <th>TEAM</th>\n",
       "      <th>PLAYER</th>\n",
       "      <th>INJURED</th>\n",
       "      <th>AGE</th>\n",
       "      <th>POS</th>\n",
       "      <th>STATUS</th>\n",
       "      <th>BASE_SALARY</th>\n",
       "      <th>PAYROLL_SALARY</th>\n",
       "      <th>ADJ_SALARY</th>\n",
       "      <th>LUX_TAX_SALARY</th>\n",
       "      <th>PLAYER_URL</th>\n",
       "      <th>TEAM_URL</th>\n",
       "    </tr>\n",
       "  </thead>\n",
       "  <tbody>\n",
       "    <tr>\n",
       "      <td>0</td>\n",
       "      <td>2000</td>\n",
       "      <td>New York Yankees</td>\n",
       "      <td>Derek Jeter</td>\n",
       "      <td>0</td>\n",
       "      <td>26</td>\n",
       "      <td>SS</td>\n",
       "      <td>Arb 1</td>\n",
       "      <td>10000000</td>\n",
       "      <td>10000000</td>\n",
       "      <td>10000000</td>\n",
       "      <td>0</td>\n",
       "      <td>https://www.spotrac.com/redirect/player/586/</td>\n",
       "      <td>https://www.spotrac.com/redirect/team/34/payro...</td>\n",
       "    </tr>\n",
       "    <tr>\n",
       "      <td>1</td>\n",
       "      <td>2000</td>\n",
       "      <td>New York Yankees</td>\n",
       "      <td>Roger Clemens</td>\n",
       "      <td>0</td>\n",
       "      <td>37</td>\n",
       "      <td>SP</td>\n",
       "      <td>Pre-Arb</td>\n",
       "      <td>8100000</td>\n",
       "      <td>8100000</td>\n",
       "      <td>8100000</td>\n",
       "      <td>0</td>\n",
       "      <td>https://www.spotrac.com/redirect/player/13820/</td>\n",
       "      <td>https://www.spotrac.com/redirect/team/34/payro...</td>\n",
       "    </tr>\n",
       "    <tr>\n",
       "      <td>2</td>\n",
       "      <td>2000</td>\n",
       "      <td>New York Yankees</td>\n",
       "      <td>Mariano Rivera</td>\n",
       "      <td>0</td>\n",
       "      <td>30</td>\n",
       "      <td>RP</td>\n",
       "      <td>Arb 1</td>\n",
       "      <td>7250000</td>\n",
       "      <td>7250000</td>\n",
       "      <td>7250000</td>\n",
       "      <td>0</td>\n",
       "      <td>https://www.spotrac.com/redirect/player/596/</td>\n",
       "      <td>https://www.spotrac.com/redirect/team/34/payro...</td>\n",
       "    </tr>\n",
       "    <tr>\n",
       "      <td>3</td>\n",
       "      <td>2000</td>\n",
       "      <td>New York Yankees</td>\n",
       "      <td>Andy Pettitte</td>\n",
       "      <td>0</td>\n",
       "      <td>28</td>\n",
       "      <td>SP</td>\n",
       "      <td>Vet</td>\n",
       "      <td>6000000</td>\n",
       "      <td>7000000</td>\n",
       "      <td>7000000</td>\n",
       "      <td>0</td>\n",
       "      <td>https://www.spotrac.com/redirect/player/594/</td>\n",
       "      <td>https://www.spotrac.com/redirect/team/34/payro...</td>\n",
       "    </tr>\n",
       "    <tr>\n",
       "      <td>4</td>\n",
       "      <td>2000</td>\n",
       "      <td>New York Yankees</td>\n",
       "      <td>Alfonso Soriano</td>\n",
       "      <td>0</td>\n",
       "      <td>24</td>\n",
       "      <td>DH</td>\n",
       "      <td>Pre-Arb</td>\n",
       "      <td>630000</td>\n",
       "      <td>630000</td>\n",
       "      <td>630000</td>\n",
       "      <td>0</td>\n",
       "      <td>https://www.spotrac.com/redirect/player/160/</td>\n",
       "      <td>https://www.spotrac.com/redirect/team/34/payro...</td>\n",
       "    </tr>\n",
       "  </tbody>\n",
       "</table>\n",
       "</div>"
      ],
      "text/plain": [
       "   YEAR              TEAM           PLAYER  INJURED  AGE POS   STATUS  \\\n",
       "0  2000  New York Yankees      Derek Jeter        0   26  SS    Arb 1   \n",
       "1  2000  New York Yankees    Roger Clemens        0   37  SP  Pre-Arb   \n",
       "2  2000  New York Yankees   Mariano Rivera        0   30  RP    Arb 1   \n",
       "3  2000  New York Yankees    Andy Pettitte        0   28  SP      Vet   \n",
       "4  2000  New York Yankees  Alfonso Soriano        0   24  DH  Pre-Arb   \n",
       "\n",
       "  BASE_SALARY  PAYROLL_SALARY  ADJ_SALARY  LUX_TAX_SALARY  \\\n",
       "0    10000000        10000000    10000000               0   \n",
       "1     8100000         8100000     8100000               0   \n",
       "2     7250000         7250000     7250000               0   \n",
       "3     6000000         7000000     7000000               0   \n",
       "4      630000          630000      630000               0   \n",
       "\n",
       "                                       PLAYER_URL  \\\n",
       "0    https://www.spotrac.com/redirect/player/586/   \n",
       "1  https://www.spotrac.com/redirect/player/13820/   \n",
       "2    https://www.spotrac.com/redirect/player/596/   \n",
       "3    https://www.spotrac.com/redirect/player/594/   \n",
       "4    https://www.spotrac.com/redirect/player/160/   \n",
       "\n",
       "                                            TEAM_URL  \n",
       "0  https://www.spotrac.com/redirect/team/34/payro...  \n",
       "1  https://www.spotrac.com/redirect/team/34/payro...  \n",
       "2  https://www.spotrac.com/redirect/team/34/payro...  \n",
       "3  https://www.spotrac.com/redirect/team/34/payro...  \n",
       "4  https://www.spotrac.com/redirect/team/34/payro...  "
      ]
     },
     "execution_count": 18,
     "metadata": {},
     "output_type": "execute_result"
    }
   ],
   "source": [
    "# spotrac injuries\n",
    "spotrac_injuries = pd.read_csv('spotrac/data/salary_spotrac.csv')\n",
    "spotrac_injuries.head()"
   ]
  },
  {
   "cell_type": "code",
   "execution_count": null,
   "metadata": {},
   "outputs": [],
   "source": []
  }
 ],
 "metadata": {
  "kernelspec": {
   "display_name": "Python 3",
   "language": "python",
   "name": "python3"
  },
  "language_info": {
   "codemirror_mode": {
    "name": "ipython",
    "version": 3
   },
   "file_extension": ".py",
   "mimetype": "text/x-python",
   "name": "python",
   "nbconvert_exporter": "python",
   "pygments_lexer": "ipython3",
   "version": "3.7.4"
  }
 },
 "nbformat": 4,
 "nbformat_minor": 2
}
