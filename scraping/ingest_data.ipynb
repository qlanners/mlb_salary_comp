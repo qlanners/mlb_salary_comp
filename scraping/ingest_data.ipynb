{
 "cells": [
  {
   "cell_type": "code",
   "execution_count": 1,
   "metadata": {},
   "outputs": [],
   "source": [
    "import bs4\n",
    "import pandas as pd\n",
    "import requests\n",
    "import sqlite3\n",
    "import time"
   ]
  },
  {
   "cell_type": "code",
   "execution_count": 2,
   "metadata": {},
   "outputs": [],
   "source": [
    "# makc connection to db\n",
    "try:\n",
    "    con = sqlite3.connect('/Users/qlanners/projects/mlb_salary_comp_db/mlb_salary_comp.db')\n",
    "except:\n",
    "    print('Error connecting to db.')\n",
    "    exit()"
   ]
  },
  {
   "cell_type": "code",
   "execution_count": 3,
   "metadata": {},
   "outputs": [],
   "source": [
    "# match full team names to abbreviations\n",
    "teams = {\n",
    "    'Anaheim Angels': 'LAA',\n",
    "    'Los Angeles Angels of Anaheim': 'LAA',\n",
    "    'Los Angeles Angels': 'LAA',\n",
    "    'California Angels': 'LAA',\n",
    "    'Arizona Diamondbacks': 'ARI',\n",
    "    'Atlanta Braves': 'ATL',\n",
    "    'Baltimore Orioles': 'BAL',\n",
    "    'Boston Red Sox': 'BOS',\n",
    "    'Chicago Cubs': 'CHC',\n",
    "    'Chicago White Sox': 'CHW',\n",
    "    'Cincinnati Reds': 'CIN',\n",
    "    'Cleveland Indians': 'CLE',\n",
    "    'Colorado Rockies': 'COL',\n",
    "    'Detroit Tigers': 'DET',\n",
    "    'Florida Marlins': 'MIA',\n",
    "    'Miami Marlins': 'MIA',\n",
    "    'Houston Astros': 'HOU',\n",
    "    'Kansas City Royals': 'KCR',\n",
    "    'Los Angeles Dodgers': 'LAD',\n",
    "    'Milwaukee Brewers': 'MIL',\n",
    "    'Minnesota Twins': 'MIN',\n",
    "    'Montreal Expos': 'MON',\n",
    "    'New York Mets': 'NYM',\n",
    "    'New York Yankees': 'NYY',\n",
    "    'Oakland Athletics': 'OAK',\n",
    "    'Philadelphia Phillies': 'PHI',\n",
    "    'Pittsburgh Pirates': 'PIT',\n",
    "    'San Diego Padres': 'SDP',\n",
    "    'Seattle Mariners': 'SEA',\n",
    "    'San Francisco Giants': 'SFG',\n",
    "    'St. Louis Cardinals': 'STL',\n",
    "    'Tampa Bay Devil Rays': 'TBR',\n",
    "    'Tampa Bay Rays': 'TBR',\n",
    "    'Texas Rangers': 'TEX',\n",
    "    'Toronto Blue Jays': 'TOR',\n",
    "    'Washington Nationals': 'WSN'\n",
    "}"
   ]
  },
  {
   "cell_type": "code",
   "execution_count": 4,
   "metadata": {},
   "outputs": [],
   "source": [
    "# match old abbrevs to current\n",
    "teams_abbrevs = {\n",
    "     'SEA': 'SEA',\n",
    "     'ANA': 'LAA',\n",
    "     'DET': 'DET',\n",
    "     'TOR': 'TOR',\n",
    "     'OAK': 'OAK',\n",
    "     'BOS': 'BOS',\n",
    "     'CHW': 'CHW',\n",
    "     'KCR': 'KCR',\n",
    "     'CLE': 'CLE',\n",
    "     'MIN': 'MIN',\n",
    "     'BAL': 'BAL',\n",
    "     '2TM': '2TM',\n",
    "     'NYY': 'NYY',\n",
    "     'TEX': 'TEX',\n",
    "     'TBD': 'TBR',\n",
    "     'MIL': 'MIL',\n",
    "     'LAD': 'LAD',\n",
    "     'CHC': 'CHC',\n",
    "     'PHI': 'PHI',\n",
    "     'FLA': 'MIA',\n",
    "     'SDP': 'SDP',\n",
    "     'ARI': 'ARI',\n",
    "     'PIT': 'PIT',\n",
    "     'STL': 'STL',\n",
    "     'MON': 'MON',\n",
    "     'COL': 'COL',\n",
    "     '3TM': '3TM',\n",
    "     'NYM': 'NYM',\n",
    "     'CIN': 'CIN',\n",
    "     'HOU': 'HOU',\n",
    "     'ATL': 'ATL',\n",
    "     'SFG': 'SFG',\n",
    "     'LAA': 'LAA',\n",
    "     'WSN': 'WSN',\n",
    "     'TBR': 'TBR',\n",
    "     'MIA': 'MIA',\n",
    "     '4TM': '4TM'\n",
    "}"
   ]
  },
  {
   "cell_type": "code",
   "execution_count": 5,
   "metadata": {},
   "outputs": [],
   "source": [
    "def make_camel_case(cols):\n",
    "    \"\"\"Takes a list of column names and turns them into camelCase\"\"\"\n",
    "    return [col[0].lower() + col[1:] for col in \n",
    "            [''.join(c.lower().replace('_', ' ').title().replace(' ','')) for c in cols]\n",
    "           ]"
   ]
  },
  {
   "cell_type": "code",
   "execution_count": 6,
   "metadata": {},
   "outputs": [],
   "source": [
    "# bbr meta\n",
    "meta = pd.read_csv('bbr/data/meta.csv')\n",
    "meta.columns = make_camel_case(meta.columns)\n",
    "meta['birthdate'] = pd.to_datetime(meta['birthdate'])\n",
    "meta['team'] = [teams[t] for t in meta['team']]\n",
    "meta.to_sql('meta', con, index=False)"
   ]
  },
  {
   "cell_type": "code",
   "execution_count": 7,
   "metadata": {},
   "outputs": [],
   "source": [
    "# bbe free_agents\n",
    "fa = pd.read_csv('bbr/data/free_agents.csv')\n",
    "fa.columns = make_camel_case(fa.columns)\n",
    "fa['arrivalDt'] = pd.to_datetime(fa['arrivalDt'])\n",
    "fa['birthdate'] = pd.to_datetime(fa['birthdate'])\n",
    "fa['freeAgentDt'] = pd.to_datetime(fa['freeAgentDt'], errors='coerce')\n",
    "fa['seasonStartDt'] = pd.to_datetime(fa['seasonStartDt'])\n",
    "fa['wasDrafted'] = fa['wasDrafted'] == 'yes'\n",
    "fa['isFreeAgentNow'] = fa['isFreeAgentNow'] == 'yes'\n",
    "fa.to_sql('free_agents', con, index=False)"
   ]
  },
  {
   "cell_type": "code",
   "execution_count": 8,
   "metadata": {},
   "outputs": [],
   "source": [
    "# bbr player_value_batting\n",
    "pv_batting = pd.read_csv('bbr/data/player_value_batting.csv')\n",
    "pv_batting.columns = make_camel_case(pv_batting.columns)\n",
    "pv_batting.rename(columns={'162Wl%': 'winLossAvgSeason', 'tm': 'team', 'waawl%': 'waawlPerc'}, inplace=True)\n",
    "pv_batting['team'] = [teams_abbrevs[t] for t in pv_batting['team']]\n",
    "pv_batting.to_sql('pv_batting', con, index=False)"
   ]
  },
  {
   "cell_type": "code",
   "execution_count": 9,
   "metadata": {},
   "outputs": [],
   "source": [
    "# bbr player_value_pitching\n",
    "pv_pitching = pd.read_csv('bbr/data/player_value_pitching.csv')\n",
    "pv_pitching.columns = make_camel_case(pv_pitching.columns)\n",
    "pv_pitching.rename(columns={'162Wl%': 'winLossAvgSeason', 'tm': 'team', 'waawl%': 'waawlPerc'}, inplace=True)\n",
    "pv_pitching['team'] = [teams_abbrevs[t] for t in pv_pitching['team']]\n",
    "pv_pitching.to_sql('pv_pitching', con, index=False)"
   ]
  },
  {
   "cell_type": "code",
   "execution_count": 10,
   "metadata": {},
   "outputs": [],
   "source": [
    "# baseball almanac salaries\n",
    "bba_salaries = pd.read_csv('baseball_almanac/data/salaries.csv')\n",
    "bba_salaries.columns = make_camel_case(bba_salaries.columns)\n",
    "bba_salaries['team'] = [teams[t] for t in bba_salaries['team']]\n",
    "bba_salaries['allStar'] = bba_salaries['allStar'] == 'yes'\n",
    "bba_salaries['worldSeries'] = bba_salaries['worldSeries'] == 'yes'\n",
    "bba_salaries.to_sql('bba_salaries', con, index=False)"
   ]
  },
  {
   "cell_type": "code",
   "execution_count": 11,
   "metadata": {},
   "outputs": [],
   "source": [
    "# update games_batting game logs\n",
    "games_batting = pd.read_sql_query(\"SELECT * FROM games_batting\", con)\n",
    "games_batting.columns = make_camel_case(games_batting.columns)\n",
    "games_batting.rename(columns={'playerId': 'nameKey', 'unnamed:5': 'away', \n",
    "                              '2B': 'double', '3B': 'triple', 'tm': 'team',\n",
    "                              'dfs(Dk)': 'dfsDk', 'dfs(Fd)': 'dfsFd'}, inplace=True)"
   ]
  },
  {
   "cell_type": "code",
   "execution_count": 12,
   "metadata": {},
   "outputs": [],
   "source": [
    "# check all team abbrevs are covered\n",
    "if len([t for t in games_batting['team'].unique() if t not in teams_abbrevs.keys()]) > 0:\n",
    "    print('CAUTION: TEAM MISMATCH')"
   ]
  },
  {
   "cell_type": "code",
   "execution_count": 13,
   "metadata": {},
   "outputs": [],
   "source": [
    "# break date into month and date\n",
    "gb_dates = [d.split(' ') for d in games_batting['date']]\n",
    "games_batting['month'] = [d[0] for d in gb_dates]\n",
    "games_batting['day'] = [d[1].replace('\\xa0susp','') for d in gb_dates]\n",
    "\n",
    "# break result into seperate columns\n",
    "gb_rslt = [d.split(',') for d in games_batting['rslt']]\n",
    "gb_rslt = [[g[0]] + g[1].split('-') for g in gb_rslt]\n",
    "games_batting['result'] = [d[0] for d in gb_rslt]\n",
    "games_batting['teamRuns'] = [d[1] for d in gb_rslt]\n",
    "games_batting['oppRuns'] = [d[2] for d in gb_rslt]\n",
    "\n",
    "games_batting.drop(['index', 'date', 'rslt'], axis=1, inplace=True)"
   ]
  },
  {
   "cell_type": "code",
   "execution_count": 14,
   "metadata": {},
   "outputs": [],
   "source": [
    "# convert column data types\n",
    "cols_to_ints = ['day', 'rk', 'gcar', 'teamRuns', 'oppRuns', 'pa', 'ab', 'r', 'h', 'double', 'triple', 'hr', 'rbi', 'bb', 'ibb', \n",
    "                'so', 'hbp', 'sh', 'sf', 'roe', 'gdp', 'sb', 'cs', 'bop']\n",
    "cols_to_floats = ['ba', 'obp', 'slg', 'ops', 'bop', 'ali', 'wpa', 're24', 'dfs(Dk)', 'dfs(Fd)']\n",
    "\n",
    "for c in cols_to_ints:\n",
    "    games_batting[c] = pd.to_numeric(games_batting[c], downcast='integer')\n",
    "\n",
    "for c in cols_to_floats:\n",
    "    games_batting[c] = pd.to_numeric(games_batting[c])    "
   ]
  },
  {
   "cell_type": "code",
   "execution_count": 15,
   "metadata": {},
   "outputs": [],
   "source": [
    "# reorder cols\n",
    "gb_col_order = ['nameKey', 'year', 'month', 'day', 'rk', 'gcar', 'gtm', \n",
    "                'team', 'away', 'opp', 'result', 'teamRuns', 'oppRuns', 'inngs',\n",
    "                'pa', 'ab', 'r', 'h', 'double', 'triple', 'hr', 'rbi', 'bb', 'ibb',\n",
    "                'so', 'hbp', 'sh', 'sf', 'roe', 'gdp', 'sb', 'cs', 'ba', 'obp', 'slg',\n",
    "                'ops', 'bop', 'ali', 'wpa', 're24', 'dfs(Dk)', 'dfs(Fd)', 'pos',]\n",
    "games_batting = games_batting[gb_col_order]\n",
    "games_batting.to_sql('games_batting_new', con, index=False)"
   ]
  },
  {
   "cell_type": "code",
   "execution_count": 16,
   "metadata": {},
   "outputs": [],
   "source": [
    "# update games_fielding game logs\n",
    "games_fielding = pd.read_sql_query(\"SELECT * FROM games_fielding\", con)\n",
    "games_fielding.columns = make_camel_case(games_fielding.columns)\n",
    "games_fielding.rename(columns={'playerId': 'nameKey', 'unnamed:4': 'away',\n",
    "                               'tm': 'team', 'inn': 'field_inngs'}, inplace=True)"
   ]
  },
  {
   "cell_type": "code",
   "execution_count": 17,
   "metadata": {},
   "outputs": [],
   "source": [
    "# check all team abbrevs are covered\n",
    "if len([t for t in games_fielding['team'].unique() if t not in teams_abbrevs.keys()]) > 0:\n",
    "    print('CAUTION: TEAM MISMATCH')"
   ]
  },
  {
   "cell_type": "code",
   "execution_count": 18,
   "metadata": {},
   "outputs": [],
   "source": [
    "# break date into month and date\n",
    "gf_dates = [d.split(' ') for d in games_fielding['date']]\n",
    "games_fielding['month'] = [d[0] for d in gf_dates]\n",
    "games_fielding['day'] = [d[1].replace('\\xa0susp','') for d in gf_dates]\n",
    "\n",
    "# break result into seperate columns\n",
    "gf_rslt = [d.split(',') for d in games_fielding['rslt']]\n",
    "gf_rslt = [[g[0]] + g[1].split('-') for g in gf_rslt]\n",
    "games_fielding['result'] = [d[0] for d in gf_rslt]\n",
    "games_fielding['teamRuns'] = [d[1] for d in gf_rslt]\n",
    "games_fielding['oppRuns'] = [d[2] for d in gf_rslt]\n",
    "\n",
    "games_fielding.drop(['index', 'date', 'rslt'], axis=1, inplace=True)"
   ]
  },
  {
   "cell_type": "code",
   "execution_count": 19,
   "metadata": {},
   "outputs": [],
   "source": [
    "# convert column data types\n",
    "cols_to_ints = ['day', 'rk', 'teamRuns', 'oppRuns', 'bf', 'po', 'a', 'e', 'ch', 'dp']\n",
    "cols_to_floats = ['field_inngs']\n",
    "\n",
    "for c in cols_to_ints:\n",
    "    games_fielding[c] = pd.to_numeric(games_fielding[c], downcast='integer')\n",
    "\n",
    "for c in cols_to_floats:\n",
    "    games_fielding[c] = pd.to_numeric(games_fielding[c])    "
   ]
  },
  {
   "cell_type": "code",
   "execution_count": 20,
   "metadata": {},
   "outputs": [],
   "source": [
    "# reorder cols\n",
    "gf_col_order = ['nameKey', 'year', 'month', 'day', 'rk', 'gtm', 'team', 'away', 'opp', \n",
    "                'result', 'teamRuns', 'oppRuns', 'inngs', 'bf', 'field_inngs', \n",
    "                'po', 'a', 'e', 'ch', 'dp', 'pos']\n",
    "games_fielding = games_fielding[gf_col_order]\n",
    "games_fielding.to_sql('games_fielding_new', con, index=False)"
   ]
  },
  {
   "cell_type": "code",
   "execution_count": 21,
   "metadata": {},
   "outputs": [],
   "source": [
    "# update games_pitching game logs\n",
    "games_pitching = pd.read_sql_query(\"SELECT * FROM games_pitching\", con)\n",
    "games_pitching.columns = make_camel_case(games_pitching.columns)\n",
    "games_pitching.rename(columns={'playerId': 'nameKey', 'unnamed:5': 'away', \n",
    "                              '2B': 'double', '3B': 'triple', 'tm': 'team',\n",
    "                              'dfs(Dk)': 'dfsDk', 'dfs(Fd)': 'dfsFd'}, inplace=True)"
   ]
  },
  {
   "cell_type": "code",
   "execution_count": 22,
   "metadata": {},
   "outputs": [],
   "source": [
    "# check all team abbrevs are covered\n",
    "if len([t for t in games_pitching['team'].unique() if t not in teams_abbrevs.keys()]) > 0:\n",
    "    print('CAUTION: TEAM MISMATCH')"
   ]
  },
  {
   "cell_type": "code",
   "execution_count": 23,
   "metadata": {},
   "outputs": [],
   "source": [
    "# break date into month and date\n",
    "gp_dates = [d.split(u'\\xa0') for d in games_pitching['date']]\n",
    "games_pitching['month'] = [d[0] for d in gp_dates]\n",
    "games_pitching['day'] = [d[1].split('(')[0] for d in gp_dates]\n",
    "\n",
    "# break result into seperate columns\n",
    "gp_rslt = [d.split(',') for d in games_pitching['rslt']]\n",
    "gp_rslt = [[g[0]] + g[1].split('-') for g in gp_rslt]\n",
    "games_pitching['result'] = [d[0] for d in gp_rslt]\n",
    "games_pitching['teamRuns'] = [d[1] for d in gp_rslt]\n",
    "games_pitching['oppRuns'] = [d[2] for d in gp_rslt]\n",
    "\n",
    "# break decision into seperate columns\n",
    "decisions = []\n",
    "winsAfter = []\n",
    "lossesAfter = []\n",
    "for i,r in games_pitching.iterrows():\n",
    "    this_dec = r['dec']\n",
    "    if this_dec:\n",
    "        decisions.append(this_dec.split('(')[0])\n",
    "        winsAfter.append(this_dec.split('(')[1].split('-')[0].replace(')', ''))\n",
    "        if '-' in this_dec:\n",
    "            lossesAfter.append(this_dec.split('-')[1][:-1])\n",
    "        else:\n",
    "            lossesAfter.append(None)\n",
    "    else:\n",
    "        decisions.append(None)\n",
    "        winsAfter.append(None)\n",
    "        lossesAfter.append(None)\n",
    "games_pitching['decision'] = decisions\n",
    "games_pitching['winsAfter'] = winsAfter\n",
    "games_pitching['lossesAfter'] = lossesAfter\n",
    "\n",
    "games_pitching.drop(['index', 'date', 'rslt', 'dec'], axis=1, inplace=True)"
   ]
  },
  {
   "cell_type": "code",
   "execution_count": 24,
   "metadata": {},
   "outputs": [],
   "source": [
    "# convert column data types\n",
    "cols_to_ints = ['day', 'rk', 'gcar', 'teamRuns', 'oppRuns', 'winsAfter', 'lossesAfter', \n",
    "                'dr', 'h', 'r', 'er', 'bb', 'so', 'hr', 'hbp', 'bf', 'pit', 'str', 'stl', 'sts',\n",
    "                'gb', 'fb', 'ld', 'pu', 'unk', 'gsc', 'ir', 'is', 'sb', 'cs', 'po', 'ab', \n",
    "                'double', 'triple', 'ibb', 'gdp', 'sf', 'roe']\n",
    "cols_to_floats = ['ip', 'era', 'ali', 'wpa', 're24', 'dfs(Dk)', 'dfs(Fd)']\n",
    "\n",
    "for c in cols_to_ints:\n",
    "    games_pitching[c] = pd.to_numeric(games_pitching[c], downcast='integer')\n",
    "\n",
    "for c in cols_to_floats:\n",
    "    games_pitching[c] = pd.to_numeric(games_pitching[c], errors='coerce')    "
   ]
  },
  {
   "cell_type": "code",
   "execution_count": 25,
   "metadata": {},
   "outputs": [],
   "source": [
    "# reorder cols\n",
    "gp_col_order = ['nameKey', 'year', 'month', 'day', 'rk', 'gcar', 'gtm', 'team',\n",
    "                'away', 'opp', 'result', 'teamRuns', 'oppRuns', 'decision',\n",
    "                'winsAfter', 'lossesAfter', 'inngs', 'dr', 'ip', 'h', 'r', 'er',\n",
    "                'bb', 'so', 'hr', 'hbp', 'era', 'bf', 'pit', 'str', 'stl', 'sts',\n",
    "                'gb', 'fb', 'ld', 'pu', 'unk', 'gsc', 'ir', 'is', 'sb', 'cs', \n",
    "                'po', 'ab', 'double', 'triple', 'ibb', 'gdp', 'sf', 'roe', 'ali', \n",
    "                'wpa', 're24', 'dfs(Dk)', 'dfs(Fd)', 'entered', 'exited']\n",
    "games_pitching = games_pitching[gp_col_order]\n",
    "games_pitching.to_sql('games_pitching_new', con, index=False)"
   ]
  },
  {
   "cell_type": "code",
   "execution_count": null,
   "metadata": {},
   "outputs": [],
   "source": []
  }
 ],
 "metadata": {
  "kernelspec": {
   "display_name": "Python 3",
   "language": "python",
   "name": "python3"
  },
  "language_info": {
   "codemirror_mode": {
    "name": "ipython",
    "version": 3
   },
   "file_extension": ".py",
   "mimetype": "text/x-python",
   "name": "python",
   "nbconvert_exporter": "python",
   "pygments_lexer": "ipython3",
   "version": "3.7.4"
  }
 },
 "nbformat": 4,
 "nbformat_minor": 2
}
