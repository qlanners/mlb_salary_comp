{
 "cells": [
  {
   "cell_type": "code",
   "execution_count": 1,
   "metadata": {},
   "outputs": [],
   "source": [
    "import pandas as pd\n",
    "import sqlite3"
   ]
  },
  {
   "cell_type": "code",
   "execution_count": 52,
   "metadata": {},
   "outputs": [
    {
     "data": {
      "text/plain": [
       "Index(['NAME', 'NAME_KEY', 'YEAR', 'TEAM', 'BATS', 'THROWS', 'HEIGHT',\n",
       "       'HEIGHT_CM', 'WEIGHT_LB', 'WEIGHT_KG', 'BIRTHDATE', 'BIRTHPLACE'],\n",
       "      dtype='object')"
      ]
     },
     "execution_count": 52,
     "metadata": {},
     "output_type": "execute_result"
    }
   ],
   "source": [
    "df = pd.read_csv('meta.csv')\n",
    "df.columns"
   ]
  },
  {
   "cell_type": "code",
   "execution_count": 13,
   "metadata": {
    "scrolled": true
   },
   "outputs": [
    {
     "data": {
      "text/plain": [
       "(5625, 10)"
      ]
     },
     "execution_count": 13,
     "metadata": {},
     "output_type": "execute_result"
    }
   ],
   "source": [
    "df = pd.read_csv('meta.csv')\n",
    "df = df[['NAME_KEY','NAME', 'BATS', 'THROWS', 'HEIGHT','HEIGHT_CM', 'WEIGHT_LB', 'WEIGHT_KG', 'BIRTHDATE', 'BIRTHPLACE']]\n",
    "df = df.drop_duplicates('NAME_KEY')\n",
    "df.shape"
   ]
  },
  {
   "cell_type": "code",
   "execution_count": 10,
   "metadata": {},
   "outputs": [
    {
     "data": {
      "text/plain": [
       "Index(['NAME', 'NAME_KEY', 'BATS', 'THROWS', 'HEIGHT', 'HEIGHT_CM',\n",
       "       'WEIGHT_LB', 'WEIGHT_KG', 'BIRTHDATE', 'BIRTHPLACE'],\n",
       "      dtype='object')"
      ]
     },
     "execution_count": 10,
     "metadata": {},
     "output_type": "execute_result"
    }
   ],
   "source": [
    "df.columns"
   ]
  },
  {
   "cell_type": "code",
   "execution_count": 21,
   "metadata": {},
   "outputs": [
    {
     "data": {
      "text/plain": [
       "<sqlite3.Cursor at 0x25d46ec7f10>"
      ]
     },
     "execution_count": 21,
     "metadata": {},
     "output_type": "execute_result"
    }
   ],
   "source": [
    "conn = sqlite3.connect('baseball_reference.sqlite')\n",
    "cur = conn.cursor()\n",
    "\n",
    "cur.execute(\"\"\"DROP TABLE IF EXISTS Meta\"\"\")\n",
    "\n",
    "cur.execute(\"\"\" CREATE TABLE Meta ( NAME TEXT,\n",
    "                                    NAME_KEY TEXT, \n",
    "                                    BATS TEXT, THROWS TEXT,\n",
    "                                    HEIGHT TEXT, HEIGHT_CM DECIMAL(5,2),\n",
    "                                    WEIGHT_LB INTEGER, WEIGHT_KG DECIMAL(5,2),\n",
    "                                    BIRTHDATE DATE, BIRTHPLACE TEXT)\"\"\")"
   ]
  },
  {
   "cell_type": "code",
   "execution_count": 22,
   "metadata": {},
   "outputs": [],
   "source": [
    "df.to_sql('Meta', con=conn, if_exists='append', index=False)"
   ]
  },
  {
   "cell_type": "code",
   "execution_count": 51,
   "metadata": {},
   "outputs": [
    {
     "data": {
      "text/plain": [
       "Index(['NAME', 'NAME_KEY', 'YEAR', 'ARRIVAL_DT', 'ARRIVAL_METHOD',\n",
       "       'WAS_DRAFTED', 'DRAFT_ROUND', 'SIGNED_DT', 'BIRTHDATE',\n",
       "       'AGE_WHEN_SIGNED', 'FREE_AGENT_DT', 'IS_FREE_AGENT_NOW',\n",
       "       'SEASON_START_DT', 'PLAYER_URL'],\n",
       "      dtype='object')"
      ]
     },
     "execution_count": 51,
     "metadata": {},
     "output_type": "execute_result"
    }
   ],
   "source": [
    "df = pd.read_csv('free_agents.csv')\n",
    "df.columns"
   ]
  },
  {
   "cell_type": "code",
   "execution_count": 29,
   "metadata": {},
   "outputs": [],
   "source": [
    "df = pd.read_csv('free_agents.csv')\n",
    "df.columns\n",
    "df = df[['NAME_KEY', 'NAME', 'YEAR', 'ARRIVAL_DT', 'ARRIVAL_METHOD',\n",
    "       'WAS_DRAFTED', 'DRAFT_ROUND', 'SIGNED_DT',\n",
    "       'AGE_WHEN_SIGNED', 'FREE_AGENT_DT', 'IS_FREE_AGENT_NOW',\n",
    "       'SEASON_START_DT', 'PLAYER_URL']]"
   ]
  },
  {
   "cell_type": "code",
   "execution_count": 30,
   "metadata": {},
   "outputs": [
    {
     "data": {
      "text/html": [
       "<div>\n",
       "<style scoped>\n",
       "    .dataframe tbody tr th:only-of-type {\n",
       "        vertical-align: middle;\n",
       "    }\n",
       "\n",
       "    .dataframe tbody tr th {\n",
       "        vertical-align: top;\n",
       "    }\n",
       "\n",
       "    .dataframe thead th {\n",
       "        text-align: right;\n",
       "    }\n",
       "</style>\n",
       "<table border=\"1\" class=\"dataframe\">\n",
       "  <thead>\n",
       "    <tr style=\"text-align: right;\">\n",
       "      <th></th>\n",
       "      <th>NAME_KEY</th>\n",
       "      <th>NAME</th>\n",
       "      <th>YEAR</th>\n",
       "      <th>ARRIVAL_DT</th>\n",
       "      <th>ARRIVAL_METHOD</th>\n",
       "      <th>WAS_DRAFTED</th>\n",
       "      <th>DRAFT_ROUND</th>\n",
       "      <th>SIGNED_DT</th>\n",
       "      <th>AGE_WHEN_SIGNED</th>\n",
       "      <th>FREE_AGENT_DT</th>\n",
       "      <th>IS_FREE_AGENT_NOW</th>\n",
       "      <th>SEASON_START_DT</th>\n",
       "      <th>PLAYER_URL</th>\n",
       "    </tr>\n",
       "  </thead>\n",
       "  <tbody>\n",
       "    <tr>\n",
       "      <td>0</td>\n",
       "      <td>molinbe01</td>\n",
       "      <td>Bengie Molina</td>\n",
       "      <td>2000</td>\n",
       "      <td>1993-05-23</td>\n",
       "      <td>Signed</td>\n",
       "      <td>no</td>\n",
       "      <td>not drafted</td>\n",
       "      <td>1993-05-23</td>\n",
       "      <td>18</td>\n",
       "      <td>1993-05-23</td>\n",
       "      <td>yes</td>\n",
       "      <td>2000-03-29</td>\n",
       "      <td>https://www.baseball-reference.com/players/m/m...</td>\n",
       "    </tr>\n",
       "    <tr>\n",
       "      <td>1</td>\n",
       "      <td>vaughmo01</td>\n",
       "      <td>Mo Vaughn</td>\n",
       "      <td>2000</td>\n",
       "      <td>1989-06-05</td>\n",
       "      <td>Drafted</td>\n",
       "      <td>yes</td>\n",
       "      <td>1st round</td>\n",
       "      <td>1989-06-20</td>\n",
       "      <td>21</td>\n",
       "      <td>1998-10-23</td>\n",
       "      <td>yes</td>\n",
       "      <td>2000-03-29</td>\n",
       "      <td>https://www.baseball-reference.com/players/v/v...</td>\n",
       "    </tr>\n",
       "    <tr>\n",
       "      <td>2</td>\n",
       "      <td>kennead01</td>\n",
       "      <td>Adam Kennedy</td>\n",
       "      <td>2000</td>\n",
       "      <td>1997-06-03</td>\n",
       "      <td>Drafted</td>\n",
       "      <td>yes</td>\n",
       "      <td>1st round</td>\n",
       "      <td>1997-06-18</td>\n",
       "      <td>21</td>\n",
       "      <td>2006-10-15</td>\n",
       "      <td>no</td>\n",
       "      <td>2000-03-29</td>\n",
       "      <td>https://www.baseball-reference.com/players/k/k...</td>\n",
       "    </tr>\n",
       "    <tr>\n",
       "      <td>3</td>\n",
       "      <td>gilbe01</td>\n",
       "      <td>Benji Gil</td>\n",
       "      <td>2000</td>\n",
       "      <td>1991-06-03</td>\n",
       "      <td>Drafted</td>\n",
       "      <td>yes</td>\n",
       "      <td>1st round</td>\n",
       "      <td>1991-07-19</td>\n",
       "      <td>18</td>\n",
       "      <td>1999-10-15</td>\n",
       "      <td>yes</td>\n",
       "      <td>2000-03-29</td>\n",
       "      <td>https://www.baseball-reference.com/players/g/g...</td>\n",
       "    </tr>\n",
       "    <tr>\n",
       "      <td>4</td>\n",
       "      <td>glaustr01</td>\n",
       "      <td>Troy Glaus</td>\n",
       "      <td>2000</td>\n",
       "      <td>1997-06-03</td>\n",
       "      <td>Drafted</td>\n",
       "      <td>yes</td>\n",
       "      <td>1st round</td>\n",
       "      <td>1997-09-29</td>\n",
       "      <td>21</td>\n",
       "      <td>2004-10-28</td>\n",
       "      <td>no</td>\n",
       "      <td>2000-03-29</td>\n",
       "      <td>https://www.baseball-reference.com/players/g/g...</td>\n",
       "    </tr>\n",
       "  </tbody>\n",
       "</table>\n",
       "</div>"
      ],
      "text/plain": [
       "    NAME_KEY           NAME  YEAR  ARRIVAL_DT ARRIVAL_METHOD WAS_DRAFTED  \\\n",
       "0  molinbe01  Bengie Molina  2000  1993-05-23         Signed          no   \n",
       "1  vaughmo01      Mo Vaughn  2000  1989-06-05        Drafted         yes   \n",
       "2  kennead01   Adam Kennedy  2000  1997-06-03        Drafted         yes   \n",
       "3    gilbe01      Benji Gil  2000  1991-06-03        Drafted         yes   \n",
       "4  glaustr01     Troy Glaus  2000  1997-06-03        Drafted         yes   \n",
       "\n",
       "   DRAFT_ROUND   SIGNED_DT  AGE_WHEN_SIGNED FREE_AGENT_DT IS_FREE_AGENT_NOW  \\\n",
       "0  not drafted  1993-05-23               18    1993-05-23               yes   \n",
       "1    1st round  1989-06-20               21    1998-10-23               yes   \n",
       "2    1st round  1997-06-18               21    2006-10-15                no   \n",
       "3    1st round  1991-07-19               18    1999-10-15               yes   \n",
       "4    1st round  1997-09-29               21    2004-10-28                no   \n",
       "\n",
       "  SEASON_START_DT                                         PLAYER_URL  \n",
       "0      2000-03-29  https://www.baseball-reference.com/players/m/m...  \n",
       "1      2000-03-29  https://www.baseball-reference.com/players/v/v...  \n",
       "2      2000-03-29  https://www.baseball-reference.com/players/k/k...  \n",
       "3      2000-03-29  https://www.baseball-reference.com/players/g/g...  \n",
       "4      2000-03-29  https://www.baseball-reference.com/players/g/g...  "
      ]
     },
     "execution_count": 30,
     "metadata": {},
     "output_type": "execute_result"
    }
   ],
   "source": [
    "df.head()"
   ]
  },
  {
   "cell_type": "code",
   "execution_count": 31,
   "metadata": {},
   "outputs": [
    {
     "data": {
      "text/plain": [
       "NAME_KEY             object\n",
       "NAME                 object\n",
       "YEAR                  int64\n",
       "ARRIVAL_DT           object\n",
       "ARRIVAL_METHOD       object\n",
       "WAS_DRAFTED          object\n",
       "DRAFT_ROUND          object\n",
       "SIGNED_DT            object\n",
       "AGE_WHEN_SIGNED       int64\n",
       "FREE_AGENT_DT        object\n",
       "IS_FREE_AGENT_NOW    object\n",
       "SEASON_START_DT      object\n",
       "PLAYER_URL           object\n",
       "dtype: object"
      ]
     },
     "execution_count": 31,
     "metadata": {},
     "output_type": "execute_result"
    }
   ],
   "source": [
    "df.dtypes"
   ]
  },
  {
   "cell_type": "code",
   "execution_count": 35,
   "metadata": {},
   "outputs": [
    {
     "data": {
      "text/plain": [
       "<sqlite3.Cursor at 0x25d44d45a40>"
      ]
     },
     "execution_count": 35,
     "metadata": {},
     "output_type": "execute_result"
    }
   ],
   "source": [
    "conn = sqlite3.connect('baseball_reference.sqlite')\n",
    "cur = conn.cursor()\n",
    "\n",
    "cur.execute(\"\"\"DROP TABLE IF EXISTS Free_agents\"\"\")\n",
    "\n",
    "cur.execute(\"\"\" CREATE TABLE Free_agents ( NAME_KEY TEXT,\n",
    "                                    NAME TEXT, YEAR INTEGER, ARRIVAL_DT DATE,\n",
    "                                    ARRIVAL_METHOD TEXT, WAS_DRAFTED TEXT, DRAFT_ROUND TEXT,\n",
    "                                    SIGNED_DT DATE, AGE_WHEN_SIGNED INTEGER, FREE_AGENT_DT DATE,\n",
    "                                    IS_FREE_AGENT_NOW TEXT, SEASON_START_DT DATE, PLAYER_URL TEXT )\"\"\")"
   ]
  },
  {
   "cell_type": "code",
   "execution_count": 36,
   "metadata": {},
   "outputs": [],
   "source": [
    "df.to_sql('Free_agents', con=conn, if_exists='append', index=False)"
   ]
  },
  {
   "cell_type": "code",
   "execution_count": 37,
   "metadata": {},
   "outputs": [
    {
     "data": {
      "text/plain": [
       "Index(['NAME', 'NAME_KEY', 'TM', 'LEAGUE', 'YEAR', 'G', 'PA', 'RBAT', 'RBASER',\n",
       "       'RDP', 'RFIELD', 'RPOS', 'RAA', 'WAA', 'RREP', 'RAR', 'WAR', 'WAAWL%',\n",
       "       '162WL%', 'OWAR', 'DWAR', 'ORAR', 'SALARY', 'ACQUIRED'],\n",
       "      dtype='object')"
      ]
     },
     "execution_count": 37,
     "metadata": {},
     "output_type": "execute_result"
    }
   ],
   "source": [
    "df = pd.read_csv('player_value_batting.csv')\n",
    "df.columns"
   ]
  },
  {
   "cell_type": "code",
   "execution_count": 38,
   "metadata": {
    "scrolled": true
   },
   "outputs": [
    {
     "data": {
      "text/html": [
       "<div>\n",
       "<style scoped>\n",
       "    .dataframe tbody tr th:only-of-type {\n",
       "        vertical-align: middle;\n",
       "    }\n",
       "\n",
       "    .dataframe tbody tr th {\n",
       "        vertical-align: top;\n",
       "    }\n",
       "\n",
       "    .dataframe thead th {\n",
       "        text-align: right;\n",
       "    }\n",
       "</style>\n",
       "<table border=\"1\" class=\"dataframe\">\n",
       "  <thead>\n",
       "    <tr style=\"text-align: right;\">\n",
       "      <th></th>\n",
       "      <th>NAME</th>\n",
       "      <th>NAME_KEY</th>\n",
       "      <th>TM</th>\n",
       "      <th>LEAGUE</th>\n",
       "      <th>YEAR</th>\n",
       "      <th>G</th>\n",
       "      <th>PA</th>\n",
       "      <th>RBAT</th>\n",
       "      <th>RBASER</th>\n",
       "      <th>RDP</th>\n",
       "      <th>...</th>\n",
       "      <th>RREP</th>\n",
       "      <th>RAR</th>\n",
       "      <th>WAR</th>\n",
       "      <th>WAAWL%</th>\n",
       "      <th>162WL%</th>\n",
       "      <th>OWAR</th>\n",
       "      <th>DWAR</th>\n",
       "      <th>ORAR</th>\n",
       "      <th>SALARY</th>\n",
       "      <th>ACQUIRED</th>\n",
       "    </tr>\n",
       "  </thead>\n",
       "  <tbody>\n",
       "    <tr>\n",
       "      <td>0</td>\n",
       "      <td>Jeff Abbott</td>\n",
       "      <td>abbotje01</td>\n",
       "      <td>CHW</td>\n",
       "      <td>AL</td>\n",
       "      <td>2000</td>\n",
       "      <td>80</td>\n",
       "      <td>242.0</td>\n",
       "      <td>-7</td>\n",
       "      <td>1</td>\n",
       "      <td>1</td>\n",
       "      <td>...</td>\n",
       "      <td>9.0</td>\n",
       "      <td>-3.0</td>\n",
       "      <td>-0.3</td>\n",
       "      <td>0.486</td>\n",
       "      <td>0.493</td>\n",
       "      <td>0.3</td>\n",
       "      <td>-0.6</td>\n",
       "      <td>2.0</td>\n",
       "      <td>255000.0</td>\n",
       "      <td>Amateur Draft</td>\n",
       "    </tr>\n",
       "    <tr>\n",
       "      <td>1</td>\n",
       "      <td>Paul Abbott</td>\n",
       "      <td>abbotpa01</td>\n",
       "      <td>SEA</td>\n",
       "      <td>AL</td>\n",
       "      <td>2000</td>\n",
       "      <td>2</td>\n",
       "      <td>6.0</td>\n",
       "      <td>0</td>\n",
       "      <td>0</td>\n",
       "      <td>0</td>\n",
       "      <td>...</td>\n",
       "      <td>0.0</td>\n",
       "      <td>1.0</td>\n",
       "      <td>0.1</td>\n",
       "      <td>0.554</td>\n",
       "      <td>0.501</td>\n",
       "      <td>0.1</td>\n",
       "      <td>0.0</td>\n",
       "      <td>1.0</td>\n",
       "      <td>285000.0</td>\n",
       "      <td>Free Agency</td>\n",
       "    </tr>\n",
       "    <tr>\n",
       "      <td>2</td>\n",
       "      <td>Israel Alcantara</td>\n",
       "      <td>alcanis01</td>\n",
       "      <td>BOS</td>\n",
       "      <td>AL</td>\n",
       "      <td>2000</td>\n",
       "      <td>21</td>\n",
       "      <td>48.0</td>\n",
       "      <td>2</td>\n",
       "      <td>1</td>\n",
       "      <td>0</td>\n",
       "      <td>...</td>\n",
       "      <td>2.0</td>\n",
       "      <td>3.0</td>\n",
       "      <td>0.3</td>\n",
       "      <td>0.505</td>\n",
       "      <td>0.501</td>\n",
       "      <td>0.3</td>\n",
       "      <td>-0.2</td>\n",
       "      <td>3.0</td>\n",
       "      <td>200000.0</td>\n",
       "      <td>Free Agency</td>\n",
       "    </tr>\n",
       "    <tr>\n",
       "      <td>3</td>\n",
       "      <td>Manny Alexander</td>\n",
       "      <td>alexama02</td>\n",
       "      <td>BOS</td>\n",
       "      <td>AL</td>\n",
       "      <td>2000</td>\n",
       "      <td>101</td>\n",
       "      <td>209.0</td>\n",
       "      <td>-18</td>\n",
       "      <td>1</td>\n",
       "      <td>1</td>\n",
       "      <td>...</td>\n",
       "      <td>8.0</td>\n",
       "      <td>-8.0</td>\n",
       "      <td>-0.7</td>\n",
       "      <td>0.485</td>\n",
       "      <td>0.491</td>\n",
       "      <td>-0.6</td>\n",
       "      <td>0.1</td>\n",
       "      <td>-6.0</td>\n",
       "      <td>612500.0</td>\n",
       "      <td>Traded</td>\n",
       "    </tr>\n",
       "    <tr>\n",
       "      <td>4</td>\n",
       "      <td>Luis Alicea</td>\n",
       "      <td>alicelu01</td>\n",
       "      <td>TEX</td>\n",
       "      <td>AL</td>\n",
       "      <td>2000</td>\n",
       "      <td>139</td>\n",
       "      <td>619.0</td>\n",
       "      <td>-4</td>\n",
       "      <td>1</td>\n",
       "      <td>-1</td>\n",
       "      <td>...</td>\n",
       "      <td>23.0</td>\n",
       "      <td>11.0</td>\n",
       "      <td>1.1</td>\n",
       "      <td>0.492</td>\n",
       "      <td>0.493</td>\n",
       "      <td>2.1</td>\n",
       "      <td>-0.6</td>\n",
       "      <td>21.0</td>\n",
       "      <td>750000.0</td>\n",
       "      <td>Free Agency</td>\n",
       "    </tr>\n",
       "  </tbody>\n",
       "</table>\n",
       "<p>5 rows × 24 columns</p>\n",
       "</div>"
      ],
      "text/plain": [
       "               NAME   NAME_KEY   TM LEAGUE  YEAR    G     PA  RBAT  RBASER  \\\n",
       "0       Jeff Abbott  abbotje01  CHW     AL  2000   80  242.0    -7       1   \n",
       "1       Paul Abbott  abbotpa01  SEA     AL  2000    2    6.0     0       0   \n",
       "2  Israel Alcantara  alcanis01  BOS     AL  2000   21   48.0     2       1   \n",
       "3   Manny Alexander  alexama02  BOS     AL  2000  101  209.0   -18       1   \n",
       "4       Luis Alicea  alicelu01  TEX     AL  2000  139  619.0    -4       1   \n",
       "\n",
       "   RDP  ...  RREP   RAR  WAR  WAAWL%  162WL%  OWAR  DWAR  ORAR    SALARY  \\\n",
       "0    1  ...   9.0  -3.0 -0.3   0.486   0.493   0.3  -0.6   2.0  255000.0   \n",
       "1    0  ...   0.0   1.0  0.1   0.554   0.501   0.1   0.0   1.0  285000.0   \n",
       "2    0  ...   2.0   3.0  0.3   0.505   0.501   0.3  -0.2   3.0  200000.0   \n",
       "3    1  ...   8.0  -8.0 -0.7   0.485   0.491  -0.6   0.1  -6.0  612500.0   \n",
       "4   -1  ...  23.0  11.0  1.1   0.492   0.493   2.1  -0.6  21.0  750000.0   \n",
       "\n",
       "        ACQUIRED  \n",
       "0  Amateur Draft  \n",
       "1    Free Agency  \n",
       "2    Free Agency  \n",
       "3         Traded  \n",
       "4    Free Agency  \n",
       "\n",
       "[5 rows x 24 columns]"
      ]
     },
     "execution_count": 38,
     "metadata": {},
     "output_type": "execute_result"
    }
   ],
   "source": [
    "df.head()"
   ]
  },
  {
   "cell_type": "code",
   "execution_count": 44,
   "metadata": {
    "scrolled": true
   },
   "outputs": [
    {
     "data": {
      "text/plain": [
       "NAME          object\n",
       "NAME_KEY      object\n",
       "TM            object\n",
       "LEAGUE        object\n",
       "YEAR           int64\n",
       "G              int64\n",
       "PA           float64\n",
       "RBAT           int64\n",
       "RBASER         int64\n",
       "RDP            int64\n",
       "RFIELD         int64\n",
       "RPOS         float64\n",
       "RAA          float64\n",
       "WAA          float64\n",
       "RREP         float64\n",
       "RAR          float64\n",
       "WAR          float64\n",
       "pct_WAAWL    float64\n",
       "pct_162WL    float64\n",
       "OWAR         float64\n",
       "DWAR         float64\n",
       "ORAR         float64\n",
       "SALARY       float64\n",
       "ACQUIRED      object\n",
       "dtype: object"
      ]
     },
     "execution_count": 44,
     "metadata": {},
     "output_type": "execute_result"
    }
   ],
   "source": [
    "df = df.rename(columns={\"WAAWL%\": \"pct_WAAWL\", \"162WL%\": \"pct_162WL\"})\n",
    "df.dtypes"
   ]
  },
  {
   "cell_type": "code",
   "execution_count": 49,
   "metadata": {},
   "outputs": [
    {
     "data": {
      "text/plain": [
       "<sqlite3.Cursor at 0x25d4712f960>"
      ]
     },
     "execution_count": 49,
     "metadata": {},
     "output_type": "execute_result"
    }
   ],
   "source": [
    "conn = sqlite3.connect('baseball_reference.sqlite')\n",
    "cur = conn.cursor()\n",
    "\n",
    "cur.execute(\"\"\"DROP TABLE IF EXISTS player_value_batting\"\"\")\n",
    "\n",
    "cur.execute(\"\"\" CREATE TABLE player_value_batting ( NAME TEXT, NAME_KEY TEXT, \n",
    "                                                     TM TEXT, LEAGUE TEXT, YEAR INTEGER,\n",
    "                                                     G INTEGER, PA DECIMAL(6,2), RBAT INTEGER,\n",
    "                                                     RBASER INTEGER, RDP INTEGER, RFIELD INTEGER,\n",
    "                                                     RPOS DECIMAL(6,3), RAA DECIMAL(6,3), WAA DECIMAL(6,3),\n",
    "                                                     RREP DECIMAL(6,3), RAR DECIMAL(6,3), WAR DECIMAL(6,3),\n",
    "                                                     pct_WAAWL DECIMAL(6,3), pct_162WL DECIMAL(6,3), OWAR DECIMAL(6,3),\n",
    "                                                     DWAR DECIMAL(6,3), ORAR DECIMAL(6,3), SALARY DECIMAL(15,2) , ACQUIRED TEXT)\"\"\")"
   ]
  },
  {
   "cell_type": "code",
   "execution_count": 50,
   "metadata": {},
   "outputs": [],
   "source": [
    "df.to_sql('player_value_batting', con=conn, if_exists='append', index=False)"
   ]
  },
  {
   "cell_type": "code",
   "execution_count": null,
   "metadata": {},
   "outputs": [],
   "source": []
  }
 ],
 "metadata": {
  "kernelspec": {
   "display_name": "Python 3",
   "language": "python",
   "name": "python3"
  },
  "language_info": {
   "codemirror_mode": {
    "name": "ipython",
    "version": 3
   },
   "file_extension": ".py",
   "mimetype": "text/x-python",
   "name": "python",
   "nbconvert_exporter": "python",
   "pygments_lexer": "ipython3",
   "version": "3.7.4"
  }
 },
 "nbformat": 4,
 "nbformat_minor": 2
}
